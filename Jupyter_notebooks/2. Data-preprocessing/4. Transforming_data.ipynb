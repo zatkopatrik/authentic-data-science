{
 "cells": [
  {
   "cell_type": "markdown",
   "metadata": {},
   "source": [
    "# Transforming the data"
   ]
  },
  {
   "cell_type": "code",
   "execution_count": null,
   "metadata": {},
   "outputs": [],
   "source": [
    "# Import pandas\n",
    "import pandas as pd"
   ]
  },
  {
   "cell_type": "markdown",
   "metadata": {},
   "source": [
    "# 1. `.map()` method\n",
    "\n",
    "- this method on Series accepts a function or dict-like object containing a mapping\n",
    "- it is a convenient way to perform element-wise transformations and other data cleaning-related operations\n",
    "- it takes a function as a parameter along with a sequence of iterables (list, tuple, dictionary, set, or Series) and returns an output after applying the function to each iterable which is present in the sequence\n",
    "- the resulting values can be passed to `list()` function or `set()` function to create a list or a set\n",
    "\n",
    "Example code:\n",
    "\n",
    "`map(function, iterable)`"
   ]
  },
  {
   "cell_type": "code",
   "execution_count": null,
   "metadata": {},
   "outputs": [],
   "source": [
    "# Run this code\n",
    "our_list = ['This', 'is', 'the', 'first', 'example']"
   ]
  },
  {
   "cell_type": "code",
   "execution_count": null,
   "metadata": {},
   "outputs": [],
   "source": [
    "# Use .map() method to get the length of the words in our_list\n",
    "# Pass .list() function to create a list of resulting values\n",
    "result = list(map(len, our_list))\n",
    "print(result)"
   ]
  },
  {
   "cell_type": "markdown",
   "metadata": {},
   "source": [
    "In the above example, `.map()` method iterates over the our_list, applies function on each element and return the length of the strings as a new list."
   ]
  },
  {
   "cell_type": "markdown",
   "metadata": {},
   "source": [
    "Here, we create function triple and pandas Series numbers that will be our iterable."
   ]
  },
  {
   "cell_type": "code",
   "execution_count": null,
   "metadata": {},
   "outputs": [],
   "source": [
    "# Run this code \n",
    "def triple(x):\n",
    "  return x * 3"
   ]
  },
  {
   "cell_type": "code",
   "execution_count": null,
   "metadata": {},
   "outputs": [],
   "source": [
    "# Run this code\n",
    "numbers = pd.Series([15, 4, 8, 45, 36, 7])"
   ]
  },
  {
   "cell_type": "code",
   "execution_count": null,
   "metadata": {},
   "outputs": [],
   "source": [
    "# TASK 1 >>>> Apply .map() method with function triple on pandas Series 'numbers' and store it in variable result_2 \n",
    "#             Print the result_2 (the result should by numbers multiply by 3)"
   ]
  },
  {
   "cell_type": "markdown",
   "metadata": {},
   "source": [
    "# 2. `.apply()` method\n",
    "\n",
    "- this method applies a function along an axis of the DataFrame $^{1}$ \n",
    "- it also works elementwise but is suited to more complex functions and operations\n",
    "\n",
    "You can find nice comparison of `.map()` and `.apply()` methods and when to use them in [this article on stackoverflow](https://stackoverflow.com/questions/19798153/difference-between-map-applymap-and-apply-methods-in-pandas) "
   ]
  },
  {
   "cell_type": "code",
   "execution_count": null,
   "metadata": {},
   "outputs": [],
   "source": [
    "# Run this code\n",
    "students = [(1, 'Robert', 30, 'Slovakia', 26),\n",
    "           (2, 'Jana', 29, 'Sweden' , 27),\n",
    "           (3, 'Martin', 31, 'Sweden', 26),\n",
    "           (4, 'Kristina', 26,'Germany' , 30),\n",
    "           (5, 'Peter', 33, 'Austria' , 22),\n",
    "           (6, 'Nikola', 25, 'USA', 23),\n",
    "           (7, 'Andrej', 25, 'USA', 26)]\n",
    "\n",
    "students_1 = pd.DataFrame(students, columns= ['student_id', 'first_name', 'age', 'city', 'score'])\n",
    "print(students_1)"
   ]
  },
  {
   "cell_type": "markdown",
   "metadata": {},
   "source": [
    "`.apply()` method accepts user-defined function that applies a transformation/aggregation on a DataFrame (or Series) as well."
   ]
  },
  {
   "cell_type": "code",
   "execution_count": null,
   "metadata": {},
   "outputs": [],
   "source": [
    "# Run this code to create regular function\n",
    "def score_func(x): \n",
    "    if x < 25: \n",
    "        return \"Retake exam\" \n",
    "    else: \n",
    "        return \"Pass\""
   ]
  },
  {
   "cell_type": "code",
   "execution_count": null,
   "metadata": {},
   "outputs": [],
   "source": [
    "# Use .apply() along with score_func that \n",
    "students_1['result'] = students_1.score.apply(score_func)\n",
    "print(students_1)"
   ]
  },
  {
   "cell_type": "markdown",
   "metadata": {},
   "source": [
    "As we already know, regular functions are created using `def` keyword. These type of functions can have any number of arguments and expressions."
   ]
  },
  {
   "cell_type": "code",
   "execution_count": null,
   "metadata": {},
   "outputs": [],
   "source": [
    "# Example of regular function\n",
    "def multi_add(x):\n",
    "    return x * 2 + 5"
   ]
  },
  {
   "cell_type": "code",
   "execution_count": null,
   "metadata": {},
   "outputs": [],
   "source": [
    "result_1 = multi_add(5)\n",
    "print(result_1)"
   ]
  },
  {
   "cell_type": "markdown",
   "metadata": {},
   "source": [
    "Let's compare this regular function `multi_add` with another type of functions that are called `lambda`.\n",
    "\n",
    "**Lambda Function**:\n",
    "\n",
    "- it is an anonymous function (it means that it's defined without the name)\n",
    "- lambda can have any number of parameters, but the function body can only **contain one expression** (you can not write multiple statements in the body of lambda function) = it is used for *one-line expressions*\n",
    "- it returns a function object which can be assigned to variable\n",
    "\n",
    "General syntax: `lambda x: x`"
   ]
  },
  {
   "cell_type": "code",
   "execution_count": null,
   "metadata": {},
   "outputs": [],
   "source": [
    "# Example oflambda function\n",
    "our_lambda = lambda x: x * 2 + 5\n",
    "print(our_lambda(5))"
   ]
  },
  {
   "cell_type": "markdown",
   "metadata": {},
   "source": [
    "This simple lambda function takes input x (in our case number 5), multiply it by 2 and add 5.\n",
    "Lambda functions are commonly used along `.apply()` method and can be really useful.\n",
    "\n",
    "For now, imagine that the score of students has not been correctly recorded and we need to multiply it with 10. We use lambda function along with `apply()` and assign it to the specific column of the dataset ('score'). "
   ]
  },
  {
   "cell_type": "code",
   "execution_count": null,
   "metadata": {},
   "outputs": [],
   "source": [
    "students_1.score = students_1.score.apply(lambda x: x * 10)\n",
    "print(students_1)"
   ]
  },
  {
   "cell_type": "code",
   "execution_count": null,
   "metadata": {},
   "outputs": [],
   "source": [
    "# TASK 2 >>>> Use .apply() method on column 'city' along with lambda to make words uppercase \n",
    "#             Do not forget assign it to this column"
   ]
  },
  {
   "cell_type": "markdown",
   "metadata": {},
   "source": [
    "# References\n",
    "\n",
    "$^{1}$ pandas. pandas.DataFrame.apply. [ONLINE] Available at: https://pandas.pydata.org/pandas-docs/stable/reference/api/pandas.DataFrame.apply.html#pandas-dataframe-apply. [Accessed 14 September 2020].\n",
    "\n",
    "Stackoverflow. Difference between map, applymap and apply methods in Pandas. [ONLINE] Available at: https://stackoverflow.com/questions/19798153/difference-between-map-applymap-and-apply-methods-in-pandas. [Accessed 14 September 2020]."
   ]
  }
 ],
 "metadata": {
  "kernelspec": {
   "display_name": "Python 3",
   "language": "python",
   "name": "python3"
  },
  "language_info": {
   "codemirror_mode": {
    "name": "ipython",
    "version": 3
   },
   "file_extension": ".py",
   "mimetype": "text/x-python",
   "name": "python",
   "nbconvert_exporter": "python",
   "pygments_lexer": "ipython3",
   "version": "3.7.7"
  }
 },
 "nbformat": 4,
 "nbformat_minor": 4
}
