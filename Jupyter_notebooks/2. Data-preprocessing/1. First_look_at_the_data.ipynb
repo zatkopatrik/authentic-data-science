{
 "cells": [
  {
   "cell_type": "code",
   "execution_count": null,
   "metadata": {
    "colab": {},
    "colab_type": "code",
    "id": "s2rFPeMMpD7f"
   },
   "outputs": [],
   "source": [
    "# data source: https://www.epa.gov/compliance-and-fuel-economy-data/data-cars-used-testing-fuel-economy"
   ]
  },
  {
   "cell_type": "markdown",
   "metadata": {
    "colab_type": "text",
    "id": "roEeHUPqoPBi"
   },
   "source": [
    "# 1. Must-do Exploration\n",
    "In this section we will be exploring the data on Cars used for Testing fuel economy (car models are from year 2010)."
   ]
  },
  {
   "cell_type": "code",
   "execution_count": null,
   "metadata": {
    "colab": {},
    "colab_type": "code",
    "id": "7YmpygMU9h7u"
   },
   "outputs": [],
   "source": [
    "# TASK 1 >>>\n",
    "# Import pandas as pd\n",
    "# Import numpy as np\n",
    "# Load the dataset 'Datasets/fuel_economy_data_2010.csv' using pd.read_csv('...', index_col = 0) and store it in variable data\n"
   ]
  },
  {
   "cell_type": "code",
   "execution_count": null,
   "metadata": {
    "colab": {},
    "colab_type": "code",
    "id": "DXfQrTO8t0Fj"
   },
   "outputs": [],
   "source": [
    "# TASK 2 >>> Display the first five rows of the DataFrame using .head() method\n"
   ]
  },
  {
   "cell_type": "code",
   "execution_count": null,
   "metadata": {
    "colab": {},
    "colab_type": "code",
    "id": "3ygUJDSsuBqR"
   },
   "outputs": [],
   "source": [
    "# TASK 3 >>> Display the last five rows of the DataFrame using .tail() method\n"
   ]
  },
  {
   "cell_type": "code",
   "execution_count": null,
   "metadata": {
    "colab": {},
    "colab_type": "code",
    "id": "I5zCoFwww5HG"
   },
   "outputs": [],
   "source": [
    "# Display 15 random elements from the dataset using .sample() method (by setting parameter n = 15)\n",
    "data.sample(n=15)"
   ]
  },
  {
   "cell_type": "code",
   "execution_count": null,
   "metadata": {
    "colab": {},
    "colab_type": "code",
    "id": "5tQwLXSg42qB"
   },
   "outputs": [],
   "source": [
    "# Display 5 random elements from the column 'Test Veh Displacement (L)' using .sample(n = 5)\n",
    "data['Test Veh Displacement (L)'].sample(n = 5)"
   ]
  },
  {
   "cell_type": "code",
   "execution_count": null,
   "metadata": {
    "colab": {},
    "colab_type": "code",
    "id": "g_IUgjp8wuzB"
   },
   "outputs": [],
   "source": [
    "# TASK 4 >>> Display the shape of the dataset using attribute .shape\n"
   ]
  },
  {
   "cell_type": "code",
   "execution_count": null,
   "metadata": {
    "colab": {},
    "colab_type": "code",
    "id": "Lfg7GpFJ6Vmx"
   },
   "outputs": [],
   "source": [
    "# Display the short summary of the dataframe using .info() method by setting argument verbose = False\n",
    "data.info(verbose = False)"
   ]
  },
  {
   "cell_type": "code",
   "execution_count": null,
   "metadata": {
    "colab": {},
    "colab_type": "code",
    "id": "U53PzCgM4wUx"
   },
   "outputs": [],
   "source": [
    "# TASK 5 >>> Display a basic summary of the DataFrame using .info() method\n"
   ]
  },
  {
   "cell_type": "code",
   "execution_count": null,
   "metadata": {
    "colab": {},
    "colab_type": "code",
    "id": "rbIXPXNlCsIF"
   },
   "outputs": [],
   "source": [
    "# TASK 6 >>> Display columns in the dataframe using .columns attribute\n"
   ]
  },
  {
   "cell_type": "code",
   "execution_count": null,
   "metadata": {
    "colab": {},
    "colab_type": "code",
    "id": "f2KlOaOOCvSp"
   },
   "outputs": [],
   "source": [
    "# TASK 7 >>> Display data types of the variables using .dtypes attribute\n"
   ]
  },
  {
   "cell_type": "markdown",
   "metadata": {
    "colab_type": "text",
    "id": "iHcq7cxP3mqJ"
   },
   "source": [
    "# 2. Exploring columns"
   ]
  },
  {
   "cell_type": "code",
   "execution_count": null,
   "metadata": {
    "colab": {},
    "colab_type": "code",
    "id": "85c3NT7VDiKX"
   },
   "outputs": [],
   "source": [
    "# Display a subset of the dataframe’s columns based on the column's data types, using .select_dtypes() method \n",
    "# Sett parameter include=['float64','int64']\n",
    "data.select_dtypes(include=['float64', 'int64'])"
   ]
  },
  {
   "cell_type": "code",
   "execution_count": null,
   "metadata": {
    "colab": {},
    "colab_type": "code",
    "id": "UV_xWkCg7M0V"
   },
   "outputs": [],
   "source": [
    "# TASK 8 >>> Display descriptive statistics using .describe() method\n"
   ]
  },
  {
   "cell_type": "code",
   "execution_count": null,
   "metadata": {
    "colab": {},
    "colab_type": "code",
    "id": "vSu1RSIQ90L5"
   },
   "outputs": [],
   "source": [
    "# Display summary statistics of all columns of the dataframe regardless of data type by setting argument include = 'all'\n",
    "data.describe(include = 'all')"
   ]
  },
  {
   "cell_type": "code",
   "execution_count": null,
   "metadata": {
    "colab": {},
    "colab_type": "code",
    "id": "qxR4UltI_f33"
   },
   "outputs": [],
   "source": [
    "# Display summary statistics of string columns only by setting argument include=[object]\n",
    "data.describe(include = [object])"
   ]
  },
  {
   "cell_type": "markdown",
   "metadata": {
    "colab_type": "text",
    "id": "40dqC9cI4pA6"
   },
   "source": [
    "# 3. Exploring particular column\n",
    " "
   ]
  },
  {
   "cell_type": "code",
   "execution_count": null,
   "metadata": {
    "colab": {},
    "colab_type": "code",
    "id": "PAx6en2dHgM1"
   },
   "outputs": [],
   "source": [
    "# Display counts of unique values of the column 'Tested Transmission Type' using .value_counts() method\n",
    "data['Tested Transmission Type'].value_counts()"
   ]
  },
  {
   "cell_type": "code",
   "execution_count": null,
   "metadata": {
    "colab": {},
    "colab_type": "code",
    "id": "YukcMMnzHHyw"
   },
   "outputs": [],
   "source": [
    "# Display relative frequencies of the unique values of the column 'Tested Transmission Type' by setting argument normalize = True\n",
    "data['Tested Transmission Type'].value_counts(normalize = True)"
   ]
  },
  {
   "cell_type": "markdown",
   "metadata": {
    "colab_type": "text",
    "id": "QVZJ-H_j5Oim"
   },
   "source": [
    "# 4. Using boxplot\n"
   ]
  },
  {
   "cell_type": "code",
   "execution_count": null,
   "metadata": {
    "colab": {},
    "colab_type": "code",
    "id": "YGV3_ntdLb8X"
   },
   "outputs": [],
   "source": [
    "# Import seaborn as sns and matplotlib.pyplot as plt\n",
    "import seaborn as sns\n",
    "import matplotlib.pyplot as plt\n",
    "\n",
    "# Set the size of the figure\n",
    "plt.figure(figsize = (9,10))\n",
    "# Create a boxplot to show the distribution of datapoints of the column 'Rated Horsepower'\n",
    "sns.boxplot(data['Rated Horsepower'], orient = 'v', linewidth = 2, color ='skyblue');"
   ]
  },
  {
   "cell_type": "code",
   "execution_count": null,
   "metadata": {
    "colab": {},
    "colab_type": "code",
    "id": "r9g1_iPNSRTV"
   },
   "outputs": [],
   "source": [
    "# Set the size of the figure\n",
    "plt.figure(figsize = (9,10))\n",
    "# TASK 9 >>> Create a boxplot to show the distribution of datapoints of the column 'Test Veh Displacement (L)' that describes engine displacement\n"
   ]
  }
 ],
 "metadata": {
  "colab": {
   "authorship_tag": "ABX9TyNVarI+DZVDrHWnt0uxeeRP",
   "collapsed_sections": [],
   "name": "1. First_look_at_the_data.ipynb",
   "provenance": [
    {
     "file_id": "1lG71FT_1f-I_TiXrITcD4crMPKhGh4b7",
     "timestamp": 1599403017189
    }
   ]
  },
  "kernelspec": {
   "display_name": "Python 3",
   "language": "python",
   "name": "python3"
  },
  "language_info": {
   "codemirror_mode": {
    "name": "ipython",
    "version": 3
   },
   "file_extension": ".py",
   "mimetype": "text/x-python",
   "name": "python",
   "nbconvert_exporter": "python",
   "pygments_lexer": "ipython3",
   "version": "3.7.7"
  }
 },
 "nbformat": 4,
 "nbformat_minor": 1
}
