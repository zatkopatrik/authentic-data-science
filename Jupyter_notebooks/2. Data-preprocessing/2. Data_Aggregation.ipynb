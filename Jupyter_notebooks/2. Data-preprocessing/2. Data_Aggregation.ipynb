{
 "cells": [
  {
   "cell_type": "markdown",
   "metadata": {
    "colab_type": "text",
    "id": "ImvdTW03GMJO"
   },
   "source": [
    "# 0. Importing data (DON'T ALTER)"
   ]
  },
  {
   "cell_type": "code",
   "execution_count": 3,
   "metadata": {
    "colab": {},
    "colab_type": "code",
    "executionInfo": {
     "elapsed": 1474,
     "status": "ok",
     "timestamp": 1599476915623,
     "user": {
      "displayName": "Janka Gecelovská",
      "photoUrl": "https://lh3.googleusercontent.com/a-/AOh14GjVqlh2PlzTOTBDiLLtofNwHsxobYMwGvAajTuXUa0=s64",
      "userId": "04343601701373244670"
     },
     "user_tz": -120
    },
    "id": "HMaXlSbJbEv2"
   },
   "outputs": [],
   "source": [
    "# Import pandas as pd\n",
    "# Import numpy as np\n",
    "import pandas as pd\n",
    "import numpy as np"
   ]
  },
  {
   "cell_type": "code",
   "execution_count": 4,
   "metadata": {
    "colab": {},
    "colab_type": "code",
    "executionInfo": {
     "elapsed": 1336,
     "status": "ok",
     "timestamp": 1599476917596,
     "user": {
      "displayName": "Janka Gecelovská",
      "photoUrl": "https://lh3.googleusercontent.com/a-/AOh14GjVqlh2PlzTOTBDiLLtofNwHsxobYMwGvAajTuXUa0=s64",
      "userId": "04343601701373244670"
     },
     "user_tz": -120
    },
    "id": "dITYoLSQX32E"
   },
   "outputs": [],
   "source": [
    "# Load the dataset\n",
    "data = pd.read_csv('Datasets/avocado.csv')"
   ]
  },
  {
   "cell_type": "code",
   "execution_count": null,
   "metadata": {
    "colab": {},
    "colab_type": "code",
    "id": "78XPjgBkgRIY"
   },
   "outputs": [],
   "source": [
    "# Preview the data\n",
    "data"
   ]
  },
  {
   "cell_type": "markdown",
   "metadata": {
    "colab_type": "text",
    "id": "8vK6YEP8jbBF"
   },
   "source": [
    "# 1. 1-D aggregations on Pandas Series\n",
    "\n",
    "Let's recall computing aggregations such as `sum()`, `mean()`, `median()`, `max()` and `min()` using Pandas Series. "
   ]
  },
  {
   "cell_type": "code",
   "execution_count": null,
   "metadata": {
    "colab": {},
    "colab_type": "code",
    "id": "rx-Ku8_xcjca"
   },
   "outputs": [],
   "source": [
    "# Create Pandas Series using values: [8.45, 3.15, 1.25, 10.55, 2.40]\n",
    "\n",
    "our_series = pd.Series([8.45, 3.15, 1.25, 10.55, 2.40])"
   ]
  },
  {
   "cell_type": "code",
   "execution_count": null,
   "metadata": {
    "colab": {},
    "colab_type": "code",
    "id": "21oSgZtcm8rG"
   },
   "outputs": [],
   "source": [
    "# TASK 1 >>>> Print computing aggregations\n",
    "\n",
    "print('The rounded count of the values is: {}'.format(our_series.sum().round()))\n",
    "print('The average value is: {}'.format())\n",
    "print('The median value is: {}'.format())\n",
    "print('The maximum value is: {}'.format())\n",
    "print('The minimum value is: {}'.format())"
   ]
  },
  {
   "cell_type": "markdown",
   "metadata": {
    "colab_type": "text",
    "id": "WgQ0ENnOJiEi"
   },
   "source": [
    "# 2. 2-D aggregations on Pandas DataFrame\n",
    "\n",
    "To understand the true power of `groupby()` we can look what it's going on under the hood. Let's say we want to compute average price of avocados based on their type: conventional and organic. \n",
    "\n",
    "Firstly, we have to split our dataset into 2 different groups based on the type:"
   ]
  },
  {
   "cell_type": "code",
   "execution_count": 6,
   "metadata": {
    "colab": {},
    "colab_type": "code",
    "executionInfo": {
     "elapsed": 1740,
     "status": "ok",
     "timestamp": 1599476928983,
     "user": {
      "displayName": "Janka Gecelovská",
      "photoUrl": "https://lh3.googleusercontent.com/a-/AOh14GjVqlh2PlzTOTBDiLLtofNwHsxobYMwGvAajTuXUa0=s64",
      "userId": "04343601701373244670"
     },
     "user_tz": -120
    },
    "id": "cmzctVlW3G_z"
   },
   "outputs": [],
   "source": [
    "# Filter only those records that are organic type and assign it to variable filter_o\n",
    "filter_o = data['type'] == 'organic'"
   ]
  },
  {
   "cell_type": "code",
   "execution_count": null,
   "metadata": {
    "colab": {},
    "colab_type": "code",
    "id": "wbgFZkT2HqVv"
   },
   "outputs": [],
   "source": [
    "# Use .loc[] on data which access all columns based on our condition filter_o and assign it to variable data_organic\n",
    "data_organic = data.loc[filter_o]\n",
    "data_organic"
   ]
  },
  {
   "cell_type": "markdown",
   "metadata": {
    "colab_type": "text",
    "id": "BKtcJ4fHHNql"
   },
   "source": [
    "Look that only organic type remain."
   ]
  },
  {
   "cell_type": "code",
   "execution_count": 9,
   "metadata": {
    "colab": {},
    "colab_type": "code",
    "executionInfo": {
     "elapsed": 1005,
     "status": "ok",
     "timestamp": 1599476953354,
     "user": {
      "displayName": "Janka Gecelovská",
      "photoUrl": "https://lh3.googleusercontent.com/a-/AOh14GjVqlh2PlzTOTBDiLLtofNwHsxobYMwGvAajTuXUa0=s64",
      "userId": "04343601701373244670"
     },
     "user_tz": -120
    },
    "id": "6jcOyEPTHxKN"
   },
   "outputs": [],
   "source": [
    "# TASK 2 >>>> Filter only those records that are conventional type and assign it to variable filter_c\n"
   ]
  },
  {
   "cell_type": "code",
   "execution_count": null,
   "metadata": {
    "colab": {},
    "colab_type": "code",
    "id": "z_xrgVE6HySt"
   },
   "outputs": [],
   "source": [
    "# TASK 2 >>>> Use .loc[] on data which access all columns based on our condition filter_c and assign it to variable data_conventional\n"
   ]
  },
  {
   "cell_type": "markdown",
   "metadata": {
    "colab_type": "text",
    "id": "aIBTB4C3LFfu"
   },
   "source": [
    "Now compute average price for both type of avocados using `.mean()` function applied on the column `AveragePrice`."
   ]
  },
  {
   "cell_type": "code",
   "execution_count": 26,
   "metadata": {
    "colab": {},
    "colab_type": "code",
    "executionInfo": {
     "elapsed": 782,
     "status": "ok",
     "timestamp": 1599478554330,
     "user": {
      "displayName": "Janka Gecelovská",
      "photoUrl": "https://lh3.googleusercontent.com/a-/AOh14GjVqlh2PlzTOTBDiLLtofNwHsxobYMwGvAajTuXUa0=s64",
      "userId": "04343601701373244670"
     },
     "user_tz": -120
    },
    "id": "T6q6IHczIHpO"
   },
   "outputs": [],
   "source": [
    "# Compute average price for filtered organic avocados and assign it to variable avg_organic\n",
    "avg_organic = data_organic['AveragePrice'].mean()"
   ]
  },
  {
   "cell_type": "code",
   "execution_count": 27,
   "metadata": {
    "colab": {},
    "colab_type": "code",
    "executionInfo": {
     "elapsed": 438,
     "status": "ok",
     "timestamp": 1599478555240,
     "user": {
      "displayName": "Janka Gecelovská",
      "photoUrl": "https://lh3.googleusercontent.com/a-/AOh14GjVqlh2PlzTOTBDiLLtofNwHsxobYMwGvAajTuXUa0=s64",
      "userId": "04343601701373244670"
     },
     "user_tz": -120
    },
    "id": "xa-vceLZIdjX"
   },
   "outputs": [],
   "source": [
    "# TASK 3 >>>> Compute average price for filtered conventional avocados and assign it to variable avg_conventional\n",
    "avg_conventional = data_conventional['AveragePrice'].mean()"
   ]
  },
  {
   "cell_type": "code",
   "execution_count": null,
   "metadata": {
    "colab": {},
    "colab_type": "code",
    "id": "L7f3uzWuIi1G"
   },
   "outputs": [],
   "source": [
    "# Print the outputs and the type of the outputs\n",
    "print(avg_organic, avg_conventional)\n",
    "print('\\n')\n",
    "print(type(avg_organic), type(avg_conventional))"
   ]
  },
  {
   "cell_type": "markdown",
   "metadata": {
    "colab_type": "text",
    "id": "kBeE35oFLemd"
   },
   "source": [
    "Lastly, combine these results into data structure using `Pandas`  `.DataFrame()`. Create a dictionary, where the first key name will be 'Type' and its values 'organic', 'conventional'. The second key name will be 'Average_price' and its values will be our created avg_organic and avg_conventional, respectively."
   ]
  },
  {
   "cell_type": "code",
   "execution_count": 29,
   "metadata": {
    "colab": {},
    "colab_type": "code",
    "executionInfo": {
     "elapsed": 754,
     "status": "ok",
     "timestamp": 1599478681099,
     "user": {
      "displayName": "Janka Gecelovská",
      "photoUrl": "https://lh3.googleusercontent.com/a-/AOh14GjVqlh2PlzTOTBDiLLtofNwHsxobYMwGvAajTuXUa0=s64",
      "userId": "04343601701373244670"
     },
     "user_tz": -120
    },
    "id": "uu-CkthjIlSl"
   },
   "outputs": [],
   "source": [
    "# Combine these results into the DataFrame\n",
    "data_output = pd.DataFrame({'Type':['organic','conventional'], \n",
    "                            'Average_price':[avg_organic, avg_conventional]})"
   ]
  },
  {
   "cell_type": "code",
   "execution_count": null,
   "metadata": {
    "colab": {},
    "colab_type": "code",
    "id": "7bT1M7-NI38d"
   },
   "outputs": [],
   "source": [
    "# Print resulting DataFrame\n",
    "print('\\nResult dataframe :\\n',data_output)"
   ]
  },
  {
   "cell_type": "markdown",
   "metadata": {
    "colab_type": "text",
    "id": "asLaYdfYNOP2"
   },
   "source": [
    "However, we can use `groupby()` to achieve the same result with only 1 line of the code!"
   ]
  },
  {
   "cell_type": "markdown",
   "metadata": {
    "colab_type": "text",
    "id": "FPyXkdREJO9s"
   },
   "source": [
    "# 3. 2-D aggregations on Pandas DataFrame (KEY LEARNING)"
   ]
  },
  {
   "cell_type": "markdown",
   "metadata": {
    "colab_type": "text",
    "id": "WS1EkBKKrr8n"
   },
   "source": [
    " `groupby()` function allows us to quickly and efficiently split the data into separate groups to perform computations. When we pass the desired column or columns within `groupby()`, it will return `DataFrameGroupBy object`. We can think of it as a special view of our DataFrame. No computation will be done until we specify the functions such as `mean()`, `sum()` etc. "
   ]
  },
  {
   "cell_type": "code",
   "execution_count": null,
   "metadata": {
    "colab": {},
    "colab_type": "code",
    "id": "TrkKgFYd8_Wz"
   },
   "outputs": [],
   "source": [
    "# Group the data based on the column 'year'\n",
    "data.groupby('year')"
   ]
  },
  {
   "cell_type": "markdown",
   "metadata": {
    "colab_type": "text",
    "id": "qWce_PzhO8jB"
   },
   "source": [
    "Now we compute the average price for organic and conventional type of the avocados again, but we'll make use of `groupby()`."
   ]
  },
  {
   "cell_type": "code",
   "execution_count": null,
   "metadata": {
    "colab": {},
    "colab_type": "code",
    "id": "9V8leQF1tLb0"
   },
   "outputs": [],
   "source": [
    "# Group the data based on Avocado type\n",
    "# Compute average price using .mean()\n",
    "by_type_total = data.groupby('type')['AveragePrice'].mean()\n",
    "print(by_type_total)"
   ]
  },
  {
   "cell_type": "code",
   "execution_count": null,
   "metadata": {
    "colab": {},
    "colab_type": "code",
    "id": "RpEjNtiptrek"
   },
   "outputs": [],
   "source": [
    "# Group the data based on 2 columns passed into the list: columns 'type' and 'region' and compute the average price\n",
    "by_type_year = data.groupby(['type','year'])['AveragePrice'].mean()\n",
    "print(by_type_year)"
   ]
  },
  {
   "cell_type": "code",
   "execution_count": null,
   "metadata": {
    "colab": {},
    "colab_type": "code",
    "id": "nn-gd3o_xC21"
   },
   "outputs": [],
   "source": [
    "# TASK 4 >>>> Group the data based on 3 columns passed into the list: columns 'type', 'year', 'region' and compute how many Small Hass Avocados have been sold in total\n",
    "#             Assign it to variable by_year\n"
   ]
  },
  {
   "cell_type": "markdown",
   "metadata": {
    "colab_type": "text",
    "id": "xPnOHEGOKaXx"
   },
   "source": [
    "When we are using the `.groupby()`, the resulting object will be slightly different from standard Pandas dataframe. You can see it in the print statement and how the \"type\" and \"year\" are nicely printed. \n",
    "\n",
    "If we would like to operate with resulted object further, we should reset its row index by using reset_index()."
   ]
  },
  {
   "cell_type": "code",
   "execution_count": null,
   "metadata": {
    "colab": {},
    "colab_type": "code",
    "id": "S9pnZLMY_TZQ"
   },
   "outputs": [],
   "source": [
    "# Reset the index using .reset_index() method and create a DataFrame\n",
    "our_df = pd.DataFrame(by_year).reset_index()\n",
    "print(our_df)"
   ]
  },
  {
   "cell_type": "markdown",
   "metadata": {
    "colab_type": "text",
    "id": "jkSmhSgOJ4r2"
   },
   "source": [
    "# 4. Aggregate function (ADVANCED)"
   ]
  },
  {
   "cell_type": "markdown",
   "metadata": {
    "colab_type": "text",
    "id": "xndRkq37OXm1"
   },
   "source": [
    "`agg()` \n",
    "\n",
    "- it is an alias for aggregate\n",
    "- it is used to pass a function or list of function to be applied on a series or even each element of series separately\n",
    "\n",
    "This can be done by passing the columns and functions within a dictionary like this:\n",
    "\n",
    "`our_dataset.agg({'First_column' : ['max', 'min'], 'Second_column' : ['mean', 'median']})`"
   ]
  },
  {
   "cell_type": "code",
   "execution_count": null,
   "metadata": {
    "colab": {},
    "colab_type": "code",
    "id": "H309MgFfOXL0"
   },
   "outputs": [],
   "source": [
    "# Compute maximum and minimum values for column 'Total Volume' and minimum and mean values for column 'Small Bags' using .agg()\n",
    "data.agg({'Total Volume' : ['max', 'min'], 'Small Bags' : ['min', 'mean']})"
   ]
  },
  {
   "cell_type": "markdown",
   "metadata": {
    "colab_type": "text",
    "id": "sFfoFWo_E2Wg"
   },
   "source": [
    "We can pass `.agg()` also to our grouped object and compute statistics for selected column."
   ]
  },
  {
   "cell_type": "code",
   "execution_count": 36,
   "metadata": {
    "colab": {},
    "colab_type": "code",
    "executionInfo": {
     "elapsed": 1159,
     "status": "ok",
     "timestamp": 1599479594259,
     "user": {
      "displayName": "Janka Gecelovská",
      "photoUrl": "https://lh3.googleusercontent.com/a-/AOh14GjVqlh2PlzTOTBDiLLtofNwHsxobYMwGvAajTuXUa0=s64",
      "userId": "04343601701373244670"
     },
     "user_tz": -120
    },
    "id": "aU0jsG31DpNI"
   },
   "outputs": [],
   "source": [
    "# Group the data based on 2 columns: 'region' and 'type'\n",
    "# Compute aggregations 'min','max' and 'mean' for 'AveragePrice'\n",
    "grouped = data.groupby(['region','type']).agg({'AveragePrice':['min','max','mean']})"
   ]
  },
  {
   "cell_type": "code",
   "execution_count": null,
   "metadata": {
    "colab": {},
    "colab_type": "code",
    "id": "j3rNusHWEFXf"
   },
   "outputs": [],
   "source": [
    "grouped"
   ]
  },
  {
   "cell_type": "markdown",
   "metadata": {
    "colab_type": "text",
    "id": "idp3VZhkQJzP"
   },
   "source": [
    "- within `agg()` we can have our custom function along with computing aggregation"
   ]
  },
  {
   "cell_type": "code",
   "execution_count": null,
   "metadata": {
    "colab": {},
    "colab_type": "code",
    "id": "jdQ2mgGZvxEF"
   },
   "outputs": [],
   "source": [
    "# Write a function to compute 95th percentile on desired column using .quantile(0.95)\n",
    "def percentile_95(column):\n",
    "  return column.quantile(0.95)"
   ]
  },
  {
   "cell_type": "code",
   "execution_count": null,
   "metadata": {
    "colab": {},
    "colab_type": "code",
    "id": "q8958j6D26yZ"
   },
   "outputs": [],
   "source": [
    "# TASK 5 - HARD >>>> Get 95th percentile and mean values for columns: 'Small Bags','Large Bags','XLarge Bags' from DataFrame data, using .agg()\n"
   ]
  },
  {
   "cell_type": "markdown",
   "metadata": {
    "colab_type": "text",
    "id": "zgZ5OqgdSDcG"
   },
   "source": [
    "# 5. Bonus Task (HARD)\n",
    "\n",
    "`groupby()` can be useful when we want to look at the proportion of avocado's type. We would like to see what percentage of conventional and organic avocados has been sold. For example: 97 % and 3%.\n",
    "\n",
    "To reach this result:\n",
    "- Group the data by 'type' and obtain sums on 'Total Volume' column, assign result to volume_by_type\n",
    "- Divide the volume_by_type by the sum of all avocados. Assign the result to variable proportion.\n",
    "- Print the proportion and optionally multiply by 100 to obtian a figure in percentage"
   ]
  },
  {
   "cell_type": "code",
   "execution_count": null,
   "metadata": {
    "colab": {},
    "colab_type": "code",
    "id": "v1YDptzDI4xF"
   },
   "outputs": [],
   "source": [
    "# TASK 6 >>>> Group data based on their types and compute count of the Total Volume \n"
   ]
  },
  {
   "cell_type": "code",
   "execution_count": null,
   "metadata": {
    "colab": {},
    "colab_type": "code",
    "id": "buKPSIOKP3eX"
   },
   "outputs": [],
   "source": [
    "# TASK 6 >>>> Compute the proportion of the avocado's type\n"
   ]
  },
  {
   "cell_type": "code",
   "execution_count": null,
   "metadata": {
    "colab": {},
    "colab_type": "code",
    "id": "t0AzJayhP9tT"
   },
   "outputs": [],
   "source": [
    "# TASK 6 >>>> Print the output multiply by 100\n"
   ]
  },
  {
   "cell_type": "markdown",
   "metadata": {},
   "source": [
    "# 6. Appendix\n",
    "\n",
    "Data Source: https://www.kaggle.com/neuromusic/avocado-prices\n",
    "\n",
    "License: Database: Open Database, Contents: © Original Authors"
   ]
  }
 ],
 "metadata": {
  "colab": {
   "authorship_tag": "ABX9TyNU73EaUPh+hh9eiF0PQT5e",
   "collapsed_sections": [],
   "name": "2. Data_Aggregation.ipynb",
   "provenance": [
    {
     "file_id": "1nuzd1PY0JPrquiO8HidmLAG7FEjCkm7d",
     "timestamp": 1599457295022
    }
   ],
   "toc_visible": true
  },
  "kernelspec": {
   "display_name": "Python 3",
   "language": "python",
   "name": "python3"
  },
  "language_info": {
   "codemirror_mode": {
    "name": "ipython",
    "version": 3
   },
   "file_extension": ".py",
   "mimetype": "text/x-python",
   "name": "python",
   "nbconvert_exporter": "python",
   "pygments_lexer": "ipython3",
   "version": "3.7.7"
  }
 },
 "nbformat": 4,
 "nbformat_minor": 1
}
