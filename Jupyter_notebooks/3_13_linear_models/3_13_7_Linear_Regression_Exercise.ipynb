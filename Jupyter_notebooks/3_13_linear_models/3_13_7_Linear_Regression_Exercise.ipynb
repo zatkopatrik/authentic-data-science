{
 "cells": [
  {
   "cell_type": "code",
   "execution_count": 5,
   "metadata": {},
   "outputs": [],
   "source": [
    "from sklearn import datasets\n",
    "import matplotlib.pyplot as plt\n",
    "plt.rcParams[\"figure.figsize\"] = (15,4) # the charts will have a size of width = 15, height = 4\n",
    "from sklearn.metrics import mean_squared_error, mean_absolute_error\n",
    "import numpy as np\n",
    "from sklearn.linear_model import LinearRegression\n",
    "from sklearn.preprocessing import StandardScaler, PolynomialFeatures\n",
    "from sklearn.model_selection import train_test_split\n",
    "import pandas as pd\n",
    "import seaborn as sns"
   ]
  },
  {
   "cell_type": "markdown",
   "metadata": {},
   "source": [
    "# Linear regression with 1 feature"
   ]
  },
  {
   "cell_type": "markdown",
   "metadata": {},
   "source": [
    "## Generate a dataset for Linear Regression"
   ]
  },
  {
   "cell_type": "markdown",
   "metadata": {},
   "source": [
    "- with the make_regression() you can generate a synthetical dataset for a regression problem\n",
    "- here we generate 100 observations with 1 explanatory variable and the standard deviation of the gaussian noise 40\n",
    "- if you want to read documentation, you can always run the function name with a questionmark before the name like in the cell below. This will open documentation directly in jupyter notebok. You can also read documentation on internet, e.g. https://scikit-learn.org/stable/modules/generated/sklearn.datasets.make_regression.html\n",
    "- run the 2 cells below"
   ]
  },
  {
   "cell_type": "code",
   "execution_count": 6,
   "metadata": {},
   "outputs": [],
   "source": [
    "?datasets.make_regression"
   ]
  },
  {
   "cell_type": "code",
   "execution_count": 9,
   "metadata": {},
   "outputs": [],
   "source": [
    "x, y, coeff = datasets.make_regression(\n",
    "        n_samples = 100, \n",
    "        n_features = 1,\n",
    "        noise = 40,\n",
    "        coef = True,\n",
    "        bias = 50,\n",
    "        random_state = 42 # if you have read Hitchiker's Guide to the Galaxy then\n",
    "                          # you know that 42 is the universal answer to life, the universe and everything\n",
    "                          # https://www.quora.com/Why-do-we-choose-random-state-as-42-very-often-during-training-a-machine-learning-model\n",
    "    )"
   ]
  },
  {
   "cell_type": "markdown",
   "metadata": {},
   "source": [
    "We can plot x against y to see how the data look like."
   ]
  },
  {
   "cell_type": "code",
   "execution_count": 10,
   "metadata": {
    "scrolled": true
   },
   "outputs": [
    {
     "data": {
      "image/png": "[encoded data removed]",
      "text/plain": [
       "<Figure size 1080x288 with 1 Axes>"
      ]
     },
     "metadata": {
      "needs_background": "light"
     },
     "output_type": "display_data"
    }
   ],
   "source": [
    "plt.scatter(x,y)\n",
    "plt.title('Data')\n",
    "plt.show()"
   ]
  },
  {
   "cell_type": "markdown",
   "metadata": {},
   "source": [
    "Run the below user defined function that plots the observations and a line and calculates RMSE. You will use this function in the exercise. It takes as inputs x and y, intercept value and a coefficient value."
   ]
  },
  {
   "cell_type": "code",
   "execution_count": 11,
   "metadata": {},
   "outputs": [],
   "source": [
    "def plot_regression(x, y, bias, coeff):\n",
    "    \"\"\"\n",
    "    The function plots scatter of x, y and line with bias and coefficient. It also calculates RMSE.\n",
    "    ---------------\n",
    "    params:\n",
    "    - x: points on the x-axis\n",
    "    - y: points on the y-axis\n",
    "    - bias: intercept of the line\n",
    "    - coeff: slope of the line\n",
    "     \"\"\"\n",
    "    y_hat = bias + x * coeff # predictions of x can be calculated easily \n",
    "                             # by multiplying the features with coefficients\n",
    "    print(f'MSE2 : {round(mean_squared_error(y,y_hat),1)}') \n",
    "    print(f'RMSE2 : {round(mean_squared_error(y,y_hat,squared=False),1)}')\n",
    "\n",
    "    # chart\n",
    "    plt.title('Observations with a line')\n",
    "    plt.scatter(x,y) # scatter\n",
    "    plt.plot(x, y_hat, 'r--') # line"
   ]
  },
  {
   "cell_type": "markdown",
   "metadata": {},
   "source": [
    "### Exercise \n",
    "We want to fit a model that looks like this: $\\widehat{y} = \\beta_0 + \\beta_1 x_1 $, where $\\beta_0$ is a bias term and $\\beta_1$ is the slope of the line\n",
    "\n",
    "Use the function plot_regression() and try different values of bias and coeff of the regression line. Observe the values of the cost function and the behavior of the line with the change of the parameters. \n",
    "- How does a line look like if the coeff is positive, negative or zero?\n",
    "- What is the influence of the bias term on the line?\n",
    "- Can you guess the suitable set of parameters? \n",
    "- What are the units of the MSE and RMSE in relation to dependent variable y? Which one is more intuitive to use for interpretation?"
   ]
  },
  {
   "cell_type": "code",
   "execution_count": 12,
   "metadata": {
    "scrolled": true
   },
   "outputs": [],
   "source": [
    "plot_regression(x, y, bias=...,coeff=...)"
   ]
  },
  {
   "cell_type": "markdown",
   "metadata": {},
   "source": [
    "## Normal Equation\n",
    "\n",
    "The function `normal_eq()`  computes $ \\widehat{\\beta}= (X^T X)^{-1} X^T y $. It takes as input x and y and returns optimal values for bias(intercept) term and a coefficient(slope)."
   ]
  },
  {
   "cell_type": "code",
   "execution_count": 13,
   "metadata": {},
   "outputs": [],
   "source": [
    "def normal_eq(x,y): \n",
    "    \"\"\"The function analytically computes the optimal set of coefficients give x and y. \n",
    "A vector of ones is appended as the first vector of matrix x to take into account the bias term. \n",
    "    ---------------\n",
    "    params:\n",
    "    - x: input features matrix\n",
    "    - y: target variable\n",
    "    returns: \n",
    "    - beta_hat: optimal set of coefficients for linear regression\n",
    "    \"\"\"\n",
    "    X = np.c_[np.ones(len(x)),x]\n",
    "    beta_hat = np.linalg.inv(X.T.dot(X)).dot(X.T).dot(y)\n",
    "    print(f\"Optimal set of coefficients: {beta_hat}\")\n",
    "    return(beta_hat)"
   ]
  },
  {
   "cell_type": "markdown",
   "metadata": {},
   "source": [
    "### Exercise\n",
    "\n",
    "- use the `normal_eq()` on input features x and output vector y.\n",
    "- use the returned values of bias and coef in plot_regression function\n",
    "- was your guess of the bias and coeff value from the previous exercise close enough?"
   ]
  },
  {
   "cell_type": "code",
   "execution_count": 15,
   "metadata": {},
   "outputs": [],
   "source": [
    "..., ... = normal_eq(x, y) \n",
    "plot_regression(..., ..., ..., ...)"
   ]
  },
  {
   "cell_type": "markdown",
   "metadata": {},
   "source": [
    "## Sklearn Linear Regression\n",
    "\n",
    "Here we explore the scikit learn linear regression for the first time. Help yourself with examples in the documentation if needed: https://scikit-learn.org/stable/modules/generated/sklearn.linear_model.LinearRegression.html\n",
    "\n",
    "### Exercise\n",
    "- use LinearRegression() from sklearn.linear_model to fit the linear regression model on x, y. Look at the examples section in the documentation if you need help\n",
    "- return the coefficients for slope and intercept of the regression line, you will find them in attributes section of the documentation. Store the values in the variables *lr_coef* and *lr_intercept*\n",
    "    - are these values the same as the ones from the normal equation?"
   ]
  },
  {
   "cell_type": "code",
   "execution_count": 27,
   "metadata": {},
   "outputs": [],
   "source": [
    "lr = ...\n",
    "lr.fit(..., ...)\n",
    "lr_coef, lr_intercept = lr...., lr....\n",
    "print(f'Slope: {lr_coef}\\nBias: {lr_intercept}')"
   ]
  },
  {
   "cell_type": "markdown",
   "metadata": {},
   "source": [
    "- predict the value of the new observation. If needed use documentation for examples"
   ]
  },
  {
   "cell_type": "code",
   "execution_count": 16,
   "metadata": {},
   "outputs": [],
   "source": [
    "x_new = [[1.5], [0]]\n",
    "lr.predict(...)"
   ]
  },
  {
   "cell_type": "markdown",
   "metadata": {},
   "source": [
    "- return the score of the model on x and y. You can read more about the score in the documentation. The best value is 1. Usually it is between 0 and 1 but can be also negative. Score is R squared metric that can be used for evaluation of the model."
   ]
  },
  {
   "cell_type": "code",
   "execution_count": 18,
   "metadata": {},
   "outputs": [],
   "source": [
    "lr.score(..., ...)"
   ]
  },
  {
   "cell_type": "markdown",
   "metadata": {},
   "source": [
    "## Outliers\n",
    "\n",
    "We will add outliers to our dataset and save it under the name x2, y2."
   ]
  },
  {
   "cell_type": "code",
   "execution_count": 31,
   "metadata": {},
   "outputs": [],
   "source": [
    "x2 = np.append(x,[np.min(x)-0.1, np.min(x), np.min(x)-0.15]).reshape([-1,1])\n",
    "y2 = np.append(y, [-400,-300,-350]).reshape([-1,1])"
   ]
  },
  {
   "cell_type": "markdown",
   "metadata": {},
   "source": [
    "### Exercise\n",
    "\n",
    "Fit the linear regression to x2, y2 and store the bias into the variable *lr_outlier_intercept* and a slope into the variable *lr_outlier_coef*"
   ]
  },
  {
   "cell_type": "code",
   "execution_count": 35,
   "metadata": {},
   "outputs": [],
   "source": [
    "...\n",
    "...\n",
    "..."
   ]
  },
  {
   "cell_type": "markdown",
   "metadata": {},
   "source": [
    "You can observe on the chart how outliers influence the regression line. Outlier treatment should be one of the first steps done before fitting linear regression model otherwise the results can be biased"
   ]
  },
  {
   "cell_type": "code",
   "execution_count": 19,
   "metadata": {},
   "outputs": [],
   "source": [
    "plt.scatter(x2,y2)\n",
    "axes = plt.gca()\n",
    "x_vals2 = np.array(axes.get_xlim())\n",
    "y_vals = lr_intercept + lr_coef * x_vals2\n",
    "y_vals2 = lr_outlier_intercept.reshape([1,]) + lr_outlier_coef.reshape([1,]) * x_vals2\n",
    "plt.plot(x_vals2, y_vals, 'r--', label='original regression line')\n",
    "plt.plot(x_vals2, y_vals2, 'b--', label='regression line with outliers')\n",
    "plt.legend()\n",
    "plt.show()"
   ]
  },
  {
   "cell_type": "markdown",
   "metadata": {},
   "source": [
    "# Multiple Linear Regression"
   ]
  },
  {
   "cell_type": "markdown",
   "metadata": {},
   "source": [
    "## Load Dataset\n",
    "\n",
    "Load sklearn's inbuilt dataset for regression. If you want you can read the description of the dataset below. It has 13 attributes that can be used for predicting house prices. "
   ]
  },
  {
   "cell_type": "code",
   "execution_count": 20,
   "metadata": {},
   "outputs": [],
   "source": [
    "data = datasets.load_boston()\n",
    "\n",
    "xd,yd = data.data, data.target\n",
    "x = pd.DataFrame(xd, columns = data.feature_names)\n",
    "y = pd.DataFrame(yd, columns = [\"target\"])\n",
    "\n",
    "print(datasets.load_boston().DESCR)"
   ]
  },
  {
   "cell_type": "markdown",
   "metadata": {},
   "source": [
    "## Train Test Split\n",
    "\n",
    "### Exercise \n",
    "- use function train_test_split() to split the training data into training and testing dataset"
   ]
  },
  {
   "cell_type": "code",
   "execution_count": 45,
   "metadata": {},
   "outputs": [],
   "source": [
    "X_train, X_test, y_train, y_test = train_test_split(..., ..., random_state=42)"
   ]
  },
  {
   "cell_type": "markdown",
   "metadata": {},
   "source": [
    "## Fit the Model\n",
    "### Exercise\n",
    "- instantiate linear regression model \n",
    "- fit the model to the training data\n",
    "- print the value of intercept of the model\n",
    "- return the values of coefficients and save them under the variable model_coef"
   ]
  },
  {
   "cell_type": "code",
   "execution_count": 21,
   "metadata": {
    "scrolled": false
   },
   "outputs": [],
   "source": [
    "# instantiate the model\n",
    "...\n",
    "# fit the model to x, y\n",
    "...\n",
    "print(f\"intercept: {...}\")\n",
    "..."
   ]
  },
  {
   "cell_type": "markdown",
   "metadata": {},
   "source": [
    "We can interpret whether the given feature influences the prediction negatively or positively based on a sign of the coefficient. Also, if all the other variables are unchanged we can say how does the variable affect the output by changing the variable by 1 unit."
   ]
  },
  {
   "cell_type": "code",
   "execution_count": 22,
   "metadata": {},
   "outputs": [],
   "source": [
    "df_coefs = pd.DataFrame(model_coef, index = [\"Coefficient\"], columns=X_train.columns)\n",
    "display(df_coefs)\n",
    "print(f\"For example, if you have an observation where LSTAT is equal to 50 and another one that has a value of LSTAT 51 and all other variables the same or if the variable LSTAT changed for the investigated observation with other variables unchanged the effect on the target would be {np.round(df_coefs['LSTAT'][0],5)}\")"
   ]
  },
  {
   "cell_type": "markdown",
   "metadata": {},
   "source": [
    "## Prediction / Model Evaluation\n",
    "### Exercise\n",
    "\n",
    "- predict on X_test and store the values into y_hat"
   ]
  },
  {
   "cell_type": "code",
   "execution_count": 64,
   "metadata": {},
   "outputs": [],
   "source": [
    "..."
   ]
  },
  {
   "cell_type": "markdown",
   "metadata": {},
   "source": [
    "Below is the plot of predictions against real values. Most of the datapoints lie around a diagonal line. This means that predictions seem to be in line with the actual values, e.g. if the real value was 20, the prediction is also mostly 20"
   ]
  },
  {
   "cell_type": "code",
   "execution_count": 23,
   "metadata": {},
   "outputs": [],
   "source": [
    "plt.scatter(y_hat, y_test)\n",
    "plt.plot([0,50],[0,50],c='b')\n",
    "plt.xlabel(\"predictions\")\n",
    "plt.ylabel(\"true test values\")\n",
    "plt.show();"
   ]
  },
  {
   "cell_type": "markdown",
   "metadata": {},
   "source": [
    "### Exercise\n",
    "\n",
    "Let's have a look at some metrics. Compute on test set and save under respective variables the below metrics\n",
    "\n",
    "- MSE - look at from sklearn.metrics ?mean_squared_error\n",
    "- RMSE - mean_squared_error can be used also here. The parameter squared must be set to False\n",
    "- MAE (Mean absolute error) - see ?mean_absolute_error\n",
    "- R2 (score) - it is an attribute of the LinearRegression()"
   ]
  },
  {
   "cell_type": "code",
   "execution_count": 24,
   "metadata": {
    "scrolled": false
   },
   "outputs": [],
   "source": [
    "mse = mean_squared_error(y_test, y_hat)\n",
    "rmse = mean_squared_error(..., ..., ...)\n",
    "mae = ...(..., ...)\n",
    "r2 = model.score(..., ...) # the same as r2_score(y_test, y_hat)\n",
    "\n",
    "print(f\"MSE: {np.round(mse, 1)}\")\n",
    "print(f\"RMSE: {np.round(rmse, 1)}\")\n",
    "print(f\"MAE: {np.round(mae, 1)}\")\n",
    "print(f\"R2: {np.round(r2, 1)}\") "
   ]
  },
  {
   "cell_type": "markdown",
   "metadata": {},
   "source": [
    "## Scaling\n",
    "\n",
    "### Exercise\n",
    "If the features are not scaled, the intercept tells you what is the expected value of target variable if all the variables were equal 0 which might be unrealistic for many features like weight, size of the house, distance to the sea... When features are scaled the intercept can be interpreted as the expected value of a target variable when all the features are equal to their averages.\n",
    "\n",
    "- instantiate StandardScaler() from sklearn.preprocessing \n",
    "- fit the scaler to X_train and transform it. save the transformed values into X_train_scaled\n",
    "- transform the X_test data with the fitted scaler and save the transformed values into X_test_scaled"
   ]
  },
  {
   "cell_type": "code",
   "execution_count": 117,
   "metadata": {},
   "outputs": [],
   "source": [
    "scaler = ...\n",
    "X_train_scaled = scaler.fit_transform(...)\n",
    "X_test_scaled = scaler.transform(...)"
   ]
  },
  {
   "cell_type": "markdown",
   "metadata": {},
   "source": [
    "If you scaled properly you will see on the boxplot chart on the right that the distribution of the variables are concentrated around zero and that the variance is similat for all the variables."
   ]
  },
  {
   "cell_type": "code",
   "execution_count": 25,
   "metadata": {},
   "outputs": [],
   "source": [
    "plt.subplot(1,2,1)\n",
    "plt.title('Boxplots for original features')\n",
    "sns.boxplot(data=X_train)\n",
    "plt.subplot(1,2,2)\n",
    "plt.title('Boxplots for scaled features')\n",
    "sns.boxplot(data=X_train_scaled);"
   ]
  },
  {
   "cell_type": "markdown",
   "metadata": {},
   "source": [
    "### Exercise\n",
    "\n",
    "- fit linear regression model to X_train_scaled, y_train\n",
    "- return value for intercept\n",
    "- return values for coefficients and save them to variable model_coef"
   ]
  },
  {
   "cell_type": "code",
   "execution_count": 26,
   "metadata": {},
   "outputs": [],
   "source": [
    "...\n",
    "...\n",
    "print(f\"intercept: {...}\")\n",
    "..."
   ]
  },
  {
   "cell_type": "code",
   "execution_count": 27,
   "metadata": {},
   "outputs": [],
   "source": [
    "df_coefs = pd.DataFrame(model.coef_.T, index = X_train.columns, columns=[\"Coefficient\"]) \\\n",
    "            .sort_values(\"Coefficient\") \\\n",
    "            .T\n",
    "display(df_coefs)"
   ]
  },
  {
   "cell_type": "markdown",
   "metadata": {},
   "source": [
    "It is also easier to compare coefficients between each other as the features have the same scale. Positive effect of RM variable on output is a little bit smaller than the negative effect of LSTAT. We can also order the coefficients by their absolute magnitudes to understand the influence of the variables on the result. \n",
    "\n",
    "We could also try to fit the model with the variables that have the highest coefficient values in absolute terms."
   ]
  },
  {
   "cell_type": "markdown",
   "metadata": {},
   "source": [
    "### Exercise \n",
    "\n",
    "- predict with the fitted model on X_test_scaled\n",
    "- calculate MSE, RMSE, MASE and R2 - did it change compared to the unscaled version of linear regression?"
   ]
  },
  {
   "cell_type": "code",
   "execution_count": 30,
   "metadata": {},
   "outputs": [],
   "source": [
    "...\n",
    "mse = ...\n",
    "rmse = ...\n",
    "mae = ...\n",
    "r2_score = ...\n",
    "print(f\"MSE: {np.round(mse,1)}\")\n",
    "print(f\"RMSE: {np.round(rmse,1)}\")\n",
    "print(f\"MAE: {np.round(mae,1)}\")\n",
    "print(f\"R2: {np.round(r2_score,1)}\") # the same as r2_score(y_test, y_hat)"
   ]
  },
  {
   "cell_type": "markdown",
   "metadata": {},
   "source": [
    "The scaling does not have an effect on the performance of the model. It only helps with interpretability of the coefficients and changes the meaning of the intercept. "
   ]
  },
  {
   "cell_type": "markdown",
   "metadata": {},
   "source": [
    "## Result Analysis\n",
    "\n",
    "### Residuals\n",
    "### Exercise\n",
    "- calculate residuals by deducting y_test from y_hat"
   ]
  },
  {
   "cell_type": "code",
   "execution_count": 75,
   "metadata": {},
   "outputs": [],
   "source": [
    "residuals = ..."
   ]
  },
  {
   "cell_type": "markdown",
   "metadata": {},
   "source": [
    "One of the assumptions of linear regression is that residuals are normally distributed. \n",
    "\n",
    "From the histogram below it seems that the residuals are almost normally distributed. This can be tested with e.g. Kolmogorov-Smironov test or Shapiro-Wilk test. It is also possible to draw a quantile quantile plot. We could investigate outliers to check if they do not impact the residuals. "
   ]
  },
  {
   "cell_type": "code",
   "execution_count": 31,
   "metadata": {
    "scrolled": true
   },
   "outputs": [],
   "source": [
    "plt.subplot(1,2,1)\n",
    "plt.scatter(y_test, residuals)\n",
    "plt.ylabel(\"residuals\")\n",
    "plt.xlabel(\"y_test\")\n",
    "plt.title(\"Residuals against true values\")\n",
    "\n",
    "plt.subplot(1,2,2)\n",
    "plt.hist(residuals)\n",
    "plt.xlabel(\"residuals\")\n",
    "plt.ylabel(\"frequency\")\n",
    "plt.title(\"Residuals histogram\")\n",
    "plt.show();"
   ]
  },
  {
   "cell_type": "markdown",
   "metadata": {},
   "source": [
    "### Exercise - Dependent Variable\n",
    "\n",
    "The lower long tail on the histogram might be also due to the distribution of the dependent variable y. When doing exploratory data analysis we should look only at the train set in order not to detect patterns from the test set. Test set is set aside and is used only for evaluation\n",
    "\n",
    "- plot boxplot of the y_train\n",
    "- plot histogram of the y_train"
   ]
  },
  {
   "cell_type": "code",
   "execution_count": 33,
   "metadata": {},
   "outputs": [],
   "source": [
    "..."
   ]
  },
  {
   "cell_type": "markdown",
   "metadata": {},
   "source": [
    "It seems that there are some outliers on the upper part. This is expected as there can be some very expensive houses.  "
   ]
  },
  {
   "cell_type": "code",
   "execution_count": 34,
   "metadata": {},
   "outputs": [],
   "source": [
    "..."
   ]
  },
  {
   "cell_type": "markdown",
   "metadata": {},
   "source": [
    "The distribution of the target variable seems to be rather bimodal. Linear regression does not perform the best for such distributions. If we did not take into consideration outliers, the distribution would resemble normal distribution but are they really outliers? The question is if we should transform the dependent variable. We could also consider creating two separate linear models, one for the usual values and one for the values on the upper end. "
   ]
  },
  {
   "cell_type": "markdown",
   "metadata": {},
   "source": [
    "### Exercise - Outliers\n",
    "\n",
    "Might the skewness of the residuals be due to the outliers in the explanatory features?\n",
    "\n",
    "- draw a boxplot for X_train. You can use for example boxplot from a seaborn library."
   ]
  },
  {
   "cell_type": "code",
   "execution_count": 35,
   "metadata": {},
   "outputs": [],
   "source": [
    "..."
   ]
  },
  {
   "cell_type": "markdown",
   "metadata": {},
   "source": [
    "There seem to be quite some outliers, e.g. in CRIM, ZN and PTRATIO B. These outliers should be treated."
   ]
  },
  {
   "cell_type": "markdown",
   "metadata": {},
   "source": [
    "### Exercise - Multicollinearity\n",
    "\n",
    "Correlated features might cause instable results of the model. \n",
    "\n",
    "- calculate correlations between all the variables with a corr() method called on X_train. Save the output into variable *corr*"
   ]
  },
  {
   "cell_type": "code",
   "execution_count": 36,
   "metadata": {
    "scrolled": false
   },
   "outputs": [],
   "source": [
    "corr = ...\n",
    "corr"
   ]
  },
  {
   "cell_type": "markdown",
   "metadata": {},
   "source": [
    "Below you can see correlations of the variables between each other on the left chart. Right chart shows absolute values of correlations. \n"
   ]
  },
  {
   "cell_type": "code",
   "execution_count": 37,
   "metadata": {},
   "outputs": [],
   "source": [
    "# charts for correlation\n",
    "plt.subplot(1,2,1)\n",
    "plt.title('Correlations')\n",
    "mask = np.triu(np.ones_like(corr, dtype=bool))\n",
    "sns.heatmap(corr, mask = mask, annot=True, cmap='Reds');\n",
    "\n",
    "plt.title('Absolute value of correlations')\n",
    "plt.subplot(1,2,2)\n",
    "corr_abs = corr.abs()\n",
    "sns.heatmap(corr_abs, mask = mask, annot=True, cmap='Reds');\n"
   ]
  },
  {
   "cell_type": "markdown",
   "metadata": {},
   "source": [
    "There is a strong correlation between some features, e.g. TAX and RAD, DIS and NOX, DIS and INUDS, DIS and AGE, LSTAT and RM. Highly correlated features in linear models can cause instability of the model it should be tested to remove such features. Usually one of the features with a correlation higher than some threshold is removed from the feature set. "
   ]
  },
  {
   "cell_type": "markdown",
   "metadata": {},
   "source": [
    "### Linearity - Exercise\n",
    "\n",
    "Since we work with a linear model, there should be a linear relationship between X and y. Let's do some simple checks. \n",
    "\n",
    "- compute correlation between X_train and y_train. Hint: you can concatenate X_train, y_train first on axis=1 and calculate correlation on the concatenated data frame"
   ]
  },
  {
   "cell_type": "code",
   "execution_count": 38,
   "metadata": {},
   "outputs": [],
   "source": [
    "...\n",
    "..."
   ]
  },
  {
   "cell_type": "markdown",
   "metadata": {},
   "source": [
    "### Exercise\n",
    "\n",
    "There is a strong negative correlation between a target and LSTAT and strong positive correlation between target and RM. \n",
    "\n",
    "- draw a scatter plot showing dependency between X and y mainly for the two most correlated features LSTAT and RM but also draw the others to investigate if there is any pattern."
   ]
  },
  {
   "cell_type": "code",
   "execution_count": 39,
   "metadata": {},
   "outputs": [],
   "source": [
    "...\n",
    "...\n",
    "...\n",
    "\n",
    "\n"
   ]
  },
  {
   "cell_type": "markdown",
   "metadata": {},
   "source": [
    "We know already that there is a strong correlation of the target with the variable LSTAT but the relationship seems rather non-linear. We can transform the variable LSTAT for example with a negative logarithm or x-squared function to get a linear relationship between the modified variable and y. \n",
    "\n",
    "Relationship with the second highest correlated feature RM seems to be linear"
   ]
  },
  {
   "cell_type": "markdown",
   "metadata": {},
   "source": [
    "## Model only with the 2 strongest variables \n",
    "### Exercise\n",
    "- fit the model only with the variables LSTAT and RM\n",
    "- predict and return RMSE"
   ]
  },
  {
   "cell_type": "code",
   "execution_count": 41,
   "metadata": {
    "scrolled": true
   },
   "outputs": [],
   "source": [
    "...\n",
    "...\n",
    "\n",
    "...\n",
    "rmse = \n",
    "print(f\"RMSE: {np.round(rmse,1)}\")"
   ]
  },
  {
   "cell_type": "markdown",
   "metadata": {},
   "source": [
    "This model has a slightly worse performance than the original model with RMSE around 4.7. Interpretaion of the model with 2 variables is however easier and usually the generalization of the simpler model is also better. "
   ]
  },
  {
   "cell_type": "markdown",
   "metadata": {},
   "source": [
    "## 2nd degree polynomial features\n",
    "\n",
    "We have seen in the scatter plots that there is likely a non-linear relationship between LSTAT and the target variable. It makes sense to test the model with the 2 variables as above but also adding polynomial features of the 2nd degree and an interaction term between the two variables. Run the cell below to see the performance of such model"
   ]
  },
  {
   "cell_type": "code",
   "execution_count": 42,
   "metadata": {
    "scrolled": true
   },
   "outputs": [],
   "source": [
    "poly = PolynomialFeatures(2)\n",
    "x_train_poly = poly.fit_transform(X_train[['LSTAT', 'RM']])\n",
    "x_test_poly = poly.transform(X_test[['LSTAT', 'RM']])\n",
    "  \n",
    "model_poly = LinearRegression(fit_intercept=False)\n",
    "model_poly.fit(x_train_poly, y_train)\n",
    "    \n",
    "y_hat = model_poly.predict(x_test_poly)\n",
    "print(f\"RMSE: {mean_squared_error(y_test, y_hat, squared=False)}\")\n",
    "pd.DataFrame(model_poly.coef_, index = [\"Coefficient\"], columns = poly.get_feature_names())"
   ]
  },
  {
   "cell_type": "markdown",
   "metadata": {},
   "source": [
    "This model has so far the best performance."
   ]
  },
  {
   "cell_type": "markdown",
   "metadata": {},
   "source": [
    "## Next steps to consider\n",
    "\n",
    "- treatment of y variable - two models? transformation of y?\n",
    "- outliers should be treated \n",
    "- feature selection methods\n",
    "- removal of correlated features\n",
    "- feature engineering\n",
    "- ..."
   ]
  },
  {
   "cell_type": "markdown",
   "metadata": {},
   "source": [
    "------------------------------------------------------------------------------------------------------------\n",
    "Material adapted for RBI internal purposes with full permissions from original authors. Source: https://github.com/zatkopatrik/authentic-data-science"
   ]
  }
 ],
 "metadata": {
  "kernelspec": {
   "display_name": "Python 3",
   "language": "python",
   "name": "python3"
  },
  "language_info": {
   "codemirror_mode": {
    "name": "ipython",
    "version": 3
   },
   "file_extension": ".py",
   "mimetype": "text/x-python",
   "name": "python",
   "nbconvert_exporter": "python",
   "pygments_lexer": "ipython3",
   "version": "3.7.3"
  }
 },
 "nbformat": 4,
 "nbformat_minor": 2
}
