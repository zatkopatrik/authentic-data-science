{
 "cells": [
  {
   "cell_type": "markdown",
   "metadata": {},
   "source": [
    "# Logistic regression"
   ]
  },
  {
   "cell_type": "code",
   "execution_count": 203,
   "metadata": {},
   "outputs": [],
   "source": [
    "# Importing all the necessary libraries\n",
    "import pandas as pd\n",
    "import numpy as np\n",
    "from sklearn import datasets\n",
    "from sklearn.linear_model import LogisticRegression\n",
    "from sklearn.model_selection import train_test_split\n",
    "from sklearn import metrics # to calculate accuracy measure and confusion matrix\n",
    "import matplotlib.pyplot as plt \n",
    "import random\n",
    "plt.rcParams[\"figure.figsize\"] = (15,6)"
   ]
  },
  {
   "cell_type": "markdown",
   "metadata": {},
   "source": [
    "# Binary regression"
   ]
  },
  {
   "cell_type": "markdown",
   "metadata": {},
   "source": [
    "## Load dataset for binary regression"
   ]
  },
  {
   "cell_type": "code",
   "execution_count": 257,
   "metadata": {},
   "outputs": [
    {
     "name": "stdout",
     "output_type": "stream",
     "text": [
      ".. _breast_cancer_dataset:\n",
      "\n",
      "Breast cancer wisconsin (diagnostic) dataset\n",
      "--------------------------------------------\n",
      "\n",
      "**Data Set Characteristics:**\n",
      "\n",
      "    :Number of Instances: 569\n",
      "\n",
      "    :Number of Attributes: 30 numeric, predictive attributes and the class\n",
      "\n",
      "    :Attribute Information:\n",
      "        - radius (mean of distances from center to points on the perimeter)\n",
      "        - texture (standard deviation of gray-scale values)\n",
      "        - perimeter\n",
      "        - area\n",
      "        - smoothness (local variation in radius lengths)\n",
      "        - compactness (perimeter^2 / area - 1.0)\n",
      "        - concavity (severity of concave portions of the contour)\n",
      "        - concave points (number of concave portions of the contour)\n",
      "        - symmetry\n",
      "        - fractal dimension (\"coastline approximation\" - 1)\n",
      "\n",
      "        The mean, standard error, and \"worst\" or largest (mean of the three\n",
      "        worst/largest values) of these features were computed for each image,\n",
      "        resulting in 30 features.  For instance, field 0 is Mean Radius, field\n",
      "        10 is Radius SE, field 20 is Worst Radius.\n",
      "\n",
      "        - class:\n",
      "                - WDBC-Malignant\n",
      "                - WDBC-Benign\n",
      "\n",
      "    :Summary Statistics:\n",
      "\n",
      "    ===================================== ====== ======\n",
      "                                           Min    Max\n",
      "    ===================================== ====== ======\n",
      "    radius (mean):                        6.981  28.11\n",
      "    texture (mean):                       9.71   39.28\n",
      "    perimeter (mean):                     43.79  188.5\n",
      "    area (mean):                          143.5  2501.0\n",
      "    smoothness (mean):                    0.053  0.163\n",
      "    compactness (mean):                   0.019  0.345\n",
      "    concavity (mean):                     0.0    0.427\n",
      "    concave points (mean):                0.0    0.201\n",
      "    symmetry (mean):                      0.106  0.304\n",
      "    fractal dimension (mean):             0.05   0.097\n",
      "    radius (standard error):              0.112  2.873\n",
      "    texture (standard error):             0.36   4.885\n",
      "    perimeter (standard error):           0.757  21.98\n",
      "    area (standard error):                6.802  542.2\n",
      "    smoothness (standard error):          0.002  0.031\n",
      "    compactness (standard error):         0.002  0.135\n",
      "    concavity (standard error):           0.0    0.396\n",
      "    concave points (standard error):      0.0    0.053\n",
      "    symmetry (standard error):            0.008  0.079\n",
      "    fractal dimension (standard error):   0.001  0.03\n",
      "    radius (worst):                       7.93   36.04\n",
      "    texture (worst):                      12.02  49.54\n",
      "    perimeter (worst):                    50.41  251.2\n",
      "    area (worst):                         185.2  4254.0\n",
      "    smoothness (worst):                   0.071  0.223\n",
      "    compactness (worst):                  0.027  1.058\n",
      "    concavity (worst):                    0.0    1.252\n",
      "    concave points (worst):               0.0    0.291\n",
      "    symmetry (worst):                     0.156  0.664\n",
      "    fractal dimension (worst):            0.055  0.208\n",
      "    ===================================== ====== ======\n",
      "\n",
      "    :Missing Attribute Values: None\n",
      "\n",
      "    :Class Distribution: 212 - Malignant, 357 - Benign\n",
      "\n",
      "    :Creator:  Dr. William H. Wolberg, W. Nick Street, Olvi L. Mangasarian\n",
      "\n",
      "    :Donor: Nick Street\n",
      "\n",
      "    :Date: November, 1995\n",
      "\n",
      "This is a copy of UCI ML Breast Cancer Wisconsin (Diagnostic) datasets.\n",
      "https://goo.gl/U2Uwz2\n",
      "\n",
      "Features are computed from a digitized image of a fine needle\n",
      "aspirate (FNA) of a breast mass.  They describe\n",
      "characteristics of the cell nuclei present in the image.\n",
      "\n",
      "Separating plane described above was obtained using\n",
      "Multisurface Method-Tree (MSM-T) [K. P. Bennett, \"Decision Tree\n",
      "Construction Via Linear Programming.\" Proceedings of the 4th\n",
      "Midwest Artificial Intelligence and Cognitive Science Society,\n",
      "pp. 97-101, 1992], a classification method which uses linear\n",
      "programming to construct a decision tree.  Relevant features\n",
      "were selected using an exhaustive search in the space of 1-4\n",
      "features and 1-3 separating planes.\n",
      "\n",
      "The actual linear program used to obtain the separating plane\n",
      "in the 3-dimensional space is that described in:\n",
      "[K. P. Bennett and O. L. Mangasarian: \"Robust Linear\n",
      "Programming Discrimination of Two Linearly Inseparable Sets\",\n",
      "Optimization Methods and Software 1, 1992, 23-34].\n",
      "\n",
      "This database is also available through the UW CS ftp server:\n",
      "\n",
      "ftp ftp.cs.wisc.edu\n",
      "cd math-prog/cpo-dataset/machine-learn/WDBC/\n",
      "\n",
      ".. topic:: References\n",
      "\n",
      "   - W.N. Street, W.H. Wolberg and O.L. Mangasarian. Nuclear feature extraction \n",
      "     for breast tumor diagnosis. IS&T/SPIE 1993 International Symposium on \n",
      "     Electronic Imaging: Science and Technology, volume 1905, pages 861-870,\n",
      "     San Jose, CA, 1993.\n",
      "   - O.L. Mangasarian, W.N. Street and W.H. Wolberg. Breast cancer diagnosis and \n",
      "     prognosis via linear programming. Operations Research, 43(4), pages 570-577, \n",
      "     July-August 1995.\n",
      "   - W.H. Wolberg, W.N. Street, and O.L. Mangasarian. Machine learning techniques\n",
      "     to diagnose breast cancer from fine-needle aspirates. Cancer Letters 77 (1994) \n",
      "     163-171.\n"
     ]
    }
   ],
   "source": [
    "X, y = datasets.load_breast_cancer(return_X_y=True, as_frame=True)\n",
    "print(datasets.load_breast_cancer().DESCR)"
   ]
  },
  {
   "cell_type": "markdown",
   "metadata": {},
   "source": [
    "## Make the data imbalanced\n",
    "\n",
    "For the purpose of this exercise we will make the data imbalanced by removing 80% of the cases where y==1"
   ]
  },
  {
   "cell_type": "code",
   "execution_count": 334,
   "metadata": {},
   "outputs": [
    {
     "data": {
      "image/png": "[encoded data removed]",
      "text/plain": [
       "<Figure size 1080x432 with 1 Axes>"
      ]
     },
     "metadata": {
      "needs_background": "light"
     },
     "output_type": "display_data"
    }
   ],
   "source": [
    "data = pd.concat([X,y], axis=1) # join X and y\n",
    "data_neg = data.loc[data.target==0,:] # select only rows with negative target \n",
    "data_pos = data.loc[data.target==1,:].sample(frac=0.07, random_state=42) # select 7% of rows with positive target\n",
    "\n",
    "data_imb = pd.concat([data_neg, data_pos]) # concatenate 7% of positive cases and all negative ones to have imbalanced data\n",
    "X_imb = data_imb.drop(columns=['target'])\n",
    "y_imb = data_imb.target\n",
    "plt.title('frequency of the target variable')\n",
    "plt.xlabel('target value')\n",
    "plt.ylabel('count')\n",
    "plt.hist(y_imb);\n"
   ]
  },
  {
   "cell_type": "markdown",
   "metadata": {},
   "source": [
    "split to train test"
   ]
  },
  {
   "cell_type": "code",
   "execution_count": 335,
   "metadata": {},
   "outputs": [],
   "source": [
    "X_train , X_test , y_train , y_test = train_test_split(X_imb, y_imb, random_state=42)"
   ]
  },
  {
   "cell_type": "markdown",
   "metadata": {},
   "source": [
    "### Exercise\n",
    "\n",
    "- fit the default LogisticRegression() to X_train, y_train"
   ]
  },
  {
   "cell_type": "code",
   "execution_count": 339,
   "metadata": {},
   "outputs": [
    {
     "name": "stderr",
     "output_type": "stream",
     "text": [
      "/home/patrik/snap/jupyter/common/lib/python3.7/site-packages/sklearn/linear_model/_logistic.py:765: ConvergenceWarning: lbfgs failed to converge (status=1):\n",
      "STOP: TOTAL NO. of ITERATIONS REACHED LIMIT.\n",
      "\n",
      "Increase the number of iterations (max_iter) or scale the data as shown in:\n",
      "    https://scikit-learn.org/stable/modules/preprocessing.html\n",
      "Please also refer to the documentation for alternative solver options:\n",
      "    https://scikit-learn.org/stable/modules/linear_model.html#logistic-regression\n",
      "  extra_warning_msg=_LOGISTIC_SOLVER_CONVERGENCE_MSG)\n"
     ]
    },
    {
     "data": {
      "text/plain": [
       "LogisticRegression()"
      ]
     },
     "execution_count": 339,
     "metadata": {},
     "output_type": "execute_result"
    }
   ],
   "source": [
    "lr = LogisticRegression()\n",
    "lr.fit(X_train, y_train)"
   ]
  },
  {
   "cell_type": "markdown",
   "metadata": {},
   "source": [
    "The model failed to converge due to low number of iterations of the optimization solver. There are multiple solvers that can be chosen as a hyperparameter of the model. These also depend on the strategy that is chosen for regularization and for multiclass problem. Description of which solver suits which problem is in the documentation. We have 3 options now. \n",
    "\n",
    "- increase number of iterations until the default solver converges\n",
    "- select a different optimization algorithm with a hyperparameter solver\n",
    "- scale input data which usually helps optimization algorithms to converge. However, if you do not use regularization the scaling is not required for a logistic regression. It only helps with a convergence \n",
    "\n",
    "### Exercise\n",
    "\n",
    "- scale the data with a StandardScaler()\n",
    "- fit and transform X_train and save to *X_train_scaled*\n",
    "- transform X_test and save to *X_test_scaled*"
   ]
  },
  {
   "cell_type": "code",
   "execution_count": 340,
   "metadata": {},
   "outputs": [],
   "source": [
    "scaler = StandardScaler()\n",
    "X_train_scaled = scaler.fit_transform(X_train)\n",
    "X_test_scaled = scaler.transform(X_test)"
   ]
  },
  {
   "cell_type": "markdown",
   "metadata": {},
   "source": [
    "### Exercise\n",
    "\n",
    "- fit the logistic regression to the scaled data\n",
    "- predict on X_train_scaled and save the values to *y_hat*\n",
    "- what are the values that are returned from the predict() method?"
   ]
  },
  {
   "cell_type": "code",
   "execution_count": 345,
   "metadata": {},
   "outputs": [
    {
     "data": {
      "text/plain": [
       "array([0, 0, 0, 1, 0, 0, 0, 0, 1, 0, 0, 0, 0, 1, 0, 0, 0, 1, 0, 0, 0, 0,\n",
       "       0, 0, 0, 0, 0, 0, 0, 0, 0, 0, 0, 0, 0, 0, 0, 0, 0, 0, 0, 0, 0, 0,\n",
       "       0, 0, 0, 0, 0, 0, 0, 0, 0, 0, 0, 0, 0, 0, 0, 0, 0, 0, 0, 0, 0, 0,\n",
       "       0, 0, 1, 0, 1, 0, 0, 0, 0, 0, 0, 0, 1, 0, 0, 0, 0, 0, 0, 0, 0, 0,\n",
       "       0, 0, 0, 0, 0, 0, 0, 0, 0, 0, 0, 0, 0, 0, 0, 1, 0, 1, 0, 0, 0, 0,\n",
       "       0, 0, 0, 0, 1, 1, 0, 0, 0, 0, 1, 0, 0, 0, 0, 0, 0, 0, 0, 0, 0, 0,\n",
       "       0, 0, 0, 0, 0, 1, 0, 0, 0, 0, 0, 0, 0, 0, 0, 1, 0, 0, 0, 0, 0, 1,\n",
       "       0, 0, 0, 0, 0, 0, 0, 0, 0, 0, 0, 1, 0, 0, 1, 0, 0, 0, 0, 0, 0, 0,\n",
       "       0])"
      ]
     },
     "execution_count": 345,
     "metadata": {},
     "output_type": "execute_result"
    }
   ],
   "source": [
    "lr.fit(X_train_scaled, y_train)\n",
    "y_hat = lr.predict(X_train_scaled)\n",
    "y_hat"
   ]
  },
  {
   "cell_type": "markdown",
   "metadata": {},
   "source": [
    "### Exercise\n",
    "\n",
    "- print different metrics from sklearn.metrics for the predictions on the train set\n",
    "    - accuracy\n",
    "    - confusion matrix\n",
    "    - classification report"
   ]
  },
  {
   "cell_type": "code",
   "execution_count": 344,
   "metadata": {
    "scrolled": true
   },
   "outputs": [
    {
     "name": "stdout",
     "output_type": "stream",
     "text": [
      "accuracy 0.9887005649717514\n",
      "confusion matrix\n",
      " [[158   0]\n",
      " [  2  17]]\n",
      "classificaiton report\n",
      "               precision    recall  f1-score   support\n",
      "\n",
      "           0       0.99      1.00      0.99       158\n",
      "           1       1.00      0.89      0.94        19\n",
      "\n",
      "    accuracy                           0.99       177\n",
      "   macro avg       0.99      0.95      0.97       177\n",
      "weighted avg       0.99      0.99      0.99       177\n",
      "\n"
     ]
    }
   ],
   "source": [
    "print(f'accuracy {metrics.accuracy_score(y_train, y_hat)}')\n",
    "print(f'confusion matrix\\n {metrics.confusion_matrix(y_train, y_hat)}')\n",
    "print(f'classificaiton report\\n {metrics.classification_report(y_train, y_hat)}')"
   ]
  },
  {
   "cell_type": "markdown",
   "metadata": {},
   "source": [
    "__WARNING__: You should never optimize for the results of the test set. Test set should be always set aside and you should evaluate only once you have decided for the final model. You will learn later in the course how to treat such situations in the lecture about hyperparameter tuning.\n",
    "\n",
    "You can see from the confusion matrix that there are only 19 cases of the positive class in the train set while 2 of them were classified incorrectly and 17 correctly. We would rather want to predict correctly all those cases where target = 1. It is not a big deal if we tell the patient that she/he has a cancer while actually there is no cancer. The bigger problem is if we predict that the patient does not have a cancer while she/he actually has it. We can achieve it by changing the value of the threshold that is by default 50%. We shoulde therefore lower the threshold for the probability.\n",
    "\n",
    "After calling .predict() on your model it returned predicted classes. Instead of predicting classes directly you can return probabilites for each instance using predict_proba() method of logistic regression model. One row is one observation. The first column is the probability that the instance belongs to the first class and the second column tells you about the probability of the instance belonging to the second class. Sum of the first and second column for each instance is equal to 1. Which class is the first and which is the second? You can find out with classes_ attribute of the model.\n",
    "\n",
    "### Exercise\n",
    "\n",
    "- return classes with classes_ attribute\n",
    "- return probabilites of the X_train_scaled with a predict_proba() method\n",
    "- save the probabilities of the positive class into a variable *probs_train*"
   ]
  },
  {
   "cell_type": "code",
   "execution_count": 360,
   "metadata": {
    "scrolled": true
   },
   "outputs": [
    {
     "name": "stdout",
     "output_type": "stream",
     "text": [
      "[0 1]\n",
      "[[9.99986349e-01 1.36506107e-05]\n",
      " [9.99973312e-01 2.66875711e-05]\n",
      " [9.79098935e-01 2.09010646e-02]\n",
      " [2.00482825e-01 7.99517175e-01]\n",
      " [1.00000000e+00 3.49121456e-10]\n",
      " [9.99997416e-01 2.58440200e-06]\n",
      " [9.99633629e-01 3.66370694e-04]\n",
      " [9.31155888e-01 6.88441124e-02]\n",
      " [8.85064145e-03 9.91149359e-01]\n",
      " [9.99790896e-01 2.09104312e-04]\n",
      " [9.95498598e-01 4.50140167e-03]\n",
      " [9.99962792e-01 3.72079986e-05]\n",
      " [9.74699163e-01 2.53008374e-02]\n",
      " [4.99662460e-03 9.95003375e-01]\n",
      " [9.99999943e-01 5.68867580e-08]\n",
      " [9.56507711e-01 4.34922894e-02]\n",
      " [9.99999997e-01 3.00053563e-09]\n",
      " [1.48637472e-01 8.51362528e-01]\n",
      " [9.99984645e-01 1.53546471e-05]\n",
      " [9.95172754e-01 4.82724644e-03]\n",
      " [9.79316279e-01 2.06837205e-02]\n",
      " [9.99991350e-01 8.65019605e-06]\n",
      " [9.99724619e-01 2.75380726e-04]\n",
      " [9.96203722e-01 3.79627848e-03]\n",
      " [9.97917611e-01 2.08238861e-03]\n",
      " [9.99985388e-01 1.46117305e-05]\n",
      " [9.56593959e-01 4.34060411e-02]\n",
      " [9.82767534e-01 1.72324656e-02]\n",
      " [9.91508978e-01 8.49102234e-03]\n",
      " [9.13715851e-01 8.62841490e-02]\n",
      " [9.99933566e-01 6.64336984e-05]\n",
      " [1.00000000e+00 2.78746183e-10]\n",
      " [9.99852035e-01 1.47964957e-04]\n",
      " [7.32219630e-01 2.67780370e-01]\n",
      " [9.96263300e-01 3.73669975e-03]\n",
      " [9.97613380e-01 2.38662041e-03]\n",
      " [9.99979195e-01 2.08047213e-05]\n",
      " [9.98373238e-01 1.62676171e-03]\n",
      " [9.83864435e-01 1.61355646e-02]\n",
      " [9.99802244e-01 1.97756381e-04]\n",
      " [9.99999752e-01 2.48453025e-07]\n",
      " [9.92866000e-01 7.13399962e-03]\n",
      " [5.58631329e-01 4.41368671e-01]\n",
      " [9.99988310e-01 1.16896253e-05]\n",
      " [9.99999294e-01 7.06038432e-07]\n",
      " [9.99999946e-01 5.43654270e-08]\n",
      " [9.99999620e-01 3.79818980e-07]\n",
      " [9.99998031e-01 1.96855162e-06]\n",
      " [9.97517529e-01 2.48247130e-03]\n",
      " [9.97824661e-01 2.17533932e-03]\n",
      " [9.99218846e-01 7.81154050e-04]\n",
      " [9.99999373e-01 6.26588944e-07]\n",
      " [9.99995249e-01 4.75143457e-06]\n",
      " [8.99085191e-01 1.00914809e-01]\n",
      " [9.93828008e-01 6.17199153e-03]\n",
      " [9.99999385e-01 6.15479573e-07]\n",
      " [9.99861718e-01 1.38281564e-04]\n",
      " [9.99999994e-01 5.92814685e-09]\n",
      " [9.76247102e-01 2.37528981e-02]\n",
      " [6.47966731e-01 3.52033269e-01]\n",
      " [9.99999999e-01 9.08783198e-10]\n",
      " [9.60647045e-01 3.93529554e-02]\n",
      " [9.99998601e-01 1.39879800e-06]\n",
      " [9.99796865e-01 2.03135044e-04]\n",
      " [9.87228990e-01 1.27710099e-02]\n",
      " [9.99999715e-01 2.84807677e-07]\n",
      " [9.62858126e-01 3.71418739e-02]\n",
      " [9.98246939e-01 1.75306116e-03]\n",
      " [2.23960185e-01 7.76039815e-01]\n",
      " [9.99996731e-01 3.26883952e-06]\n",
      " [1.45091291e-01 8.54908709e-01]\n",
      " [9.99746746e-01 2.53253757e-04]\n",
      " [9.99993295e-01 6.70476085e-06]\n",
      " [9.99730049e-01 2.69951127e-04]\n",
      " [9.86841954e-01 1.31580460e-02]\n",
      " [9.98300379e-01 1.69962149e-03]\n",
      " [9.99485839e-01 5.14160710e-04]\n",
      " [9.39091261e-01 6.09087392e-02]\n",
      " [9.33263388e-03 9.90667366e-01]\n",
      " [9.95105583e-01 4.89441693e-03]\n",
      " [9.99111235e-01 8.88764632e-04]\n",
      " [9.81154535e-01 1.88454653e-02]\n",
      " [9.36306963e-01 6.36930373e-02]\n",
      " [9.79408405e-01 2.05915946e-02]\n",
      " [9.55450731e-01 4.45492689e-02]\n",
      " [9.50413983e-01 4.95860165e-02]\n",
      " [9.99852223e-01 1.47776628e-04]\n",
      " [9.99557006e-01 4.42994157e-04]\n",
      " [9.77814174e-01 2.21858263e-02]\n",
      " [9.99936885e-01 6.31149486e-05]\n",
      " [9.95104525e-01 4.89547483e-03]\n",
      " [9.76551944e-01 2.34480560e-02]\n",
      " [9.99028057e-01 9.71943347e-04]\n",
      " [9.96292996e-01 3.70700393e-03]\n",
      " [9.97130230e-01 2.86976957e-03]\n",
      " [9.99964991e-01 3.50093218e-05]\n",
      " [9.99435644e-01 5.64355578e-04]\n",
      " [5.05639731e-01 4.94360269e-01]\n",
      " [9.99954657e-01 4.53428565e-05]\n",
      " [9.98588209e-01 1.41179120e-03]\n",
      " [9.99999937e-01 6.29565963e-08]\n",
      " [9.99443069e-01 5.56930674e-04]\n",
      " [9.99989846e-01 1.01540684e-05]\n",
      " [2.35969390e-01 7.64030610e-01]\n",
      " [9.99138359e-01 8.61641248e-04]\n",
      " [4.65244255e-02 9.53475574e-01]\n",
      " [9.98109583e-01 1.89041682e-03]\n",
      " [9.99999974e-01 2.58781542e-08]\n",
      " [9.99981337e-01 1.86630119e-05]\n",
      " [9.92608613e-01 7.39138675e-03]\n",
      " [9.91504750e-01 8.49524961e-03]\n",
      " [1.00000000e+00 1.12282862e-12]\n",
      " [9.95720617e-01 4.27938321e-03]\n",
      " [9.99699691e-01 3.00309363e-04]\n",
      " [3.17208568e-02 9.68279143e-01]\n",
      " [1.66889079e-03 9.98331109e-01]\n",
      " [9.65510322e-01 3.44896777e-02]\n",
      " [9.97921856e-01 2.07814392e-03]\n",
      " [9.64240822e-01 3.57591782e-02]\n",
      " [9.70293672e-01 2.97063279e-02]\n",
      " [1.24614713e-01 8.75385287e-01]\n",
      " [9.99999669e-01 3.30729254e-07]\n",
      " [9.99933801e-01 6.61989553e-05]\n",
      " [9.99351280e-01 6.48720348e-04]\n",
      " [9.99999981e-01 1.94477518e-08]\n",
      " [9.99999941e-01 5.85735783e-08]\n",
      " [9.75230770e-01 2.47692300e-02]\n",
      " [9.99834716e-01 1.65283610e-04]\n",
      " [7.26103828e-01 2.73896172e-01]\n",
      " [9.99972485e-01 2.75146257e-05]\n",
      " [9.99964466e-01 3.55343740e-05]\n",
      " [7.72093521e-01 2.27906479e-01]\n",
      " [9.99983274e-01 1.67262208e-05]\n",
      " [9.91310680e-01 8.68932029e-03]\n",
      " [9.99615021e-01 3.84978526e-04]\n",
      " [9.99999995e-01 4.60432474e-09]\n",
      " [9.83559195e-01 1.64408047e-02]\n",
      " [7.54293037e-04 9.99245707e-01]\n",
      " [9.99999951e-01 4.94803724e-08]\n",
      " [9.68601552e-01 3.13984476e-02]\n",
      " [9.99958467e-01 4.15326302e-05]\n",
      " [9.97105605e-01 2.89439534e-03]\n",
      " [9.99992830e-01 7.16971791e-06]\n",
      " [9.99999251e-01 7.49164223e-07]\n",
      " [9.99740678e-01 2.59322002e-04]\n",
      " [9.99984115e-01 1.58849734e-05]\n",
      " [9.98906049e-01 1.09395056e-03]\n",
      " [3.28780498e-01 6.71219502e-01]\n",
      " [1.00000000e+00 2.35955927e-16]\n",
      " [9.23446402e-01 7.65535978e-02]\n",
      " [9.99998390e-01 1.60959885e-06]\n",
      " [9.21788510e-01 7.82114904e-02]\n",
      " [9.99997726e-01 2.27412282e-06]\n",
      " [3.07976253e-03 9.96920237e-01]\n",
      " [9.99820828e-01 1.79172252e-04]\n",
      " [5.92781139e-01 4.07218861e-01]\n",
      " [9.99691096e-01 3.08903794e-04]\n",
      " [9.99301725e-01 6.98274908e-04]\n",
      " [9.99447642e-01 5.52357824e-04]\n",
      " [9.95707461e-01 4.29253901e-03]\n",
      " [9.82606067e-01 1.73939331e-02]\n",
      " [9.95795136e-01 4.20486371e-03]\n",
      " [9.97597367e-01 2.40263342e-03]\n",
      " [9.99999987e-01 1.30315357e-08]\n",
      " [9.99212096e-01 7.87904246e-04]\n",
      " [2.96859598e-01 7.03140402e-01]\n",
      " [9.92885986e-01 7.11401378e-03]\n",
      " [9.99780461e-01 2.19539443e-04]\n",
      " [4.31052861e-02 9.56894714e-01]\n",
      " [9.99999601e-01 3.99246507e-07]\n",
      " [9.99343538e-01 6.56462029e-04]\n",
      " [9.99881621e-01 1.18378784e-04]\n",
      " [9.99984894e-01 1.51060435e-05]\n",
      " [9.67547470e-01 3.24525302e-02]\n",
      " [1.00000000e+00 3.02293704e-10]\n",
      " [9.99965879e-01 3.41213136e-05]\n",
      " [9.99825853e-01 1.74147054e-04]]\n"
     ]
    }
   ],
   "source": [
    "print(lr.classes_)\n",
    "print(lr.predict_proba(X_train_scaled))\n",
    "probs_train = lr.predict_proba(X_train_scaled)[:,1]"
   ]
  },
  {
   "cell_type": "markdown",
   "metadata": {},
   "source": [
    "### Exercise \n",
    "\n",
    "- define the value of a threshold equal to 20%\n",
    "- use probabilities saved in the variable *probs_train*. If the value of the probability is >= than threshold then the prediction should be equal to 1. Hint: boolean values can be converted to 0/1 with boolean_values.astype(int)\n",
    "- return confusion_matrix as well as classification_report for a train set"
   ]
  },
  {
   "cell_type": "code",
   "execution_count": 361,
   "metadata": {},
   "outputs": [
    {
     "name": "stdout",
     "output_type": "stream",
     "text": [
      "[[153   5]\n",
      " [  0  19]]\n",
      "              precision    recall  f1-score   support\n",
      "\n",
      "           0       1.00      0.97      0.98       158\n",
      "           1       0.79      1.00      0.88        19\n",
      "\n",
      "    accuracy                           0.97       177\n",
      "   macro avg       0.90      0.98      0.93       177\n",
      "weighted avg       0.98      0.97      0.97       177\n",
      "\n"
     ]
    }
   ],
   "source": [
    "threshold = 0.2\n",
    "preds_train = (probs>=threshold).astype(int)\n",
    "print(metrics.confusion_matrix(y_train, preds_train))\n",
    "print(metrics.classification_report(y_train, preds_train))"
   ]
  },
  {
   "cell_type": "markdown",
   "metadata": {},
   "source": [
    "It seems now that all the positive cases are classified correctly thanks to the change of the prediction threshold. Let's check the performance on the test data.\n",
    "\n",
    "### Exercise\n",
    "\n",
    "- return probabilites of a positive class from the model on the X_test_scaled dataset\n",
    "- convert the probabilities into predictions with a threshold 20% as above\n",
    "- return confusion_matrix and a classification_report"
   ]
  },
  {
   "cell_type": "code",
   "execution_count": 362,
   "metadata": {
    "scrolled": true
   },
   "outputs": [
    {
     "name": "stdout",
     "output_type": "stream",
     "text": [
      "[[52  2]\n",
      " [ 0  6]]\n",
      "              precision    recall  f1-score   support\n",
      "\n",
      "           0       1.00      0.96      0.98        54\n",
      "           1       0.75      1.00      0.86         6\n",
      "\n",
      "    accuracy                           0.97        60\n",
      "   macro avg       0.88      0.98      0.92        60\n",
      "weighted avg       0.97      0.97      0.97        60\n",
      "\n"
     ]
    }
   ],
   "source": [
    "probs_test = lr.predict_proba(X_test_scaled)[:,1]\n",
    "preds_test=(probs_test>=0.2).astype(int)\n",
    "print(metrics.confusion_matrix(y_test, preds_test))\n",
    "print(metrics.classification_report(y_test, preds_test))"
   ]
  },
  {
   "cell_type": "markdown",
   "metadata": {},
   "source": [
    "Great. The model classifies all the 6 positive cases correctly on a test set. There are 2 cases when the patient did not have a cancer but the model predicted a cancer. What we actually wanted to optimize here is a recall for a positive class as we want to catch as many positive cases as possible. You can see the values of recall for class 1 as a function of a threshold on the chart below"
   ]
  },
  {
   "cell_type": "code",
   "execution_count": 375,
   "metadata": {},
   "outputs": [
    {
     "data": {
      "image/png": "[encoded data removed]",
      "text/plain": [
       "<Figure size 1080x432 with 1 Axes>"
      ]
     },
     "metadata": {
      "needs_background": "light"
     },
     "output_type": "display_data"
    }
   ],
   "source": [
    "recalls = []\n",
    "for threshold in np.linspace(0,1,100):\n",
    "    preds_train = (probs_train>=threshold).astype(int)\n",
    "    recalls.append(metrics.classification_report(y_train, preds_train, output_dict=True,zero_division=1)['1']['recall'])\n",
    "plt.xlabel('threshold')\n",
    "plt.ylabel('recall for class 1')\n",
    "plt.title(\"A search for optimal threshold\")\n",
    "plt.plot(np.linspace(0,1,100), recalls)\n",
    "plt.show()"
   ]
  },
  {
   "cell_type": "markdown",
   "metadata": {},
   "source": [
    "You can return parameters of the fitted model. This is convenient for automatic retraining of the model where you can extract the parameters of the best model and also set the parameters of the model with set_params(**params)."
   ]
  },
  {
   "cell_type": "code",
   "execution_count": 141,
   "metadata": {},
   "outputs": [
    {
     "data": {
      "text/plain": [
       "{'C': 0.01,\n",
       " 'class_weight': None,\n",
       " 'dual': False,\n",
       " 'fit_intercept': True,\n",
       " 'intercept_scaling': 1,\n",
       " 'l1_ratio': None,\n",
       " 'max_iter': 100,\n",
       " 'multi_class': 'auto',\n",
       " 'n_jobs': None,\n",
       " 'penalty': 'l1',\n",
       " 'random_state': None,\n",
       " 'solver': 'liblinear',\n",
       " 'tol': 0.0001,\n",
       " 'verbose': 0,\n",
       " 'warm_start': False}"
      ]
     },
     "execution_count": 141,
     "metadata": {},
     "output_type": "execute_result"
    }
   ],
   "source": [
    "lr.get_params()"
   ]
  },
  {
   "cell_type": "markdown",
   "metadata": {},
   "source": [
    "## Regularization\n",
    "\n",
    "Similarly to linear regression you can apply any of the l1, l2 and elastic net regularization techniques. The strength of the regularization is here defined with a parameter C which is an inverse of alpha. This means that smaller the C the stronger the regularization. Default value is 1.\n",
    "\n",
    "Different regularization techniques work only with certain solver, e.g. for L1 penalty we have to use either liblinear or saga solver, L2 can be handled with newton-cg, lbfgs and sag solvers, elasticnet works only with saga solver. For elasticnet you can adjust parameter l1_ratio.\n",
    "\n",
    "### Exercise\n",
    "\n",
    "- fit the logistic regression on X_train_scaled with a regularization of your choice with a parameter penalty\n",
    "- change the solver if needed, see documentation\n",
    "- try different values of C to see the effect on results, try also stroner values like 0.1, 0.01,...\n",
    "- predict on X_test_scaled and return classification report"
   ]
  },
  {
   "cell_type": "code",
   "execution_count": 379,
   "metadata": {
    "scrolled": true
   },
   "outputs": [
    {
     "name": "stdout",
     "output_type": "stream",
     "text": [
      "              precision    recall  f1-score   support\n",
      "\n",
      "           0       0.95      1.00      0.97        54\n",
      "           1       1.00      0.50      0.67         6\n",
      "\n",
      "    accuracy                           0.95        60\n",
      "   macro avg       0.97      0.75      0.82        60\n",
      "weighted avg       0.95      0.95      0.94        60\n",
      "\n"
     ]
    }
   ],
   "source": [
    "lr = LogisticRegression(penalty='l1', C = 0.1, solver='liblinear')\n",
    "lr.fit(X_train_scaled, y_train)\n",
    "y_pred = lr.predict(X_test_scaled)\n",
    "print(metrics.classification_report(y_test, y_pred))"
   ]
  },
  {
   "cell_type": "code",
   "execution_count": 380,
   "metadata": {},
   "outputs": [
    {
     "name": "stdout",
     "output_type": "stream",
     "text": [
      "coefficients of the logistic regression:\n",
      " [[ 0.          0.          0.          0.          0.          0.\n",
      "   0.          0.          0.          0.          0.          0.\n",
      "   0.          0.          0.          0.          0.          0.\n",
      "   0.          0.         -0.42836648  0.          0.          0.\n",
      "   0.          0.          0.         -0.62833411  0.          0.        ]]\n"
     ]
    }
   ],
   "source": [
    "print(f'coefficients of the logistic regression:\\n {lr.coef_}')"
   ]
  },
  {
   "cell_type": "markdown",
   "metadata": {},
   "source": [
    "If you fitted for example LogisticRegression(penalty='l1', C = 0.1, solver='liblinear') you would see that many of the coefficients are equal to 0. This behavior of l1 is expected not only for linear but also for logistic regression."
   ]
  },
  {
   "cell_type": "markdown",
   "metadata": {},
   "source": [
    "# Multinomial Logistic Regression"
   ]
  },
  {
   "cell_type": "markdown",
   "metadata": {},
   "source": [
    "## Load data\n",
    "\n",
    "We will use here a dataset with a handwritten numbers in a low resolution of 8x8 pixels. One row is 64 values of pixels. There are 10 classes. You can see few examples of obserations in the picture below. We perform also a usual train test split and a scaling of features to help optimizers converge"
   ]
  },
  {
   "cell_type": "code",
   "execution_count": 386,
   "metadata": {
    "scrolled": true
   },
   "outputs": [
    {
     "data": {
      "image/png": "[encoded data removed]",
      "text/plain": [
       "<Figure size 1080x432 with 10 Axes>"
      ]
     },
     "metadata": {
      "needs_background": "light"
     },
     "output_type": "display_data"
    }
   ],
   "source": [
    "data = datasets.load_digits()\n",
    "X, y = data.data, data.target\n",
    "X_train , X_test , y_train , y_test = train_test_split(X, y, random_state=42)\n",
    "\n",
    "scaler = StandardScaler()\n",
    "X_train_scaled = scaler.fit_transform(X_train)\n",
    "X_test_scaled = scaler.transform(X_test)\n",
    "\n",
    "for i in range(10):\n",
    "    plt.subplot(2,5,i+1)\n",
    "    num = random.randint(0, len(digits.data))\n",
    "    plt.imshow(data.images[num], cmap=plt.cm.gray, vmax=16, interpolation='nearest')"
   ]
  },
  {
   "cell_type": "code",
   "execution_count": 385,
   "metadata": {
    "scrolled": true
   },
   "outputs": [
    {
     "name": "stdout",
     "output_type": "stream",
     "text": [
      ".. _digits_dataset:\n",
      "\n",
      "Optical recognition of handwritten digits dataset\n",
      "--------------------------------------------------\n",
      "\n",
      "**Data Set Characteristics:**\n",
      "\n",
      "    :Number of Instances: 1797\n",
      "    :Number of Attributes: 64\n",
      "    :Attribute Information: 8x8 image of integer pixels in the range 0..16.\n",
      "    :Missing Attribute Values: None\n",
      "    :Creator: E. Alpaydin (alpaydin '@' boun.edu.tr)\n",
      "    :Date: July; 1998\n",
      "\n",
      "This is a copy of the test set of the UCI ML hand-written digits datasets\n",
      "https://archive.ics.uci.edu/ml/datasets/Optical+Recognition+of+Handwritten+Digits\n",
      "\n",
      "The data set contains images of hand-written digits: 10 classes where\n",
      "each class refers to a digit.\n",
      "\n",
      "Preprocessing programs made available by NIST were used to extract\n",
      "normalized bitmaps of handwritten digits from a preprinted form. From a\n",
      "total of 43 people, 30 contributed to the training set and different 13\n",
      "to the test set. 32x32 bitmaps are divided into nonoverlapping blocks of\n",
      "4x4 and the number of on pixels are counted in each block. This generates\n",
      "an input matrix of 8x8 where each element is an integer in the range\n",
      "0..16. This reduces dimensionality and gives invariance to small\n",
      "distortions.\n",
      "\n",
      "For info on NIST preprocessing routines, see M. D. Garris, J. L. Blue, G.\n",
      "T. Candela, D. L. Dimmick, J. Geist, P. J. Grother, S. A. Janet, and C.\n",
      "L. Wilson, NIST Form-Based Handprint Recognition System, NISTIR 5469,\n",
      "1994.\n",
      "\n",
      ".. topic:: References\n",
      "\n",
      "  - C. Kaynak (1995) Methods of Combining Multiple Classifiers and Their\n",
      "    Applications to Handwritten Digit Recognition, MSc Thesis, Institute of\n",
      "    Graduate Studies in Science and Engineering, Bogazici University.\n",
      "  - E. Alpaydin, C. Kaynak (1998) Cascading Classifiers, Kybernetika.\n",
      "  - Ken Tang and Ponnuthurai N. Suganthan and Xi Yao and A. Kai Qin.\n",
      "    Linear dimensionalityreduction using relevance weighted LDA. School of\n",
      "    Electrical and Electronic Engineering Nanyang Technological University.\n",
      "    2005.\n",
      "  - Claudio Gentile. A New Approximate Maximal Margin Classification\n",
      "    Algorithm. NIPS. 2000.\n",
      "\n"
     ]
    }
   ],
   "source": [
    "print(data.DESCR)"
   ]
  },
  {
   "cell_type": "markdown",
   "metadata": {},
   "source": [
    "### Exercise\n",
    "\n",
    "- fit a default logistic regression on X_train_scaled, y_train\n",
    "- predict and print the classification report on X_test_scaled"
   ]
  },
  {
   "cell_type": "code",
   "execution_count": 395,
   "metadata": {},
   "outputs": [],
   "source": [
    "lr = LogisticRegression()\n",
    "lr.fit(X_train_scaled, y_train)\n",
    "y_hat = lr.predict(X_test_scaled)"
   ]
  },
  {
   "cell_type": "code",
   "execution_count": 392,
   "metadata": {},
   "outputs": [
    {
     "name": "stdout",
     "output_type": "stream",
     "text": [
      "              precision    recall  f1-score   support\n",
      "\n",
      "           0       1.00      1.00      1.00        43\n",
      "           1       0.97      0.97      0.97        37\n",
      "           2       0.97      1.00      0.99        38\n",
      "           3       0.98      0.93      0.96        46\n",
      "           4       1.00      0.98      0.99        55\n",
      "           5       0.95      0.95      0.95        59\n",
      "           6       0.98      0.98      0.98        45\n",
      "           7       1.00      0.98      0.99        41\n",
      "           8       0.93      0.97      0.95        38\n",
      "           9       0.94      0.96      0.95        48\n",
      "\n",
      "    accuracy                           0.97       450\n",
      "   macro avg       0.97      0.97      0.97       450\n",
      "weighted avg       0.97      0.97      0.97       450\n",
      "\n"
     ]
    }
   ],
   "source": [
    "print(metrics.classification_report(y_test, y_hat)) # zero_division=1"
   ]
  },
  {
   "cell_type": "markdown",
   "metadata": {},
   "source": [
    "You can see that in the classification report there is 1 row per 1 class with all the statistics.\n",
    "\n",
    "If you return probabilites with the predict_proba() method you will see that it has 1 column per 1 class. It is a generalization of the binary case. The sum of all the probabilities per 1 row is equal to 1"
   ]
  },
  {
   "cell_type": "code",
   "execution_count": 401,
   "metadata": {},
   "outputs": [
    {
     "name": "stdout",
     "output_type": "stream",
     "text": [
      "predict_proba shape: (450, 10)\n"
     ]
    }
   ],
   "source": [
    "probs = lr.predict_proba(X_test_scaled)\n",
    "print(f'predict_proba shape: {probs.shape}')"
   ]
  },
  {
   "cell_type": "markdown",
   "metadata": {},
   "source": [
    "Logistic regression can handle multinomial regression without any special setting. There is however a parameter that lets you choose the strategy for the multinomial problem. It is either one_vs_rest or softmax regression. The choice of the strategy is also dependent on the selected solver. I.e. if the solver = 'liblinear' then a softmax regression is not possible. In this case and if the problem is binary, the default strategy for multi_class is one vs rest. Otherwise it is softmax\n",
    "\n",
    "### Exercise\n",
    "- fit logistic regression on X_train_scaled, y_train. use parameter multi_class with a value 'ovr' which is one versus rest strategy\n",
    "- return probabilities"
   ]
  },
  {
   "cell_type": "code",
   "execution_count": 404,
   "metadata": {
    "scrolled": true
   },
   "outputs": [
    {
     "name": "stdout",
     "output_type": "stream",
     "text": [
      "predict_proba shape: (450, 10)\n"
     ]
    },
    {
     "data": {
      "text/plain": [
       "array([1., 1., 1., 1., 1., 1., 1., 1., 1., 1., 1., 1., 1., 1., 1., 1., 1.,\n",
       "       1., 1., 1., 1., 1., 1., 1., 1., 1., 1., 1., 1., 1., 1., 1., 1., 1.,\n",
       "       1., 1., 1., 1., 1., 1., 1., 1., 1., 1., 1., 1., 1., 1., 1., 1., 1.,\n",
       "       1., 1., 1., 1., 1., 1., 1., 1., 1., 1., 1., 1., 1., 1., 1., 1., 1.,\n",
       "       1., 1., 1., 1., 1., 1., 1., 1., 1., 1., 1., 1., 1., 1., 1., 1., 1.,\n",
       "       1., 1., 1., 1., 1., 1., 1., 1., 1., 1., 1., 1., 1., 1., 1., 1., 1.,\n",
       "       1., 1., 1., 1., 1., 1., 1., 1., 1., 1., 1., 1., 1., 1., 1., 1., 1.,\n",
       "       1., 1., 1., 1., 1., 1., 1., 1., 1., 1., 1., 1., 1., 1., 1., 1., 1.,\n",
       "       1., 1., 1., 1., 1., 1., 1., 1., 1., 1., 1., 1., 1., 1., 1., 1., 1.,\n",
       "       1., 1., 1., 1., 1., 1., 1., 1., 1., 1., 1., 1., 1., 1., 1., 1., 1.,\n",
       "       1., 1., 1., 1., 1., 1., 1., 1., 1., 1., 1., 1., 1., 1., 1., 1., 1.,\n",
       "       1., 1., 1., 1., 1., 1., 1., 1., 1., 1., 1., 1., 1., 1., 1., 1., 1.,\n",
       "       1., 1., 1., 1., 1., 1., 1., 1., 1., 1., 1., 1., 1., 1., 1., 1., 1.,\n",
       "       1., 1., 1., 1., 1., 1., 1., 1., 1., 1., 1., 1., 1., 1., 1., 1., 1.,\n",
       "       1., 1., 1., 1., 1., 1., 1., 1., 1., 1., 1., 1., 1., 1., 1., 1., 1.,\n",
       "       1., 1., 1., 1., 1., 1., 1., 1., 1., 1., 1., 1., 1., 1., 1., 1., 1.,\n",
       "       1., 1., 1., 1., 1., 1., 1., 1., 1., 1., 1., 1., 1., 1., 1., 1., 1.,\n",
       "       1., 1., 1., 1., 1., 1., 1., 1., 1., 1., 1., 1., 1., 1., 1., 1., 1.,\n",
       "       1., 1., 1., 1., 1., 1., 1., 1., 1., 1., 1., 1., 1., 1., 1., 1., 1.,\n",
       "       1., 1., 1., 1., 1., 1., 1., 1., 1., 1., 1., 1., 1., 1., 1., 1., 1.,\n",
       "       1., 1., 1., 1., 1., 1., 1., 1., 1., 1., 1., 1., 1., 1., 1., 1., 1.,\n",
       "       1., 1., 1., 1., 1., 1., 1., 1., 1., 1., 1., 1., 1., 1., 1., 1., 1.,\n",
       "       1., 1., 1., 1., 1., 1., 1., 1., 1., 1., 1., 1., 1., 1., 1., 1., 1.,\n",
       "       1., 1., 1., 1., 1., 1., 1., 1., 1., 1., 1., 1., 1., 1., 1., 1., 1.,\n",
       "       1., 1., 1., 1., 1., 1., 1., 1., 1., 1., 1., 1., 1., 1., 1., 1., 1.,\n",
       "       1., 1., 1., 1., 1., 1., 1., 1., 1., 1., 1., 1., 1., 1., 1., 1., 1.,\n",
       "       1., 1., 1., 1., 1., 1., 1., 1.])"
      ]
     },
     "execution_count": 404,
     "metadata": {},
     "output_type": "execute_result"
    }
   ],
   "source": [
    "lr = LogisticRegression(multi_class='ovr')\n",
    "lr.fit(X_train_scaled, y_train)\n",
    "y_hat = lr.predict(X_test_scaled)\n",
    "probs = lr.predict_proba(X_test_scaled)\n",
    "print(f'predict_proba shape: {probs.shape}')\n",
    "np.sum(probs,axis=1)"
   ]
  },
  {
   "cell_type": "code",
   "execution_count": null,
   "metadata": {},
   "outputs": [],
   "source": [
    "from sklearn.datasets import load_iris\n",
    "from sklearn.linear_model import LogisticRegression\n",
    "X, y = load_iris(return_X_y=True)\n",
    "clf = LogisticRegression(random_state=0).fit(X, y)\n",
    "clf.predict(X[:2, :])\n",
    "\n",
    "clf.predict_proba(X[:2, :])\n",
    "clf.score(X, y)"
   ]
  },
  {
   "cell_type": "markdown",
   "metadata": {},
   "source": [
    "------------------------------------------------------------------------------------------------------------\n",
    "Material adapted for RBI internal purposes with full permissions from original authors. Source: https://github.com/zatkopatrik/authentic-data-science"
   ]
  }
 ],
 "metadata": {
  "kernelspec": {
   "display_name": "Python 3",
   "language": "python",
   "name": "python3"
  },
  "language_info": {
   "codemirror_mode": {
    "name": "ipython",
    "version": 3
   },
   "file_extension": ".py",
   "mimetype": "text/x-python",
   "name": "python",
   "nbconvert_exporter": "python",
   "pygments_lexer": "ipython3",
   "version": "3.7.3"
  }
 },
 "nbformat": 4,
 "nbformat_minor": 2
}
