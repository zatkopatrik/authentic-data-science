{
 "cells": [
  {
   "cell_type": "markdown",
   "metadata": {},
   "source": [
    "# 1. Introduction\n",
    "\n",
    "## 1.1 Excel sheets vs. Pandas DataFrame\n",
    "Comparison of Excel sheets and Pandas DataFrame\n",
    "Image\n",
    "Introduction to Pandas library\n",
    "Importing Pandas library \n",
    "Loading the dataset\n",
    "\n",
    "\tExamples\n",
    "## 2.2 Pandas Series and DataFrames\n",
    "\n",
    "Pandas Series\n",
    "The definition\n",
    "Creating a Series and storing it in a variable\n",
    "Examples\n",
    "\n",
    "Pandas DataFrame\n",
    "The definition\n",
    "Creating a DataFrame and storing it in a variable\n",
    "Indexing and Slicing the DataFrame\n",
    "Examples\n",
    "\n",
    "## 2.3 First look at the data \n",
    "Introduction\n",
    "\n",
    "### 2.3.1 DataFrame Exploration\n",
    "\n",
    "shape, head(), tail(), sample(), info()\n",
    "\n",
    "### 2.3.2 Exploring columns  \n",
    "columns attribute\n",
    "Example\n",
    "\n",
    "### 2.3.3 Descriptive statistics \n",
    "describe() method\n",
    "mean(), sum(), std()\n",
    "value_counts() method\n",
    "\tExamples\n",
    "\n",
    "###2.3.4 Introduction to Pandas data type\n",
    "Table: Overlapping between Python data types and Pandas data types\n",
    "dtypes attribute\n",
    "Example\n",
    "\n",
    "### 2.3.4 Basic visualization \n",
    "Introduction to visualization\n",
    "Example: boxplot, barchart\n"
   ]
  },
  {
   "cell_type": "code",
   "execution_count": null,
   "metadata": {},
   "outputs": [],
   "source": []
  }
 ],
 "metadata": {
  "kernelspec": {
   "display_name": "Python 3",
   "language": "python",
   "name": "python3"
  },
  "language_info": {
   "codemirror_mode": {
    "name": "ipython",
    "version": 3
   },
   "file_extension": ".py",
   "mimetype": "text/x-python",
   "name": "python",
   "nbconvert_exporter": "python",
   "pygments_lexer": "ipython3",
   "version": "3.7.7"
  }
 },
 "nbformat": 4,
 "nbformat_minor": 4
}
