{
 "cells": [
  {
   "cell_type": "markdown",
   "metadata": {},
   "source": [
    "\n",
    "Introduction to functions\n",
    "\n",
    "What is a function\n",
    "comparison of Python built-in functions and user-defined functions\n",
    "\n",
    "Function body\n",
    "describing the parts of function body\n",
    "\n",
    "Image: header, body, return statement\n",
    "\n",
    "indentation\n",
    "\n",
    "Example of simple function:  writing and calling the function\n",
    "\n",
    "Positional and keyword arguments\n",
    "\tExample\n",
    "    \n",
    "Default parameters\n",
    "\t\tExample\n",
    "\n",
    "Examples:\n",
    "simple functions with print()\n",
    "functions with return statement\n",
    "functions with conditional statements\n",
    "functions with loops\n"
   ]
  }
 ],
 "metadata": {
  "kernelspec": {
   "display_name": "Python 3",
   "language": "python",
   "name": "python3"
  },
  "language_info": {
   "codemirror_mode": {
    "name": "ipython",
    "version": 3
   },
   "file_extension": ".py",
   "mimetype": "text/x-python",
   "name": "python",
   "nbconvert_exporter": "python",
   "pygments_lexer": "ipython3",
   "version": "3.7.7"
  }
 },
 "nbformat": 4,
 "nbformat_minor": 4
}
