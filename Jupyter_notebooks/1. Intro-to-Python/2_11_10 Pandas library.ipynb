{
 "cells": [
  {
   "cell_type": "markdown",
   "metadata": {},
   "source": [
    "# Introduction to Pandas\n",
    "\n",
    "Pandas is undoubtedly very powerful and useful library for analyzing data in a fast and efficient way. This library is built on top of Numpy, so it enables you to manipulate and explore your data using high-level code. Within this notebook we´ll introduce some basic features of Pandas.\n",
    "\n",
    "# Pandas Series\n",
    "\n",
    "Firstly, we need to understand core data structures of Pandas and so Series and DataFrames. Let´s begin with pandas´ Series, what are they and how can be created.\n",
    "\n",
    "As usually, we´ll import pandas library and give it an alias ´pd´ by convention."
   ]
  },
  {
   "cell_type": "code",
   "execution_count": 1,
   "metadata": {},
   "outputs": [],
   "source": [
    "# Importing pandas library\n",
    "import pandas as pd"
   ]
  },
  {
   "cell_type": "markdown",
   "metadata": {},
   "source": [
    "Okay, so what is a Series?? Let´s take it slowly here. I assume that you are familiar with Excel sheets. Take a look at the following image displaying example data of 8 Sweden's urban areas:"
   ]
  },
  {
   "cell_type": "markdown",
   "metadata": {},
   "source": [
    "Blue arrows point out to the values that are placed at specific position that is represent by numerated rows. Similarly, you can think of Series as sheets' column. Let's see pandas Series in action. To create a one, we use `Series()` where we pass list of values, in this case strings separated by commas:"
   ]
  },
  {
   "cell_type": "code",
   "execution_count": 2,
   "metadata": {},
   "outputs": [
    {
     "name": "stdout",
     "output_type": "stream",
     "text": [
      "0    Stockholm\n",
      "1      Uppsala\n",
      "2        Luleå\n",
      "3        Gävle\n",
      "4        Falun\n",
      "5         Lund\n",
      "6     Göteborg\n",
      "7     Karlstad\n",
      "dtype: object \n",
      "\n",
      " <class 'pandas.core.series.Series'>\n"
     ]
    }
   ],
   "source": [
    "# Creating a Series with string values\n",
    "first_series = pd.Series(['Stockholm','Uppsala','Luleå','Gävle','Falun','Lund','Göteborg','Karlstad'])\n",
    "# Printing first_series variable and the type\n",
    "print(first_series, '\\n'*2, type(first_series))"
   ]
  },
  {
   "cell_type": "markdown",
   "metadata": {},
   "source": [
    "Above result is a `Series` object that is simply 1-D array comprised of elements. Left to those elements are indices (axis labels) that are automatically created and start at **0**. Under the output array is `dtype: object` which tells us that the values of Series is of object data type, i.e. strings.\n",
    "\n",
    "There are several attributes of Series such as `index` attribute to get indices of a Series:"
   ]
  },
  {
   "cell_type": "code",
   "execution_count": 3,
   "metadata": {},
   "outputs": [
    {
     "data": {
      "text/plain": [
       "RangeIndex(start=0, stop=8, step=1)"
      ]
     },
     "execution_count": 3,
     "metadata": {},
     "output_type": "execute_result"
    }
   ],
   "source": [
    "# Getting indices of a Series\n",
    "first_series.index"
   ]
  },
  {
   "cell_type": "markdown",
   "metadata": {},
   "source": [
    "The output is `RangeIndex` type. This type of index is generated always when indeces are created automatically by Python. That means, when we are not explicitly defining them. "
   ]
  },
  {
   "cell_type": "code",
   "execution_count": 4,
   "metadata": {},
   "outputs": [
    {
     "data": {
      "text/plain": [
       "array(['Stockholm', 'Uppsala', 'Luleå', 'Gävle', 'Falun', 'Lund',\n",
       "       'Göteborg', 'Karlstad'], dtype=object)"
      ]
     },
     "execution_count": 4,
     "metadata": {},
     "output_type": "execute_result"
    }
   ],
   "source": [
    "first_series.values"
   ]
  },
  {
   "cell_type": "markdown",
   "metadata": {},
   "source": [
    "______\n",
    "\n",
    "- values,indeces,name of Series: adding indeces while initializing and after that\n",
    "- creating a series from data stored in dict, list\n",
    "- detecting NA using functions\n",
    "______"
   ]
  },
  {
   "cell_type": "markdown",
   "metadata": {},
   "source": [
    "# Pandas DataFrame\n",
    "\n",
    "**image - comparison of excel sheet and DataFrame**\n",
    "- description\n",
    "- creating df from various data inputs (dict, list)\n",
    "- adding a name to df\n",
    "- displaying values and indices of df\n",
    "- df reindexing `reindex()`\n",
    "- setting the index `set_index()`, `reset_index()`\n",
    "- adding a new column to df\n",
    "- dropping columns and rows (inplace, dropping by specifying label name or index and corresponding axis)"
   ]
  },
  {
   "cell_type": "markdown",
   "metadata": {},
   "source": [
    "# Selection techniques\n",
    "\n",
    "- indexing and filtering - several ways\n",
    "- the endpoint is inclusive  \n",
    "- slicing columns, rows, slicing based on some condition\n",
    "\n",
    "```\n",
    "data['count']\n",
    "data[0]\n",
    "data[0:3]\n",
    "data[data['count'] > 100]\n",
    "data.ix[] - label indexing on the rows\n",
    "data.loc[] - label-based or boolean array\n",
    "data.iloc[] - position-based\n",
    "data.query() - boolean expression\n",
    "data.where() - boolean expression\n",
    "```\n",
    "- example:retrieving column 'capital city' = need to be accessed using indexing: df['capital city'], df.capital city won´t work because of the space)\n",
    "- retrieved rows and columns are views of df not a copy - to create a copy, use `copy()`....or assign it to a new variable"
   ]
  },
  {
   "cell_type": "markdown",
   "metadata": {},
   "source": [
    "# DataFrame exploration\n",
    "\n",
    "initial exploration using:\n",
    "```\n",
    "data.head(), data.tail(), 5 by default\n",
    "data.sample()\n",
    "data.shape\n",
    "data.columns\n",
    "data.dtypes\n",
    "data.info\n",
    "```\n",
    "\n",
    "detecting missing values: \n",
    "- NaN, None values explanation\n",
    "- getting row indices with NA values\n",
    "\n",
    "```\n",
    "data.isna() = isnull()\n",
    "data.notna() = notnull()\n",
    "data.isna().sum()\n",
    "```\n",
    "detecting duplicated rows:    \n",
    "```\n",
    "data.duplicated() (to find duplicates on specific column/columns, use subset)"
   ]
  },
  {
   "cell_type": "markdown",
   "metadata": {},
   "source": [
    "# Descriptive statistics\n",
    "- all of these methods exclude NA values\n",
    "\n",
    "\n",
    "```\n",
    "data.describe(), include = 'object'\n",
    "data.min(), data.max()\n",
    "data.idxmin(), data.idxmax()\n",
    "data.mean() - applied on a selected column\n",
    "data.median()\n",
    "data.mode()\n",
    "```\n",
    "\n",
    "data.nunique() - unique observations\n",
    "data.value_counts() - counts of unique observations (ascending, normalizing)"
   ]
  },
  {
   "cell_type": "markdown",
   "metadata": {},
   "source": [
    "# Loading the data   \n",
    "```\n",
    "pd.read_csv() - parameters, exporting data\n",
    "pd.read_excel() - parameters, exporting data\n",
    "```\n"
   ]
  },
  {
   "cell_type": "code",
   "execution_count": null,
   "metadata": {},
   "outputs": [],
   "source": []
  }
 ],
 "metadata": {
  "kernelspec": {
   "display_name": "Python 3",
   "language": "python",
   "name": "python3"
  },
  "language_info": {
   "codemirror_mode": {
    "name": "ipython",
    "version": 3
   },
   "file_extension": ".py",
   "mimetype": "text/x-python",
   "name": "python",
   "nbconvert_exporter": "python",
   "pygments_lexer": "ipython3",
   "version": "3.7.9"
  }
 },
 "nbformat": 4,
 "nbformat_minor": 4
}
