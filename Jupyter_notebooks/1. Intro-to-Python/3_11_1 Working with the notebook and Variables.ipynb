{
 "cells": [
  {
   "cell_type": "markdown",
   "metadata": {},
   "source": [
    "Introduction to this notebook.\n",
    "\n",
    "# 1.1 Colab notebook\n",
    "\n",
    "What is Colaboratory and Colab notebooks\n",
    "Getting started with Colab notebook\n",
    "Link \n",
    "Creating first Colab notebook\n",
    "creating new notebook\n",
    "ipynb file extension explanation\n",
    "setting Notebook name\n",
    "intro to menu buttons\n",
    "Table of contents, Find and replace, Code snippets, Files\n",
    "\n",
    "# 1.2 Code and Text cells\n",
    "inserting cells\n",
    "executing cells\n",
    "adding cells\n",
    "moving cells\n",
    "editing Text cells\n",
    "Tab-completion for exploring\n",
    "commenting code with #\n",
    "\n",
    "How to import the data\n",
    "# 2.2 What is a variable\n",
    "The definition \n",
    "\n",
    "Example:\n",
    "the comparison of printing values and storing them\n",
    "\n",
    "Variable names updating\n",
    "Assignment operators (+=, -=, /= , *=)\n",
    "\tExamples:\n",
    "\n",
    "\n",
    "## 2.2.1 Syntax Rules of variable names\n",
    "How should we name our variables\n",
    "pythonic way:\n",
    "case sensitivity\n",
    "\n",
    "Examples:\n",
    "\n",
    "Variable names should make sense to you \t\n",
    "appropriate variable names\n",
    "\n",
    "Python keywords and identifiers \n",
    "Awareness of reserved words in Python\n",
    "Image with some of these functions, methods\n"
   ]
  },
  {
   "cell_type": "code",
   "execution_count": null,
   "metadata": {},
   "outputs": [],
   "source": []
  }
 ],
 "metadata": {
  "kernelspec": {
   "display_name": "Python 3",
   "language": "python",
   "name": "python3"
  },
  "language_info": {
   "codemirror_mode": {
    "name": "ipython",
    "version": 3
   },
   "file_extension": ".py",
   "mimetype": "text/x-python",
   "name": "python",
   "nbconvert_exporter": "python",
   "pygments_lexer": "ipython3",
   "version": "3.7.7"
  }
 },
 "nbformat": 4,
 "nbformat_minor": 4
}
