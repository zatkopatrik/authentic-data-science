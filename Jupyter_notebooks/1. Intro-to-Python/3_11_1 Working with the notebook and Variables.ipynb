{
 "cells": [
  {
   "cell_type": "markdown",
   "metadata": {},
   "source": [
    "# 0. Introduction to this notebook\n",
    "\n",
    "In this notebook we´ll focus on one of the most crucial concept of **variables** that is inevitable in the world of programming. It´s necessary to understand why we create variables, for what purpose and how they can be created. Next we´ll discuss that variables always have specific type and how this type can be changed. "
   ]
  },
  {
   "cell_type": "markdown",
   "metadata": {},
   "source": [
    "# 1.1 Colab notebook\n",
    "\n",
    "What is Colaboratory and Colab notebooks\n",
    "Getting started with Colab notebook\n",
    "Link \n",
    "Creating first Colab notebook\n",
    "creating new notebook\n",
    "ipynb file extension explanation\n",
    "setting Notebook name\n",
    "intro to menu buttons\n",
    "Table of contents, Find and replace, Code snippets, Files"
   ]
  },
  {
   "cell_type": "markdown",
   "metadata": {},
   "source": [
    "\n",
    "# 1.2 Code and Text cells\n",
    "inserting cells\n",
    "executing cells\n",
    "adding cells\n",
    "moving cells\n",
    "editing Text cells\n",
    "Tab-completion for exploring\n",
    "commenting code with #\n",
    "\n",
    "How to import the data"
   ]
  },
  {
   "cell_type": "markdown",
   "metadata": {},
   "source": [
    "# 2.2 What is a variable\n",
    "The definition \n",
    "\n",
    "Example:\n",
    "the comparison of printing values and storing them\n",
    "\n",
    "Variable names updating\n",
    "Assignment operators (+=, -=, /= , *=)\n",
    "\tExamples:"
   ]
  },
  {
   "cell_type": "markdown",
   "metadata": {},
   "source": [
    "\n",
    "\n",
    "## 2.2.1 Syntax Rules of variable names\n",
    "How should we name our variables\n",
    "pythonic way:\n",
    "case sensitivity\n",
    "\n",
    "Examples:\n",
    "\n",
    "Variable names should make sense to you \t\n",
    "appropriate variable names\n",
    "\n",
    "Python keywords and identifiers \n",
    "Awareness of reserved words in Python\n",
    "Image with some of these functions, methods"
   ]
  }
 ],
 "metadata": {
  "kernelspec": {
   "display_name": "Python 3",
   "language": "python",
   "name": "python3"
  },
  "language_info": {
   "codemirror_mode": {
    "name": "ipython",
    "version": 3
   },
   "file_extension": ".py",
   "mimetype": "text/x-python",
   "name": "python",
   "nbconvert_exporter": "python",
   "pygments_lexer": "ipython3",
   "version": "3.7.9"
  }
 },
 "nbformat": 4,
 "nbformat_minor": 4
}
