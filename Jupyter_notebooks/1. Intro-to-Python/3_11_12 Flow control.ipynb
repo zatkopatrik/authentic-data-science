{
 "cells": [
  {
   "cell_type": "markdown",
   "metadata": {},
   "source": [
    "Introduction to flow control tools.\n",
    "\n",
    "# 1. Conditional statements\n",
    "Introduction to conditional statements and the definition\n",
    "\n",
    "## 1.1 If statement\n",
    "The definition\n",
    "\n",
    "Examples: \n",
    "Using Boolean, comparison operators\n",
    "\n",
    "in and not in keyword\n",
    "\n",
    "\tExamples\n",
    "\t\n",
    "## 1.2 If else statement\n",
    "The definition\n",
    "Examples\n",
    "\n",
    "## 1.3 Elif statement\n",
    "The definition\n",
    "Examples\n",
    "Quiz\n",
    "\n",
    "# 2. Loops\n",
    "Introduction to Loops\n",
    "\n",
    "## 2.1 For loop\n",
    "The definition \n",
    "What are they used for \n",
    "Syntax of for loop\n",
    "describing parts of for loop\n",
    "\n",
    "Examples: looping through created list and print something\n",
    "\n",
    "items() method \n",
    "looping through created list and create a new list (or dictionary)\n",
    "range()\n",
    "looping through range and printing something output\n",
    "Quiz\n",
    "\n",
    "## 2.2 While loop \n",
    "The definition\n",
    "What are they used for \n",
    "Syntax\n",
    "\n",
    "\tExamples\n",
    "\n",
    "## 2.3 Break and continue statements \n",
    "The definition\n",
    "\n",
    "\tExamples\n"
   ]
  },
  {
   "cell_type": "code",
   "execution_count": null,
   "metadata": {},
   "outputs": [],
   "source": []
  }
 ],
 "metadata": {
  "kernelspec": {
   "display_name": "Python 3",
   "language": "python",
   "name": "python3"
  },
  "language_info": {
   "codemirror_mode": {
    "name": "ipython",
    "version": 3
   },
   "file_extension": ".py",
   "mimetype": "text/x-python",
   "name": "python",
   "nbconvert_exporter": "python",
   "pygments_lexer": "ipython3",
   "version": "3.7.7"
  }
 },
 "nbformat": 4,
 "nbformat_minor": 4
}
