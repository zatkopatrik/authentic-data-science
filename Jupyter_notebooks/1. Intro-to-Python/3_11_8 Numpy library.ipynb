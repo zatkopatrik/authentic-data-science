{
 "cells": [
  {
   "cell_type": "markdown",
   "metadata": {},
   "source": [
    "# Introduction\n",
    "\n",
    "In this lesson we´ll learn about extremely important package called `numpy`(Numerical Python) that is the core for scientific computing in Python. Using numpy, you can create array objects and perform various operations on them 'at the speed of light', while these objects are memory-efficient. \n",
    "\n",
    "Let´s visit the world of arrays!"
   ]
  },
  {
   "cell_type": "markdown",
   "metadata": {},
   "source": [
    "# 1. Creating arrays\n",
    "\n",
    "So, what is an array object? \n",
    "\n",
    "Array objects serve as a container for values, in other words it is a collection of values, commonly called n-dimensional array (ndarray for short). \n",
    "\n",
    "Array objects can have one or more dimensions and contain homogenous data:\n",
    "- vector: 1 dimension\n",
    "- matrix: 2 dimensions\n",
    "\n",
    "How the arrays store values?\n",
    "\n",
    "I assume that you remember creating list objects. When a list is created, each element is placed at the particular place in the memory. If you would perform some operation such as appending a new value, the size of a list will grown. This is different in case of numpy´s arrays. There is a fixed memory size when creating an array object called the data buffer. Ndarrays take the advantage of **locality reference** which means the tendency of processor If you change the size of an array by performing some operation, the original array will be deleted and replaced by a completely new array. Since the values of arrays are required to be of the same data type, the size of memory remain the same for all members. \n",
    "\n",
    "These are the two main advantages of ndarrays that allow us to perform operations much more faster compared to the other Python types. "
   ]
  },
  {
   "cell_type": "code",
   "execution_count": null,
   "metadata": {},
   "outputs": [],
   "source": []
  },
  {
   "cell_type": "markdown",
   "metadata": {},
   "source": [
    "# 2. Slicing arrays"
   ]
  },
  {
   "cell_type": "code",
   "execution_count": null,
   "metadata": {},
   "outputs": [],
   "source": []
  }
 ],
 "metadata": {
  "kernelspec": {
   "display_name": "Python 3",
   "language": "python",
   "name": "python3"
  },
  "language_info": {
   "codemirror_mode": {
    "name": "ipython",
    "version": 3
   },
   "file_extension": ".py",
   "mimetype": "text/x-python",
   "name": "python",
   "nbconvert_exporter": "python",
   "pygments_lexer": "ipython3",
   "version": "3.7.9"
  }
 },
 "nbformat": 4,
 "nbformat_minor": 4
}
