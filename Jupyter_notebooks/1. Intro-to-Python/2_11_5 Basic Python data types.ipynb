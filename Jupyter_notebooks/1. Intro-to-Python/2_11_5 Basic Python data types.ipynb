{
  "nbformat": 4,
  "nbformat_minor": 0,
  "metadata": {
    "colab": {
      "name": "2_11_5_Basic_Python_data_types.ipynb",
      "provenance": [],
      "collapsed_sections": []
    },
    "kernelspec": {
      "name": "python3",
      "display_name": "Python 3"
    }
  },
  "cells": [
    {
      "cell_type": "markdown",
      "metadata": {
        "id": "b7yCXzcbvywT"
      },
      "source": [
        "# Python Data Types\n",
        "\n",
        "There are several built-in types in Python. Each object is assigned a specific type based on which certain methods and functions can be performed. \n",
        "\n",
        "\n",
        "In this notebook, we`ll introduce numeric and text sequence data type. "
      ]
    },
    {
      "cell_type": "markdown",
      "metadata": {
        "id": "sEfRKRfM2Cgm"
      },
      "source": [
        "# 1. Numeric Data Types\n",
        "\n",
        "There are three numeric data types that can store numeric values.\n",
        "\n",
        "## 1.1 Integers\n",
        "These can be whole numbers either positive or negative and can be any length you need them to be. Actually, there is no length restriction as long as you do not outreach available system's memory. \n",
        "\n",
        "Let´s store value 55, assign it to result variable and print the data type.\n",
        "\n",
        "\n"
      ]
    },
    {
      "cell_type": "code",
      "metadata": {
        "colab": {
          "base_uri": "https://localhost:8080/"
        },
        "id": "sXoNpnhKyWVZ",
        "outputId": "f0034fe3-abe0-4059-8964-732ea21cc459"
      },
      "source": [
        "result = 55\n",
        "print(result)\n",
        "print(type(result))"
      ],
      "execution_count": null,
      "outputs": [
        {
          "output_type": "stream",
          "text": [
            "55\n",
            "<class 'int'>\n"
          ],
          "name": "stdout"
        }
      ]
    },
    {
      "cell_type": "markdown",
      "metadata": {
        "id": "eAy4409jUx4m"
      },
      "source": [
        "Looking at the outputs of `print()` functions, we see that value 55 was stored in `result` variable and Python assigned it `int` data type. Moreover, there are 2 aditional information stored that we can not directly see: reference count which is the allocation of this object in the memory and the size of member of variable. "
      ]
    },
    {
      "cell_type": "markdown",
      "metadata": {
        "id": "NOpNq8zITRzY"
      },
      "source": [
        "### 1.1.1 Mathematical operations\n",
        "\n",
        "If you need to perform some mathematical operations such as substract some value or exponentation, there are arithmetic operators available. \n",
        "\n",
        "\n",
        "\n",
        "Mathematical operation | Operator\n",
        "-|-\n",
        "`Addition`| +\n",
        "`Substraction`| -\n",
        "`Multiplication`|*\n",
        "`Division`|/\n",
        "`Exponentiation`| **\n",
        "`Floor division`| //\n",
        "`Modulus`| % \n",
        "\n",
        "\n"
      ]
    },
    {
      "cell_type": "code",
      "metadata": {
        "id": "Bqm6-q5PaBPY"
      },
      "source": [
        "# Declaring variables\n",
        "var_1 = 386\n",
        "var_2 = 83"
      ],
      "execution_count": null,
      "outputs": []
    },
    {
      "cell_type": "code",
      "metadata": {
        "colab": {
          "base_uri": "https://localhost:8080/"
        },
        "id": "c0fG2ArUZvzp",
        "outputId": "d0cd70bb-1bd3-401d-a3e5-29da18d18b5d"
      },
      "source": [
        "# Addition example\n",
        "result_1 = var_1 + var_2\n",
        "print(result_1)"
      ],
      "execution_count": null,
      "outputs": [
        {
          "output_type": "stream",
          "text": [
            "469\n"
          ],
          "name": "stdout"
        }
      ]
    },
    {
      "cell_type": "code",
      "metadata": {
        "colab": {
          "base_uri": "https://localhost:8080/"
        },
        "id": "behYbBD-Z0hx",
        "outputId": "ef50ab05-c616-4275-f840-e8cb1e9243d7"
      },
      "source": [
        "# Substraction example\n",
        "result_2 = var_1 - var_2\n",
        "print(result_2)"
      ],
      "execution_count": null,
      "outputs": [
        {
          "output_type": "stream",
          "text": [
            "303\n"
          ],
          "name": "stdout"
        }
      ]
    },
    {
      "cell_type": "code",
      "metadata": {
        "colab": {
          "base_uri": "https://localhost:8080/"
        },
        "id": "iWUwx3t9Z5zC",
        "outputId": "9a9241ca-716e-4fad-e406-6e6baf60bbe0"
      },
      "source": [
        "# Multiplication example\n",
        "result_3 = var_1 * var_2\n",
        "print(result_3)"
      ],
      "execution_count": null,
      "outputs": [
        {
          "output_type": "stream",
          "text": [
            "32038\n"
          ],
          "name": "stdout"
        }
      ]
    },
    {
      "cell_type": "code",
      "metadata": {
        "colab": {
          "base_uri": "https://localhost:8080/"
        },
        "id": "08fkvHSdZ-KP",
        "outputId": "e039639f-6c0b-412d-948f-7931e49c1801"
      },
      "source": [
        "# Division example\n",
        "result_4 = var_1 / var_2\n",
        "print(result_4)"
      ],
      "execution_count": null,
      "outputs": [
        {
          "output_type": "stream",
          "text": [
            "4.650602409638554\n"
          ],
          "name": "stdout"
        }
      ]
    },
    {
      "cell_type": "markdown",
      "metadata": {
        "id": "uzXMHMUCaHWk"
      },
      "source": [
        "When we perform classic division, a decimal number (a float) will always be returned. To get an integer value as the result, use floor division that discards the fractional part.\n",
        "\n",
        "To get a reminder of the division you can use modulus."
      ]
    },
    {
      "cell_type": "code",
      "metadata": {
        "colab": {
          "base_uri": "https://localhost:8080/"
        },
        "id": "sEoKFJhwgxaM",
        "outputId": "037d4d8c-f714-4331-9175-7dff74960a70"
      },
      "source": [
        "# Modulus example\n",
        "result_5 = var_1 % var_2\n",
        "print(result_5)"
      ],
      "execution_count": null,
      "outputs": [
        {
          "output_type": "stream",
          "text": [
            "54\n"
          ],
          "name": "stdout"
        }
      ]
    },
    {
      "cell_type": "markdown",
      "metadata": {
        "id": "nFT_xmmGhhve"
      },
      "source": [
        "### 1.1.1 Booleans"
      ]
    },
    {
      "cell_type": "markdown",
      "metadata": {
        "id": "GhLPdgiCyu0M"
      },
      "source": [
        "\n",
        "## 1.2 Floats\n",
        "\n",
        "The next numeric data type is floating point number that holds digits with a decimal point. The accuracy of float is up to 15 decimal places.\n",
        "\n",
        "Let´s store first 10 digits of Pi number, assign it to pi variable and print the data type."
      ]
    },
    {
      "cell_type": "code",
      "metadata": {
        "colab": {
          "base_uri": "https://localhost:8080/"
        },
        "id": "lGeX_lRQyel1",
        "outputId": "ef5cd547-d79a-4b34-bd1e-f00eed386fa4"
      },
      "source": [
        "pi = 3.1415926535\n",
        "type(pi)"
      ],
      "execution_count": null,
      "outputs": [
        {
          "output_type": "execute_result",
          "data": {
            "text/plain": [
              "float"
            ]
          },
          "metadata": {
            "tags": []
          },
          "execution_count": 23
        }
      ]
    },
    {
      "cell_type": "markdown",
      "metadata": {
        "id": "bJZ9fXqZidxa"
      },
      "source": [
        "You can also perform mathematical operations on floats, where the resulting value will be a float."
      ]
    },
    {
      "cell_type": "code",
      "metadata": {
        "colab": {
          "base_uri": "https://localhost:8080/"
        },
        "id": "2-HsQuiciPXE",
        "outputId": "33e69376-e68f-4629-f4de-e779a86ce66c"
      },
      "source": [
        "print(3.14 + 99.9)"
      ],
      "execution_count": null,
      "outputs": [
        {
          "output_type": "stream",
          "text": [
            "103.04\n"
          ],
          "name": "stdout"
        }
      ]
    },
    {
      "cell_type": "markdown",
      "metadata": {
        "id": "7m_8bUKWioNc"
      },
      "source": [
        "If you multiplicate a float value with an integer value, this always leads to a float output. Let´s multiplicate float value 3.14 by integer value of `result_5` variable:"
      ]
    },
    {
      "cell_type": "code",
      "metadata": {
        "colab": {
          "base_uri": "https://localhost:8080/"
        },
        "id": "Mp5h1oEkiveJ",
        "outputId": "a6689a14-48ce-4ad1-9ecf-ab168862707f"
      },
      "source": [
        "multiplication = (3.14 * result_5)\n",
        "print(multiplication)\n",
        "type(multiplication)"
      ],
      "execution_count": null,
      "outputs": [
        {
          "output_type": "stream",
          "text": [
            "169.56\n"
          ],
          "name": "stdout"
        },
        {
          "output_type": "execute_result",
          "data": {
            "text/plain": [
              "float"
            ]
          },
          "metadata": {
            "tags": []
          },
          "execution_count": 60
        }
      ]
    },
    {
      "cell_type": "markdown",
      "metadata": {
        "id": "I6Dzlpgc7A8t"
      },
      "source": [
        "You can also come accross floats that are formated using a scientific notation used for writing either very small or large numbers. The value is formed as a float with a decimal point followed with `e+` and the power of 10 that shows how many places to move the decimal point. \n",
        "\n",
        "To write a number 45000000 using scientific notation you can use built-in `format()` function. The curly braces serves as a placeholder for our number where we specify that we want to have scientific notation using `:e`. We pass the number as an argument within `format()` function.\n"
      ]
    },
    {
      "cell_type": "code",
      "metadata": {
        "colab": {
          "base_uri": "https://localhost:8080/"
        },
        "id": "Ep-qZ3JYyrh_",
        "outputId": "a6778540-15b0-4e01-816c-14823ee50d9c"
      },
      "source": [
        "sn = '{:e}'.format(45000000)\n",
        "print(sn)"
      ],
      "execution_count": null,
      "outputs": [
        {
          "output_type": "stream",
          "text": [
            "4.500000e+07\n"
          ],
          "name": "stdout"
        }
      ]
    },
    {
      "cell_type": "markdown",
      "metadata": {
        "id": "jsCj-E-qDNRt"
      },
      "source": [
        "It is also possible to specify how many digits we´d like to have after the decimal point."
      ]
    },
    {
      "cell_type": "code",
      "metadata": {
        "colab": {
          "base_uri": "https://localhost:8080/"
        },
        "id": "Ztc-MSER9FrN",
        "outputId": "959b7f52-9192-4876-c82c-6a69f875dffc"
      },
      "source": [
        "sn_2 = '{:.1e}'.format(45000000)\n",
        "print(sn_2)"
      ],
      "execution_count": null,
      "outputs": [
        {
          "output_type": "stream",
          "text": [
            "4.5e+07\n"
          ],
          "name": "stdout"
        }
      ]
    },
    {
      "cell_type": "markdown",
      "metadata": {
        "id": "Bj03K9CzQfs_"
      },
      "source": [
        "## 1.3 Strings\n",
        "\n",
        "In Python, textual data are stored as string objects. To create a string you must surround a textual value with quotes. Possible ways to do that are using:\n",
        "\n",
        "- single quotes\n",
        "- double quotes\n",
        "- triple quotes\n",
        "\n",
        "It´s up to you wich approach you decide to stick with. \n",
        "\n",
        "Let´s look at some examples when we create strings and assign it to variables.\n",
        "\n"
      ]
    },
    {
      "cell_type": "code",
      "metadata": {
        "colab": {
          "base_uri": "https://localhost:8080/"
        },
        "id": "R1-UxlOQo-vO",
        "outputId": "0436e5fd-a581-43e6-c7b9-196c26706607"
      },
      "source": [
        "# Creating a string using single quotes\n",
        "a_var = 'There are several variants of Python such as MicroPython, PyPy and IronPython.'\n",
        "print(a_var)\n",
        "print('The data type of a_var is: ', type(a_var))"
      ],
      "execution_count": null,
      "outputs": [
        {
          "output_type": "stream",
          "text": [
            "There are several variants of Python such as MicroPython, PyPy and IronPython.\n",
            "The data type of a_var is:  <class 'str'>\n"
          ],
          "name": "stdout"
        }
      ]
    },
    {
      "cell_type": "code",
      "metadata": {
        "colab": {
          "base_uri": "https://localhost:8080/"
        },
        "id": "MGDy4zTm9GYL",
        "outputId": "2c4761b7-d094-4ea0-df47-b8993b069b28"
      },
      "source": [
        "# Creating a string using double quotes\n",
        "b_var = \"You can define infinite float in Python.\"\n",
        "print(b_var)"
      ],
      "execution_count": null,
      "outputs": [
        {
          "output_type": "stream",
          "text": [
            "You can define infinite float in Python.\n"
          ],
          "name": "stdout"
        }
      ]
    },
    {
      "cell_type": "code",
      "metadata": {
        "colab": {
          "base_uri": "https://localhost:8080/"
        },
        "id": "76OdaGe6pf0b",
        "outputId": "835ce98e-6505-4d11-d7f0-73c32971d44a"
      },
      "source": [
        "# Creating a string using triple quotes\n",
        "c_var = '''In Python, everything is an object.'''\n",
        "print(c_var)"
      ],
      "execution_count": null,
      "outputs": [
        {
          "output_type": "stream",
          "text": [
            "In Python, everything is an object.\n"
          ],
          "name": "stdout"
        }
      ]
    },
    {
      "cell_type": "markdown",
      "metadata": {
        "id": "oTno9SGmeON6"
      },
      "source": [
        "Take as an example below sentence with included apostrophe. In this case we need to enclose the whole sentence with double quotes:"
      ]
    },
    {
      "cell_type": "code",
      "metadata": {
        "colab": {
          "base_uri": "https://localhost:8080/",
          "height": 35
        },
        "id": "Xm9LuGaQ0VtJ",
        "outputId": "d117bca9-92d3-4104-a6d4-6e851e90fda8"
      },
      "source": [
        "d_var = \"Python was named after a british comedy series Monty Python's Flying Circus.\"\n",
        "d_var"
      ],
      "execution_count": null,
      "outputs": [
        {
          "output_type": "execute_result",
          "data": {
            "application/vnd.google.colaboratory.intrinsic+json": {
              "type": "string"
            },
            "text/plain": [
              "\"Python was named after a british comedy series Monty Python's Flying Circus.\""
            ]
          },
          "metadata": {
            "tags": []
          },
          "execution_count": 31
        }
      ]
    },
    {
      "cell_type": "markdown",
      "metadata": {
        "id": "hrGpwwELxjN2"
      },
      "source": [
        "In the case that a particular sentence need to be enclosed with quotation marks, you can create a string in the following way: Enclose that sentence using double quotes and the whole texts enclosed with single quotes like you see below:"
      ]
    },
    {
      "cell_type": "code",
      "metadata": {
        "colab": {
          "base_uri": "https://localhost:8080/"
        },
        "id": "eaRvTPFDetSb",
        "outputId": "6c9287cc-8a36-4932-85b2-85b4401f5d12"
      },
      "source": [
        "e_var = '\"Python is an experiment in how much freedom programmers need. Too much freedom and nobody can read another´s code; too little and expressiveness is endangered.\" Python´s creator Guido van Rossum.'\n",
        "print(e_var)"
      ],
      "execution_count": null,
      "outputs": [
        {
          "output_type": "stream",
          "text": [
            "\"Python is an experiment in how much freedom programmers need. Too much freedom and nobody can read another´s code; too little and expressiveness is endangered.\" Python´s creator Guido van Rossum.\n"
          ],
          "name": "stdout"
        }
      ]
    },
    {
      "cell_type": "markdown",
      "metadata": {
        "id": "sEkvmMsAgGJQ"
      },
      "source": [
        "Or escape double quotes using `\\` at the beginning and at the end of the sentence:"
      ]
    },
    {
      "cell_type": "code",
      "metadata": {
        "colab": {
          "base_uri": "https://localhost:8080/"
        },
        "id": "mZ9Rl_wK2FHo",
        "outputId": "b5eb10d5-06b4-45e2-98c6-e278921dcfca"
      },
      "source": [
        "e_var = \"\\\"Python is an experiment in how much freedom programmers need. Too much freedom and nobody can read another´s code; too little and expressiveness is endangered.\\\" Python´s creator Guido van Rossum.\"\n",
        "print(e_var)"
      ],
      "execution_count": null,
      "outputs": [
        {
          "output_type": "stream",
          "text": [
            "\"Python is an experiment in how much freedom programmers need. Too much freedom and nobody can read another´s code; too little and expressiveness is endangered.\" Python´s creator Guido van Rossum.\n"
          ],
          "name": "stdout"
        }
      ]
    },
    {
      "cell_type": "markdown",
      "metadata": {
        "id": "2_9n2MYeQzOM"
      },
      "source": [
        "# 2. Type Conversion\n",
        "\n",
        "Data type conversion is the process when one data type of a variable is converted to another data type. In Python, this process can happen in two ways. \n"
      ]
    },
    {
      "cell_type": "markdown",
      "metadata": {
        "id": "vD9XCLfMRNE7"
      },
      "source": [
        "## 2.1 Implicit type conversion\n",
        "\n",
        "Let´s take the example from Floats section within this notebook, when we multiplicated a float value and an integer value of result_5 variable: "
      ]
    },
    {
      "cell_type": "code",
      "metadata": {
        "id": "NjMMUB88RQ7K",
        "colab": {
          "base_uri": "https://localhost:8080/"
        },
        "outputId": "b95ad45c-51c6-4724-8b86-fbbac3bf2f33"
      },
      "source": [
        "multiplication = (3.14 * result_5)\n",
        "print(multiplication)\n",
        "type(multiplication)"
      ],
      "execution_count": null,
      "outputs": [
        {
          "output_type": "stream",
          "text": [
            "169.56\n"
          ],
          "name": "stdout"
        },
        {
          "output_type": "execute_result",
          "data": {
            "text/plain": [
              "float"
            ]
          },
          "metadata": {
            "tags": []
          },
          "execution_count": 58
        }
      ]
    },
    {
      "cell_type": "markdown",
      "metadata": {
        "id": "YehyCkBWlZ8U"
      },
      "source": [
        "Behind the scene, implicit conversion was performed, when Python converted a data type of `result_5` variable: the resulting value has float data type and this process of converting did automatically happen without our involvement."
      ]
    },
    {
      "cell_type": "markdown",
      "metadata": {
        "id": "pO_m5Rk-RRcM"
      },
      "source": [
        "## 2.2 Explicit type conversion or Type casting\n",
        "\n",
        "Explicit data type conversion (Type casting in other words) is happening when we explicitly tell Python which data type we would like to have of a particular variable. \n",
        "\n",
        "There are built-in function available for this purpose:\n",
        "\n",
        "`int()` - converting to an integer  \n",
        "`float()` - converting to a float   \n",
        "`str()` - converting to a string  \n",
        "`bool()` - converting to a boolean   \n",
        "\n",
        "Let´s look at some examples of explicit conversions. \n",
        "\n",
        "### 2.2.1 A float to an integer\n",
        "\n",
        "To convert a float to an integer we can use `int()` function. Let´s store value 77.5 to f_number variable. Then we use `int()` function and placed f_number variable inside the brackets. "
      ]
    },
    {
      "cell_type": "code",
      "metadata": {
        "id": "Xh4HY5RQ0w0_"
      },
      "source": [
        "f_number = 77.5"
      ],
      "execution_count": null,
      "outputs": []
    },
    {
      "cell_type": "code",
      "metadata": {
        "colab": {
          "base_uri": "https://localhost:8080/"
        },
        "id": "LyNWINHM02C5",
        "outputId": "8e0a2578-ff0f-4685-b050-98c022f902b7"
      },
      "source": [
        "converted_number = int(f_number)\n",
        "print(converted_number)\n",
        "print(type(converted_number))"
      ],
      "execution_count": null,
      "outputs": [
        {
          "output_type": "stream",
          "text": [
            "77\n",
            "<class 'int'>\n"
          ],
          "name": "stdout"
        }
      ]
    },
    {
      "cell_type": "markdown",
      "metadata": {
        "id": "awu2Ez1K57Yw"
      },
      "source": [
        "By converting a float to integer using this built-in function we lost fractional part after decimal point. "
      ]
    },
    {
      "cell_type": "markdown",
      "metadata": {
        "id": "l_QCbt3W3KVZ"
      },
      "source": [
        "**extend part about rounding up**"
      ]
    },
    {
      "cell_type": "code",
      "metadata": {
        "colab": {
          "base_uri": "https://localhost:8080/"
        },
        "id": "V4l0AGBZ04wg",
        "outputId": "caffbab9-7843-4541-9f56-167b9f56b1e1"
      },
      "source": [
        "rounded_number = round(f_number)\n",
        "print(rounded_number)\n",
        "print(type(rounded_number))"
      ],
      "execution_count": null,
      "outputs": [
        {
          "output_type": "stream",
          "text": [
            "78\n",
            "<class 'int'>\n"
          ],
          "name": "stdout"
        }
      ]
    },
    {
      "cell_type": "markdown",
      "metadata": {
        "id": "h7GNTrnM3VGN"
      },
      "source": [
        ""
      ]
    },
    {
      "cell_type": "code",
      "metadata": {
        "id": "tGByfz9HRYE8",
        "colab": {
          "base_uri": "https://localhost:8080/"
        },
        "outputId": "07010770-7e1a-4bcb-f19f-6f022ff2d787"
      },
      "source": [
        "# Declaring a string\n",
        "text = \"The only number that can´t be represented in roman numerals is: \"\n",
        "print(text)\n",
        "print(type(text))"
      ],
      "execution_count": null,
      "outputs": [
        {
          "output_type": "stream",
          "text": [
            "The only number that can´t be represented in roman numerals is: \n",
            "<class 'str'>\n"
          ],
          "name": "stdout"
        }
      ]
    },
    {
      "cell_type": "code",
      "metadata": {
        "colab": {
          "base_uri": "https://localhost:8080/"
        },
        "id": "SNRGWmehrIFC",
        "outputId": "49600019-3569-49c5-9c9a-be0b396815da"
      },
      "source": [
        "# Declaring an integer\n",
        "number = 0\n",
        "print(number)\n",
        "print(type(number))"
      ],
      "execution_count": null,
      "outputs": [
        {
          "output_type": "stream",
          "text": [
            "0\n",
            "<class 'int'>\n"
          ],
          "name": "stdout"
        }
      ]
    },
    {
      "cell_type": "markdown",
      "metadata": {
        "id": "IkJbKDk53s9u"
      },
      "source": [
        ""
      ]
    },
    {
      "cell_type": "code",
      "metadata": {
        "colab": {
          "base_uri": "https://localhost:8080/"
        },
        "id": "jVJCp2lftA9H",
        "outputId": "02384ff4-95c8-432d-dac4-ccdde81e781d"
      },
      "source": [
        "sentence = text + str(number)\n",
        "print(sentence)\n",
        "print(type(sentence))"
      ],
      "execution_count": null,
      "outputs": [
        {
          "output_type": "stream",
          "text": [
            "The only number that can´t be represented in roman numerals is: 0\n",
            "<class 'str'>\n"
          ],
          "name": "stdout"
        }
      ]
    }
  ]
}