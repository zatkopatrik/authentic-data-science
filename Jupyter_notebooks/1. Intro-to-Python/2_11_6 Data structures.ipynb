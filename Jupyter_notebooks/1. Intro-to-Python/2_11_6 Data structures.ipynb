{
  "nbformat": 4,
  "nbformat_minor": 0,
  "metadata": {
    "colab": {
      "name": "6_Data_structures.ipynb",
      "provenance": [],
      "collapsed_sections": []
    },
    "kernelspec": {
      "name": "python3",
      "display_name": "Python 3"
    }
  },
  "cells": [
    {
      "cell_type": "markdown",
      "metadata": {
        "id": "kfLVv868e_53"
      },
      "source": [
        "# Data structures"
      ]
    },
    {
      "cell_type": "markdown",
      "metadata": {
        "id": "z1OpU51ugLD1"
      },
      "source": [
        "# 1. Lists\n",
        "\n",
        "One of the sequence data type are lists that serves as a storage for a sequence of values. \n",
        "\n",
        "## 1.1 Creating list objects\n",
        "Below you can see how to create an empty list object using square brackets assigned to empty_list variable:"
      ]
    },
    {
      "cell_type": "code",
      "metadata": {
        "colab": {
          "base_uri": "https://localhost:8080/"
        },
        "id": "_jCc0WwBeqCZ",
        "outputId": "aa8e3e85-6714-4243-8321-5a6c13b8dd46"
      },
      "source": [
        "# Creating an empty list\n",
        "empty_list = []\n",
        "# Printing empty_list variable\n",
        "print(empty_list)\n",
        "# Printing the data type of empty_list variable\n",
        "print(type(empty_list))"
      ],
      "execution_count": null,
      "outputs": [
        {
          "output_type": "stream",
          "text": [
            "[]\n",
            "<class 'list'>\n"
          ],
          "name": "stdout"
        }
      ]
    },
    {
      "cell_type": "markdown",
      "metadata": {
        "id": "zSI8eJpR5IKf"
      },
      "source": [
        "Lists can compound of as many values (elements) as you want. To store values in a list object, place all of them inside the square brackets and separate them using commas. As the result we will have a collection of values stored in a list in a specific order that will last the same until we decide to change that. \n"
      ]
    },
    {
      "cell_type": "code",
      "metadata": {
        "colab": {
          "base_uri": "https://localhost:8080/"
        },
        "id": "Lm2HqHLg5Hh0",
        "outputId": "5052b4f6-eecd-422b-9293-cf4bd1e84272"
      },
      "source": [
        "# Creating a list consists of integers only\n",
        "first_list = [34, 987, 3248, 545973, 23, 889, 2309]\n",
        "print(first_list)"
      ],
      "execution_count": null,
      "outputs": [
        {
          "output_type": "stream",
          "text": [
            "[34, 987, 3248, 545973, 23, 889, 2309]\n"
          ],
          "name": "stdout"
        }
      ]
    },
    {
      "cell_type": "markdown",
      "metadata": {
        "id": "0OsTCb2O5rUJ"
      },
      "source": [
        "Lists can contain values of different data types such as integers, strings or floats. Values can repeat, while each occurrence is considered unique element:"
      ]
    },
    {
      "cell_type": "code",
      "metadata": {
        "colab": {
          "base_uri": "https://localhost:8080/"
        },
        "id": "rRT_Q-Mf6WKR",
        "outputId": "f69c2481-7f6b-46cf-c753-8b6dfa3b4dde"
      },
      "source": [
        "# Creating a list with values of different data types\n",
        "combined_list = [1,2,3,\"Ready,set,code!\",32.e-10, 1,2,3]\n",
        "print(combined_list)"
      ],
      "execution_count": null,
      "outputs": [
        {
          "output_type": "stream",
          "text": [
            "[1, 2, 3, 'Ready,set,code!', 3.2e-09, 1, 2, 3]\n"
          ],
          "name": "stdout"
        }
      ]
    },
    {
      "cell_type": "markdown",
      "metadata": {
        "id": "fXxxUG6Q8HDP"
      },
      "source": [
        "## 1.2 Accessing list elements\n",
        "\n",
        "All elements that are present in a list object have their own index value trough which we can access an element we want. \n",
        "\n",
        "There are positive and negative indexing. What does it mean? Look at the image below:\n",
        "\n",
        "\n",
        "\n",
        "\n",
        "\n",
        "\n",
        "\n"
      ]
    },
    {
      "cell_type": "markdown",
      "metadata": {
        "id": "OhTLAmwJNwlV"
      },
      "source": [
        "Positive indexing simply means that indexing starts from the beginning of a list. Important thing to remember is that Python uses **zero-based indexing**, so that if you want to retrieve **the first element** of a list you must refer to index value of **0**. \n",
        "\n",
        "By contraries, negative indexing starts from the end of a list. The difference is that if we want to access **the last element**, we need to refer to index value **-1**, not 0. "
      ]
    },
    {
      "cell_type": "markdown",
      "metadata": {
        "id": "CBbBXKpsPrlH"
      },
      "source": [
        "To access a particular element of a list, define a corresponding index value inside square brackets that function as **index operator**. \n",
        "\n",
        "Example syntax:\n",
        "\n",
        "```\n",
        "# Positive indexing\n",
        "first_value = my_list[0]\n",
        "\n",
        "#Negative indexing\n",
        "the_last_value = my_list[-1]\n",
        "```\n",
        "\n",
        "Let´s create a list compound of strings and access some elements:"
      ]
    },
    {
      "cell_type": "code",
      "metadata": {
        "id": "TdI_9cx3JhLt"
      },
      "source": [
        "# Declaring string_list variable \n",
        "string_list = ['Authentic', 'Data', 'Analysis', 'function', 'AI']"
      ],
      "execution_count": null,
      "outputs": []
    },
    {
      "cell_type": "code",
      "metadata": {
        "colab": {
          "base_uri": "https://localhost:8080/"
        },
        "id": "TSMf-sgDLgGi",
        "outputId": "b9c549c9-23ab-4b8d-abdf-ca66ae346072"
      },
      "source": [
        "# Accessing the FIRST element - indexing starts at 0\n",
        "print('The first element of string_variable is: ', string_list[0])"
      ],
      "execution_count": null,
      "outputs": [
        {
          "output_type": "stream",
          "text": [
            "The first element of string_variable is:  Authentic\n"
          ],
          "name": "stdout"
        }
      ]
    },
    {
      "cell_type": "code",
      "metadata": {
        "colab": {
          "base_uri": "https://localhost:8080/"
        },
        "id": "OO-xge7IMGRK",
        "outputId": "9ccadad0-41e5-4ab4-cbeb-56360b902954"
      },
      "source": [
        "# Accessing the THIRD element \n",
        "print('The third element of string_variable is: ', string_list[2])"
      ],
      "execution_count": null,
      "outputs": [
        {
          "output_type": "stream",
          "text": [
            "The third element of string_variable is:  Analysis\n"
          ],
          "name": "stdout"
        }
      ]
    },
    {
      "cell_type": "code",
      "metadata": {
        "colab": {
          "base_uri": "https://localhost:8080/"
        },
        "id": "hbZ9y2cnMSIY",
        "outputId": "305c045e-42e3-4ab6-e113-879543a6ff42"
      },
      "source": [
        "# Accessing the last but one element - negative indexing starts at -1\n",
        "print('The last but one element of string_variable is: ', string_list[-2])"
      ],
      "execution_count": null,
      "outputs": [
        {
          "output_type": "stream",
          "text": [
            "The last but one element of string_variable is:  function\n"
          ],
          "name": "stdout"
        }
      ]
    },
    {
      "cell_type": "markdown",
      "metadata": {
        "id": "wH5mmx1J8Mww"
      },
      "source": [
        "## 1.3 Slicing list\n",
        "\n",
        "If you want to get a specific subset (sequence) of elements you can slice the list using index and slicing operator. In this case, we will need to define two index values that will refer to the range of values we want to access. \n",
        "\n",
        "The slicing syntax would be as following code snippet:\n",
        "\n",
        "```\n",
        "my_list[start : end [:step]]\n",
        "```\n",
        "\n",
        "`start` - index value for the beginning of the sequence (inclusive)  \n",
        "`end` - index value for the end of the sequence (exclusive)  \n",
        "`:step` - step value with aditional colon   \n",
        "\n",
        "Notice, that `start` index is inclusive and `end` index is exclusive. Because of this nuance that can be initially confusing let´s talk more about indexing and look at this concept from a different point of view.\n",
        "\n",
        "Let´s create example list and follow the same representation of index positions like before. Observe the following image: \n",
        "\n",
        "\n",
        "\n"
      ]
    },
    {
      "cell_type": "code",
      "metadata": {
        "id": "TWmP5EDR7xk7"
      },
      "source": [
        "# example 1\n",
        "example_list = [15, 10, 8, 33, 4, 30, 9, 12]"
      ],
      "execution_count": null,
      "outputs": []
    },
    {
      "cell_type": "markdown",
      "metadata": {
        "id": "UGlQTquf7x4h"
      },
      "source": [
        "Each value was assigned an index started from 0 up to 7. Now imagine that we want to make subset from value 10 (index 1) up to 30 (index 5). Since we know the indeces, our initial thought will be to write the slice in this way:\n",
        "\n"
      ]
    },
    {
      "cell_type": "code",
      "metadata": {
        "colab": {
          "base_uri": "https://localhost:8080/"
        },
        "id": "C9QXfSa9871x",
        "outputId": "fdc6d949-6f18-4b74-e1d6-ae91c68b6252"
      },
      "source": [
        "# example 2 \n",
        "example_list[1:5]"
      ],
      "execution_count": null,
      "outputs": [
        {
          "output_type": "execute_result",
          "data": {
            "text/plain": [
              "[10, 8, 33, 4]"
            ]
          },
          "metadata": {
            "tags": []
          },
          "execution_count": 129
        }
      ]
    },
    {
      "cell_type": "markdown",
      "metadata": {
        "id": "9Fve2ORE-beD"
      },
      "source": [
        "But the last element we got is 4, not 30 as we wanted. The value with index 5 was omitted from the result. Every time when slicing a list we must think about what index value should we add in addition. \n",
        "\n",
        "But there is a way that might ease working with indices: Let´s think about an index not like the position, but as the space or as a pointer to the space that is between elements like is displayed in the bellow example:\n",
        "\n",
        "**example 3**\n",
        "\n",
        "I only fill in elements we want to subset. Now you can clearly see how indices refer to the space that lie between values and separate them from each other. This is actually represented as a colon that you write when populating a list with values. So if we slice using index 1 and index 6, it will return each element that lies between this range. "
      ]
    },
    {
      "cell_type": "code",
      "metadata": {
        "colab": {
          "base_uri": "https://localhost:8080/"
        },
        "id": "L39aIR8z-ojd",
        "outputId": "3273fc60-c3e5-4f2b-b5fc-7447243d2720"
      },
      "source": [
        "example_list[1:6]"
      ],
      "execution_count": null,
      "outputs": [
        {
          "output_type": "execute_result",
          "data": {
            "text/plain": [
              "[10, 8, 33, 4, 30]"
            ]
          },
          "metadata": {
            "tags": []
          },
          "execution_count": 130
        }
      ]
    },
    {
      "cell_type": "markdown",
      "metadata": {
        "id": "hYW60PO77smD"
      },
      "source": [
        "Let´s declare a new list object and look at the example code snippets with some of possible ways how to perform slicing:\n"
      ]
    },
    {
      "cell_type": "code",
      "metadata": {
        "id": "iMiYbp3GXmJa"
      },
      "source": [
        "# Declaring a list containing integers\n",
        "int_list = [3, 9, 12, 31, 4, 99, 43, 4, 5]"
      ],
      "execution_count": null,
      "outputs": []
    },
    {
      "cell_type": "markdown",
      "metadata": {
        "id": "dKd8LtGzHGVH"
      },
      "source": [
        "If we want to slice all elements from the beginning of the list up to a specific element we can write it as follows:\n",
        "\n",
        "- specify 0 as this is the beginning of the list\n",
        "- then where to end the slice"
      ]
    },
    {
      "cell_type": "code",
      "metadata": {
        "colab": {
          "base_uri": "https://localhost:8080/"
        },
        "id": "0CQWImFxot81",
        "outputId": "6be8b11f-694b-44b2-9d9f-b9adef665fe5"
      },
      "source": [
        "# A slice of the first 5 elements \n",
        "# From the beginning to the index 5\n",
        "int_list[0:5]"
      ],
      "execution_count": null,
      "outputs": [
        {
          "output_type": "execute_result",
          "data": {
            "text/plain": [
              "[3, 9, 12, 31, 4]"
            ]
          },
          "metadata": {
            "tags": []
          },
          "execution_count": 132
        }
      ]
    },
    {
      "cell_type": "markdown",
      "metadata": {
        "id": "SUBOyTvKH6NC"
      },
      "source": [
        "We actually can omit 0 before the colon and define only the index after the colon. This will result to the same output since defining or leaving out 0 is equivalent. Let´s slice each element except the two last:"
      ]
    },
    {
      "cell_type": "code",
      "metadata": {
        "colab": {
          "base_uri": "https://localhost:8080/"
        },
        "id": "_aZpTymnEXug",
        "outputId": "2847b5ab-cd6e-42c8-8c2e-6ac31e014f3d"
      },
      "source": [
        "# A slice of the element except the two last\n",
        "int_list[:7]"
      ],
      "execution_count": null,
      "outputs": [
        {
          "output_type": "execute_result",
          "data": {
            "text/plain": [
              "[3, 9, 12, 31, 4, 99, 43]"
            ]
          },
          "metadata": {
            "tags": []
          },
          "execution_count": 133
        }
      ]
    },
    {
      "cell_type": "markdown",
      "metadata": {
        "id": "6l9ga0k7Sh9x"
      },
      "source": [
        "Similarly, we can leave out 0 and use negative indexing to gain the same result:"
      ]
    },
    {
      "cell_type": "code",
      "metadata": {
        "colab": {
          "base_uri": "https://localhost:8080/"
        },
        "id": "6SW9ViUvLaUw",
        "outputId": "ce38f8a0-a947-4777-8c1c-a4723f84427a"
      },
      "source": [
        "# A slice of the element except the two last using negative indexing\n",
        "int_list[:-2]"
      ],
      "execution_count": null,
      "outputs": [
        {
          "output_type": "execute_result",
          "data": {
            "text/plain": [
              "[3, 9, 12, 31, 4, 99, 43]"
            ]
          },
          "metadata": {
            "tags": []
          },
          "execution_count": 134
        }
      ]
    },
    {
      "cell_type": "markdown",
      "metadata": {
        "id": "PXMnxmpsJySs"
      },
      "source": [
        "The same principle is used when we want to create a slice, let´s say from index 6 to the end of the list:\n",
        "\n",
        "- firstly specify the start index\n",
        "- then add only a colon that represent all elements until the end of the list"
      ]
    },
    {
      "cell_type": "code",
      "metadata": {
        "colab": {
          "base_uri": "https://localhost:8080/"
        },
        "id": "TMdR_dF3JTIO",
        "outputId": "adab5341-6d9d-4234-f814-6f001eea7be5"
      },
      "source": [
        "# A slice from index 6 until the end of a list\n",
        "int_list[6:]"
      ],
      "execution_count": null,
      "outputs": [
        {
          "output_type": "execute_result",
          "data": {
            "text/plain": [
              "[43, 4, 5]"
            ]
          },
          "metadata": {
            "tags": []
          },
          "execution_count": 135
        }
      ]
    },
    {
      "cell_type": "markdown",
      "metadata": {
        "id": "zdw0afnhTjSe"
      },
      "source": [
        "By omitting all indeces and we´ll get each element from the beginning until the end of the list:"
      ]
    },
    {
      "cell_type": "code",
      "metadata": {
        "colab": {
          "base_uri": "https://localhost:8080/"
        },
        "id": "9dv2RWG0Tsl4",
        "outputId": "da5a8f82-b39c-4177-874a-b44635dc68ac"
      },
      "source": [
        "# Retrieving each element\n",
        "int_list[:]"
      ],
      "execution_count": null,
      "outputs": [
        {
          "output_type": "execute_result",
          "data": {
            "text/plain": [
              "[3, 9, 12, 31, 4, 99, 43, 4, 5]"
            ]
          },
          "metadata": {
            "tags": []
          },
          "execution_count": 136
        }
      ]
    },
    {
      "cell_type": "markdown",
      "metadata": {
        "id": "aTDSyOLeUCxk"
      },
      "source": [
        "When slicing, `step` argument can be used to skip element or reverse them. **dopisat reverse**\n",
        "\n",
        "For example, the below code snippet return every 4-th element from the beginning of the list until the end."
      ]
    },
    {
      "cell_type": "code",
      "metadata": {
        "colab": {
          "base_uri": "https://localhost:8080/"
        },
        "id": "W7JpH2mFUlxo",
        "outputId": "0c57b361-43cd-436b-c7d4-dfbedb4156eb"
      },
      "source": [
        "# A slice of elements from the beginning with every 4-th element returned\n",
        "int_list[0::4]"
      ],
      "execution_count": null,
      "outputs": [
        {
          "output_type": "execute_result",
          "data": {
            "text/plain": [
              "[3, 4, 5]"
            ]
          },
          "metadata": {
            "tags": []
          },
          "execution_count": 137
        }
      ]
    },
    {
      "cell_type": "code",
      "metadata": {
        "colab": {
          "base_uri": "https://localhost:8080/"
        },
        "id": "YTR0buVqVXUB",
        "outputId": "b3a215e6-d10d-407c-c04e-e75634fcae1f"
      },
      "source": [
        "# Or without specifing index 0\n",
        "int_list[::4]"
      ],
      "execution_count": null,
      "outputs": [
        {
          "output_type": "execute_result",
          "data": {
            "text/plain": [
              "[3, 4, 5]"
            ]
          },
          "metadata": {
            "tags": []
          },
          "execution_count": 138
        }
      ]
    },
    {
      "cell_type": "markdown",
      "metadata": {
        "id": "mvTwSuC5VEs9"
      },
      "source": [
        "In the below example, there will be each second element returned up to index 7:"
      ]
    },
    {
      "cell_type": "code",
      "metadata": {
        "colab": {
          "base_uri": "https://localhost:8080/"
        },
        "id": "yVz3zoW_VHlH",
        "outputId": "f32bfbb1-e0f1-45b8-baf2-d4f4638b39f4"
      },
      "source": [
        "int_list[0:7:2]"
      ],
      "execution_count": null,
      "outputs": [
        {
          "output_type": "execute_result",
          "data": {
            "text/plain": [
              "[3, 12, 4, 43]"
            ]
          },
          "metadata": {
            "tags": []
          },
          "execution_count": 139
        }
      ]
    },
    {
      "cell_type": "markdown",
      "metadata": {
        "id": "9nL7EqVH72y0"
      },
      "source": [
        "## 1.4 List modifications\n",
        "\n",
        "### 1.4.1 Changing list´s elements\n",
        "\n",
        "List is a mutable sequence type. This means, that once you create a list object, you can change any of the members or range of members stored within the list later on. To change an element we use something that we are familiar with: assignemnt operator. "
      ]
    },
    {
      "cell_type": "code",
      "metadata": {
        "id": "ge23vAKTh9F_"
      },
      "source": [
        "string_list = ['Authentic', 'Data', 'Analysis', 'function', 'AI']"
      ],
      "execution_count": null,
      "outputs": []
    },
    {
      "cell_type": "code",
      "metadata": {
        "colab": {
          "base_uri": "https://localhost:8080/"
        },
        "id": "Wq4xdAFpe9KE",
        "outputId": "ba3e64e9-8250-434f-c70d-550d21997300"
      },
      "source": [
        "# Let´s create a copy of string_list variable and assign it to a new variable strings_updated\n",
        "strings_updated = string_list[:]\n",
        "print(strings_updated)"
      ],
      "execution_count": null,
      "outputs": [
        {
          "output_type": "stream",
          "text": [
            "['Authentic', 'Data', 'Analysis', 'function', 'AI']\n"
          ],
          "name": "stdout"
        }
      ]
    },
    {
      "cell_type": "markdown",
      "metadata": {
        "id": "bkOWEwoFgrM6"
      },
      "source": [
        "If we want to change only 1 element of list, we access it by its index position and specify a new value to the right of the assignment operator:"
      ]
    },
    {
      "cell_type": "code",
      "metadata": {
        "colab": {
          "base_uri": "https://localhost:8080/"
        },
        "id": "Lp-2ZD3IfJco",
        "outputId": "6d4380b0-638f-4fd6-a61b-086db5b2094a"
      },
      "source": [
        "# Change the second element´s value from 'Data' to 'Data Science'\n",
        "strings_updated[1] = 'Data Science'\n",
        "print('Comparison: ','\\n',string_list,'\\n',strings_updated)"
      ],
      "execution_count": null,
      "outputs": [
        {
          "output_type": "stream",
          "text": [
            "Comparison:  \n",
            " ['Authentic', 'Data', 'Analysis', 'function', 'AI'] \n",
            " ['Authentic', 'Data Science', 'Analysis', 'function', 'AI']\n"
          ],
          "name": "stdout"
        }
      ]
    },
    {
      "cell_type": "markdown",
      "metadata": {
        "id": "5vttEdl9hfQp"
      },
      "source": [
        "To change a range of elements, use slicing approach to define what elements need to be changed and then write corresponding values inside a square brackets:"
      ]
    },
    {
      "cell_type": "code",
      "metadata": {
        "colab": {
          "base_uri": "https://localhost:8080/"
        },
        "id": "xi9o0-X3fXYT",
        "outputId": "ca9c06d0-0ba2-4606-de11-1654c23cc7ad"
      },
      "source": [
        "strings_updated[2:5] = ['Descriptive Analysis','user-defined function','Artifical Inteligence']\n",
        "print(strings_updated)"
      ],
      "execution_count": null,
      "outputs": [
        {
          "output_type": "stream",
          "text": [
            "['Authentic', 'Data Science', 'Descriptive Analysis', 'user-defined function', 'Artifical Inteligence']\n"
          ],
          "name": "stdout"
        }
      ]
    },
    {
      "cell_type": "markdown",
      "metadata": {
        "id": "ncX_Afw-jcYO"
      },
      "source": [
        "Let´s change the first and the second elements 'Authentic' and 'Data Science' to 'Authentic Data Science'. Simply slicing these two elements and assigning them a new value will replace both elements with a new value and the length of the string will be adjusts automatically:"
      ]
    },
    {
      "cell_type": "code",
      "metadata": {
        "colab": {
          "base_uri": "https://localhost:8080/"
        },
        "id": "biu3_tVEjHAd",
        "outputId": "2cdf9012-2708-4d6a-b4b2-f72edc28ca21"
      },
      "source": [
        "strings_updated[0:2] =  ['Authentic Data Science']\n",
        "# Finally, compare the original and the updated lists:\n",
        "print('The original list >>>',string_list)\n",
        "print('The updated list  >>> ',strings_updated)"
      ],
      "execution_count": null,
      "outputs": [
        {
          "output_type": "stream",
          "text": [
            "The original list >>> ['Authentic', 'Data', 'Analysis', 'function', 'AI']\n",
            "The updated list  >>>  ['Authentic Data Science', 'Descriptive Analysis', 'user-defined function', 'Artifical Inteligence']\n"
          ],
          "name": "stdout"
        }
      ]
    },
    {
      "cell_type": "markdown",
      "metadata": {
        "id": "TtgG7rCzk1hd"
      },
      "source": [
        "### 1.4.2 Adding list´s elements\n",
        "\n",
        "In this section, we´ll introduce methods that can be used to add new element/elements to the existing list object.\n",
        "\n",
        "`append()` method \n",
        "- used to add a single element at the end of the list\n",
        "- this method does not create a new list object, but only modificate the existing one\n",
        "\n",
        "The most simple demonstration of the usage of this method is to populate an empty list:"
      ]
    },
    {
      "cell_type": "code",
      "metadata": {
        "colab": {
          "base_uri": "https://localhost:8080/"
        },
        "id": "lvT0DBrjX5Dt",
        "outputId": "923ac665-04c1-4634-9fb5-6e1d056460e0"
      },
      "source": [
        "# Initializing an empty lsit\n",
        "original_list = []\n",
        "print(original_list)"
      ],
      "execution_count": null,
      "outputs": [
        {
          "output_type": "stream",
          "text": [
            "[]\n"
          ],
          "name": "stdout"
        }
      ]
    },
    {
      "cell_type": "markdown",
      "metadata": {
        "id": "49Pt-lGWZIrP"
      },
      "source": [
        "To add new value, call `append()` method on original_list variable and define the string inside the brackets: "
      ]
    },
    {
      "cell_type": "code",
      "metadata": {
        "colab": {
          "base_uri": "https://localhost:8080/"
        },
        "id": "sjMQFKRaY1qS",
        "outputId": "2232eefb-3918-4fb1-c25b-28f9a14399f4"
      },
      "source": [
        "# Adding a single element to the empty list\n",
        "original_list.append('the element was added')\n",
        "# Printing original_list to observe the change\n",
        "print(original_list)"
      ],
      "execution_count": null,
      "outputs": [
        {
          "output_type": "stream",
          "text": [
            "['the element was added']\n"
          ],
          "name": "stdout"
        }
      ]
    },
    {
      "cell_type": "markdown",
      "metadata": {
        "id": "oASqQaYkX7zK"
      },
      "source": [
        "Or we could have the existing list containing the main physical characteristics of water and add the missing one:"
      ]
    },
    {
      "cell_type": "code",
      "metadata": {
        "id": "JivIgVBjUA1-"
      },
      "source": [
        "# Creating a list about water characteristics\n",
        "water = ['temperature','turbidity','taste and odour','colour']"
      ],
      "execution_count": null,
      "outputs": []
    },
    {
      "cell_type": "code",
      "metadata": {
        "id": "CPeRMH9fVhjE"
      },
      "source": [
        "# Adding a single element to the existing list\n",
        "water.append('solids')"
      ],
      "execution_count": null,
      "outputs": []
    },
    {
      "cell_type": "code",
      "metadata": {
        "colab": {
          "base_uri": "https://localhost:8080/"
        },
        "id": "G0dYpl05Vj3e",
        "outputId": "6e2186eb-6360-4e02-e82d-f370b6281545"
      },
      "source": [
        "# Printing water to observe the change\n",
        "print(water)"
      ],
      "execution_count": null,
      "outputs": [
        {
          "output_type": "stream",
          "text": [
            "['temperature', 'turbidity', 'taste and odour', 'colour', 'solids']\n"
          ],
          "name": "stdout"
        }
      ]
    },
    {
      "cell_type": "markdown",
      "metadata": {
        "id": "w5NG8ijWUbvj"
      },
      "source": [
        "We could also append a list to the existing list.\n",
        "\n",
        "In that case, the structure of the resulting list object will be:  \n",
        "- the list specified as a parameter of `append()` method will be placed at the end of the list object\n",
        "- this list will be added as a single object\n",
        "\n",
        "Let's append water variable to original_list variable:"
      ]
    },
    {
      "cell_type": "code",
      "metadata": {
        "colab": {
          "base_uri": "https://localhost:8080/"
        },
        "id": "DcTa8mxyXJ0o",
        "outputId": "5a787654-8614-4a2f-a93e-53efc068e6a9"
      },
      "source": [
        "# Original list objects\n",
        "print(original_list,'\\n',water)"
      ],
      "execution_count": null,
      "outputs": [
        {
          "output_type": "stream",
          "text": [
            "['the element was added'] \n",
            " ['temperature', 'turbidity', 'taste and odour', 'colour', 'solids']\n"
          ],
          "name": "stdout"
        }
      ]
    },
    {
      "cell_type": "code",
      "metadata": {
        "colab": {
          "base_uri": "https://localhost:8080/"
        },
        "id": "dPxkpJVIUiOZ",
        "outputId": "90bab205-1a9f-41a0-a2c3-3b2949bcb4df"
      },
      "source": [
        "# Appending water variable\n",
        "original_list.append(water)\n",
        "print(original_list)"
      ],
      "execution_count": null,
      "outputs": [
        {
          "output_type": "stream",
          "text": [
            "['the element was added', ['temperature', 'turbidity', 'taste and odour', 'colour', 'solids']]\n"
          ],
          "name": "stdout"
        }
      ]
    },
    {
      "cell_type": "markdown",
      "metadata": {
        "id": "Iy2SumHIZgd6"
      },
      "source": [
        "`insert()` method\n",
        "\n",
        "- also used to add a single element to a list, but you can specify where to place it based on the index\n",
        "\n"
      ]
    },
    {
      "cell_type": "code",
      "metadata": {
        "id": "xfPM2Ox-bQ2u"
      },
      "source": [
        "# Creating a list with elements\n",
        "number_sequences = ['arithmetic','triangular','recursive']"
      ],
      "execution_count": null,
      "outputs": []
    },
    {
      "cell_type": "markdown",
      "metadata": {
        "id": "Uho38Bm65Xtv"
      },
      "source": [
        "In the first example we will insert a new string value by calling `insert()` method on number_sequences variable and specifying 2 arguments:  \n",
        "- specific index number where an element should be placed\n",
        "- a new value to be inserted  \n",
        "\n"
      ]
    },
    {
      "cell_type": "code",
      "metadata": {
        "colab": {
          "base_uri": "https://localhost:8080/"
        },
        "id": "ARicV_PWbthg",
        "outputId": "309d156f-5b14-4e57-f99c-751ff5160285"
      },
      "source": [
        "# Inserting 'Fibonacci' at the second place \n",
        "number_sequences.insert(1, 'Fibonacci')\n",
        "print(number_sequences)"
      ],
      "execution_count": null,
      "outputs": [
        {
          "output_type": "stream",
          "text": [
            "['arithmetic', 'Fibonacci', 'triangular', 'recursive']\n"
          ],
          "name": "stdout"
        }
      ]
    },
    {
      "cell_type": "markdown",
      "metadata": {
        "id": "c9FM1Zpl7rlC"
      },
      "source": [
        "Notice how string 'Fibonacci' was inserted into the list and string 'triangular' was shifted to the right. \n",
        "Again, if we would insert string 'square numbers' at the beginning of the list, each element change its position towards right. "
      ]
    },
    {
      "cell_type": "code",
      "metadata": {
        "id": "MHwshshFcBoF",
        "colab": {
          "base_uri": "https://localhost:8080/"
        },
        "outputId": "18986a15-2f86-4710-cb5e-e570a1cc6f73"
      },
      "source": [
        "# Inserting 'sqaure numbers' at the beginning of the list\n",
        "number_sequences.insert(0, 'square numbers')\n",
        "print(number_sequences)"
      ],
      "execution_count": null,
      "outputs": [
        {
          "output_type": "stream",
          "text": [
            "['square numbers', 'arithmetic', 'Fibonacci', 'triangular', 'recursive']\n"
          ],
          "name": "stdout"
        }
      ]
    },
    {
      "cell_type": "markdown",
      "metadata": {
        "id": "yN1SOLWj_rli"
      },
      "source": [
        "You also can insert elements using negative indexing. In a case that you specify index -1, a new element will be placed at the next postition to the last element."
      ]
    },
    {
      "cell_type": "code",
      "metadata": {
        "colab": {
          "base_uri": "https://localhost:8080/"
        },
        "id": "_Lo6dHoh-1w7",
        "outputId": "72e74156-c697-4bfb-b53f-eef2f0321672"
      },
      "source": [
        "# Inserting 'geometric' using negative indexing\n",
        "number_sequences.insert(-1, 'geometric')\n",
        "print(number_sequences)"
      ],
      "execution_count": null,
      "outputs": [
        {
          "output_type": "stream",
          "text": [
            "['square numbers', 'arithmetic', 'Fibonacci', 'triangular', 'geometric', 'recursive']\n"
          ],
          "name": "stdout"
        }
      ]
    },
    {
      "cell_type": "markdown",
      "metadata": {
        "id": "HfcT6usGDFgr"
      },
      "source": [
        "`extend()` method\n",
        "\n",
        "- used to add elements stored in any iterable object (such as lists or tuples that will be discussed later on within this notebook) \n",
        "\n",
        "> Note: Iterable is any object that is capable to return its elements one by one by using iterating. We'll learn about this concept later in this course.\n",
        "\n",
        "As an example, we will combine elements of water variable with integer values stored in int_list variable using this method. Firstly, let's recall how these list objects look like:\n"
      ]
    },
    {
      "cell_type": "code",
      "metadata": {
        "colab": {
          "base_uri": "https://localhost:8080/"
        },
        "id": "-3MoXHUQM36U",
        "outputId": "a6071835-31e9-4f61-e406-79eac1779ff4"
      },
      "source": [
        "# Lists that will be combined\n",
        "water = ['temperature','turbidity','taste and odour','colour']\n",
        "int_list\n",
        "print(water,'\\n',int_list)"
      ],
      "execution_count": null,
      "outputs": [
        {
          "output_type": "stream",
          "text": [
            "['temperature', 'turbidity', 'taste and odour', 'colour'] \n",
            " [3, 9, 12, 31, 4, 99, 43, 4, 5]\n"
          ],
          "name": "stdout"
        }
      ]
    },
    {
      "cell_type": "markdown",
      "metadata": {
        "id": "nS9H6kcWOpmi"
      },
      "source": [
        "To combine these objects, call `extend()` method on water variable and specify an iterable object inside the brackets:"
      ]
    },
    {
      "cell_type": "code",
      "metadata": {
        "colab": {
          "base_uri": "https://localhost:8080/"
        },
        "id": "ieKS_LGYOW8_",
        "outputId": "19b5b4c0-5c22-4ce6-db89-de1993ed29f2"
      },
      "source": [
        "# Extending water variable with int_list variable\n",
        "water.extend(int_list)\n",
        "# Printing the output\n",
        "print(water)"
      ],
      "execution_count": null,
      "outputs": [
        {
          "output_type": "stream",
          "text": [
            "['temperature', 'turbidity', 'taste and odour', 'colour', 3, 9, 12, 31, 4, 99, 43, 4, 5]\n"
          ],
          "name": "stdout"
        }
      ]
    },
    {
      "cell_type": "markdown",
      "metadata": {
        "id": "midjW5gFQMlM"
      },
      "source": [
        "From the output we can see that values are combined in one list object. The original water variable was extended by all elements from int_list variable. "
      ]
    },
    {
      "cell_type": "markdown",
      "metadata": {
        "id": "LXw_2RD4UdxK"
      },
      "source": [
        "**reverse, sort functions**"
      ]
    },
    {
      "cell_type": "markdown",
      "metadata": {
        "id": "A2rlrNmE8eQJ"
      },
      "source": [
        "## 1.5 Removing elements of list\n",
        "\n",
        "There are several ways how to remove element or elements from a list. Before we jump to the different methods aplicable to a list objects let's look at the concept of assigning. Below we'll initialize a list object and assign it to a_list variable: \n",
        "\n"
      ]
    },
    {
      "cell_type": "code",
      "metadata": {
        "colab": {
          "base_uri": "https://localhost:8080/"
        },
        "id": "qawlCm6Aw9Ig",
        "outputId": "d39969ef-f18b-474b-9a2a-d4ce5cb2564e"
      },
      "source": [
        "a_list = [1,2,3,4,5]\n",
        "print(a_list)"
      ],
      "execution_count": null,
      "outputs": [
        {
          "output_type": "stream",
          "text": [
            "[1, 2, 3, 4, 5]\n"
          ],
          "name": "stdout"
        }
      ]
    },
    {
      "cell_type": "markdown",
      "metadata": {
        "id": "wXFaHrvI2j6L"
      },
      "source": [
        "Now if we create an empty list and reassign it to a_list variable, original elements will be replaced by this empty list."
      ]
    },
    {
      "cell_type": "code",
      "metadata": {
        "colab": {
          "base_uri": "https://localhost:8080/"
        },
        "id": "qFJBfA6oxA-T",
        "outputId": "58788c94-8e5f-4f0f-a27c-11915c69a226"
      },
      "source": [
        "# Reassignment of list object\n",
        "a_list = []\n",
        "print(a_list)"
      ],
      "execution_count": null,
      "outputs": [
        {
          "output_type": "stream",
          "text": [
            "[]\n"
          ],
          "name": "stdout"
        }
      ]
    },
    {
      "cell_type": "markdown",
      "metadata": {
        "id": "MTgwjVRpzt6i"
      },
      "source": [
        "Let's go trough list object's methods used for removing elements.\n",
        "\n",
        "1. `clear()` method  \n",
        "- all elements will be removed from a list\n",
        "- this method does not take any parameters"
      ]
    },
    {
      "cell_type": "code",
      "metadata": {
        "id": "m51P4y947_QO",
        "colab": {
          "base_uri": "https://localhost:8080/"
        },
        "outputId": "993abc1e-7b08-4d7c-c023-5cdede3559a4"
      },
      "source": [
        "# Initializing a list object\n",
        "a_list = [1.25,1.01,2.03,1.98]\n",
        "print(a_list)"
      ],
      "execution_count": null,
      "outputs": [
        {
          "output_type": "stream",
          "text": [
            "[1.25, 1.01, 2.03, 1.98]\n"
          ],
          "name": "stdout"
        }
      ]
    },
    {
      "cell_type": "code",
      "metadata": {
        "colab": {
          "base_uri": "https://localhost:8080/"
        },
        "id": "IJF-n3TTvDbO",
        "outputId": "c603d951-503c-4dc3-edd6-c2332237d9d0"
      },
      "source": [
        "# Calling clear() method on a_list variable\n",
        "a_list.clear()\n",
        "# After printing a_list variable you can that this object is empty\n",
        "print(a_list)"
      ],
      "execution_count": null,
      "outputs": [
        {
          "output_type": "stream",
          "text": [
            "[]\n"
          ],
          "name": "stdout"
        }
      ]
    },
    {
      "cell_type": "markdown",
      "metadata": {
        "id": "k4tH1saYwrAg"
      },
      "source": [
        ""
      ]
    },
    {
      "cell_type": "markdown",
      "metadata": {
        "id": "DlKLhJqR8Afo"
      },
      "source": [
        "## 1.6 Lists of lists"
      ]
    },
    {
      "cell_type": "markdown",
      "metadata": {
        "id": "jW5KhQ8XgN7o"
      },
      "source": [
        "# 2. Dictionaries\n",
        "\n",
        "Dictionaries are collection of values with the structure key-value pairs. These collections are not sequences, but mapping types. Values are mapped by respective keys. \n",
        "\n",
        "The syntax for creating a dictionary is as follows: key-value pairs surounded by curly braces:  \n",
        "```\n",
        "my_dictionary = {'key1' : 'value1', 'key2' : 'value2', 'key3' : 'value3'}\n",
        "```\n",
        "Note, that if we define string **key**, we need to suround it with parenthesis. If it would be an integer, the parenthesis are not needed.\n",
        "\n",
        "Firstly, let's create an empty dictionary and print the type:\n",
        "\n"
      ]
    },
    {
      "cell_type": "code",
      "metadata": {
        "id": "035LUUeYgRjT",
        "colab": {
          "base_uri": "https://localhost:8080/"
        },
        "outputId": "7b8b537e-5f54-4840-bb27-29f808637c31"
      },
      "source": [
        "# Initializing an empty dictionary object\n",
        "empty_dict = {}\n",
        "print(empty_dict)\n",
        "print(type(empty_dict))"
      ],
      "execution_count": null,
      "outputs": [
        {
          "output_type": "stream",
          "text": [
            "{}\n",
            "<class 'dict'>\n"
          ],
          "name": "stdout"
        }
      ]
    },
    {
      "cell_type": "markdown",
      "metadata": {
        "id": "m5M9UwZZXtLb"
      },
      "source": [
        "Now we'll create another dictionary and passed one key-value pair inside the curly braces: the name of the key will be 'first_key' and the respective string value will be 'a collection':"
      ]
    },
    {
      "cell_type": "code",
      "metadata": {
        "colab": {
          "base_uri": "https://localhost:8080/"
        },
        "id": "WUoi6OzOXDBq",
        "outputId": "f50b6e38-5b26-452f-9e6e-f1f02f28ac6a"
      },
      "source": [
        "# Creating a dictionary with one key-value pair\n",
        "my_dict = {'first_key':'a collection'}\n",
        "print(my_dict)"
      ],
      "execution_count": null,
      "outputs": [
        {
          "output_type": "stream",
          "text": [
            "{'first_key': 'a collection'}\n"
          ],
          "name": "stdout"
        }
      ]
    },
    {
      "cell_type": "markdown",
      "metadata": {
        "id": "jHxFVHMRS0Gr"
      },
      "source": [
        "To add another key-value pair we specify the key inside the square brackets and assign to it value 5, for example:"
      ]
    },
    {
      "cell_type": "code",
      "metadata": {
        "colab": {
          "base_uri": "https://localhost:8080/"
        },
        "id": "eObmbmnHSxRu",
        "outputId": "c5408ede-ab91-491c-c2d1-81268e1b2cad"
      },
      "source": [
        "# Adding the second key-value pair\n",
        "my_dict['second_key'] = 5\n",
        "print(my_dict)"
      ],
      "execution_count": null,
      "outputs": [
        {
          "output_type": "stream",
          "text": [
            "{'first_key': 'a collection', 'second_key': 5}\n"
          ],
          "name": "stdout"
        }
      ]
    },
    {
      "cell_type": "markdown",
      "metadata": {
        "id": "L1JCf_jpZbH0"
      },
      "source": [
        "To create a dictionary object we can use `dict()` constructor. There are two ways of specifying key-value pairs:\n",
        "\n",
        "- first approach: place a list of key-value pairs separated by comma      \n",
        "\n",
        "```\n",
        "my_dict = dict([('key1', 123), ('key2', 456), ('key3', 789)])\n",
        "```\n",
        "\n",
        "- second approach: specify a name as keyword argument and assign a value to it, while keyword arguments must be written without parenthesis\n",
        "\n",
        "```\n",
        "my_dict = dict(key1 = 123, key2 = 456, key3 = 789)\n",
        "```\n",
        "\n",
        "Let's create a dictionary using the second approach:\n",
        "\n",
        "\n"
      ]
    },
    {
      "cell_type": "code",
      "metadata": {
        "colab": {
          "base_uri": "https://localhost:8080/"
        },
        "id": "xjVaxVuDXBNQ",
        "outputId": "adf1bbb5-f52b-44ed-a397-029ae102bb7e"
      },
      "source": [
        "# Creating a dictionary using dict()\n",
        "dict_1 = dict(first_key = 35, second_key = 55, third_key = 100)\n",
        "print(dict_1)"
      ],
      "execution_count": null,
      "outputs": [
        {
          "output_type": "stream",
          "text": [
            "{'first_key': 35, 'second_key': 55, 'third_key': 100}\n"
          ],
          "name": "stdout"
        }
      ]
    },
    {
      "cell_type": "markdown",
      "metadata": {
        "id": "2EJaNGH9eReD"
      },
      "source": [
        "Dictionaries are mutable which means that after creating a one you can alter value using respective key. Now we change the value of 'first_key' from 35 to -35. To do so we access the key using square brackets and assign a new value:"
      ]
    },
    {
      "cell_type": "code",
      "metadata": {
        "colab": {
          "base_uri": "https://localhost:8080/"
        },
        "id": "2GgPRuLveo1l",
        "outputId": "7d4436c4-c7e1-4abd-dc30-f834252195c8"
      },
      "source": [
        "# Changing the value of 'first_key' \n",
        "dict_1['first_key'] = -35\n",
        "print(dict_1)"
      ],
      "execution_count": null,
      "outputs": [
        {
          "output_type": "stream",
          "text": [
            "{'first_key': -35, 'second_key': 55, 'third_key': 100}\n"
          ],
          "name": "stdout"
        }
      ]
    },
    {
      "cell_type": "markdown",
      "metadata": {
        "id": "YtE4nj6GfGvp"
      },
      "source": [
        "The next important thing to know is that all keys present in a dictionary object must be unique. Otherwise you will get SyntaxError message. Below we tried to specify 'count' keyword argument twice:\n",
        "\n",
        "\n",
        "\n",
        "```\n",
        "dict_2 = dict(count = 1540, size = 0.50, count = 50)\n",
        "print(dict_2)\n",
        "\n",
        " File \"<ipython-input-21-16c7a82dccd4>\", line 1\n",
        "    dict_2 = dict(count = 1540, size = 0.50, count = 50)\n",
        "                                            ^\n",
        "SyntaxError: keyword argument repeated\n",
        "```\n",
        "\n"
      ]
    },
    {
      "cell_type": "markdown",
      "metadata": {
        "id": "c5CJLcHhgRqp"
      },
      "source": [
        "# 3. Tuples"
      ]
    },
    {
      "cell_type": "code",
      "metadata": {
        "id": "5KnEmHhfgTy4"
      },
      "source": [
        ""
      ],
      "execution_count": null,
      "outputs": []
    }
  ]
}