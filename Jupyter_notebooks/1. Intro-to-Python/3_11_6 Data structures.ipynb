{
 "cells": [
  {
   "cell_type": "markdown",
   "metadata": {},
   "source": [
    "# 1. Introduction\n",
    "\n",
    "The definition of structures / sequence and what are they used for\n",
    "Explaining Mutable and Immutable data structures\n",
    "\n",
    "## 1.1 Lists \n",
    "The definition\n",
    "how to create an empty list \n",
    "creating a list containing values of the same data type and of different data types\n",
    "Updating its values with assigning\n",
    "Accessing values using access index\n",
    "\n",
    "Image: zero-based indexing\n",
    "positive and negative indexing\n",
    "\n",
    "Examples: \n",
    "Access the value with index and store it in variable\n",
    "Access value with index and print it (“Some sentence…[index]...end.”)\n",
    "Access the last value of string list\n",
    "Slicing\n",
    "how it works \n",
    "Examples: strings and integer examples of slicing\n",
    "\n",
    "Nested lists\n",
    "creating, updating data points, accessing values based on their position in the list of lists\n",
    "Examples\n",
    "\n",
    "\n",
    "## 1.2 Dictionaries\n",
    "The definition\n",
    "how to create an empty dictionary\n",
    "creating a dictionary \n",
    "constraints regarding keys\n",
    "Accessing keys and values\n",
    "Updating values\n",
    "\n",
    "\tExamples\n",
    "\n",
    "## 1.3 Tuples - maybe\n",
    "The definition\n",
    "how to create tuples\n",
    "Accessing values using access index \n",
    "Slicing\n",
    "Changing parts of tuple \n",
    "Examples\n"
   ]
  },
  {
   "cell_type": "code",
   "execution_count": null,
   "metadata": {},
   "outputs": [],
   "source": []
  }
 ],
 "metadata": {
  "kernelspec": {
   "display_name": "Python 3",
   "language": "python",
   "name": "python3"
  },
  "language_info": {
   "codemirror_mode": {
    "name": "ipython",
    "version": 3
   },
   "file_extension": ".py",
   "mimetype": "text/x-python",
   "name": "python",
   "nbconvert_exporter": "python",
   "pygments_lexer": "ipython3",
   "version": "3.7.7"
  }
 },
 "nbformat": 4,
 "nbformat_minor": 4
}
