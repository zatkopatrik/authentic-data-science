{
  "nbformat": 4,
  "nbformat_minor": 0,
  "metadata": {
    "colab": {
      "name": "2_11_1 Working with the notebook and Variables.ipynb",
      "provenance": [],
      "collapsed_sections": []
    },
    "kernelspec": {
      "name": "python3",
      "display_name": "Python 3"
    }
  },
  "cells": [
    {
      "cell_type": "markdown",
      "metadata": {
        "id": "D5V2ODKaINzA"
      },
      "source": [
        "# 0. Introduction to this notebook\n",
        "\n",
        ">A warm welcome to the very first notebook ! \n",
        "\n",
        "It´s divided into 2 parts, so let´s see what is ahead of us: \n",
        "\n",
        "- in the first section of this notebook we´ll \"take a walk\" throughout Colab notebook and briefly discuss capabilities and functionalities of the notebook itself. We´ll also get some basic knowledge about Markdown and code cells, how can we work with them and what are their capabilities.  \n",
        "\n",
        "- in the second part we´ll focus on one of the most crucial concept, **variables**, that are inevitable in the world of programming. It´s necessary to understand why we create variables, how they can be created and for what purpose. Next we´ll discuss that variables always have a specific type and how this type can be changed.   \n",
        "\n",
        "\n",
        "Without further ado, let´s begin our journey."
      ]
    },
    {
      "cell_type": "markdown",
      "metadata": {
        "id": "-uKfQSiVYGhv"
      },
      "source": [
        "# 1. Notebook walktrough\n",
        "\n",
        "In the previous article, \"Google Colaboratory\", we already mentioned a few functionalities such as renaming notebook or tracking changes. We obviously won´t go too much deep into other things that are listed under the menu tabs because most of them are pretty straightoforward. We´ll take a look at some of them and really encourage you to explore others by yourself to get more comfortable with this environemnt :)\n",
        "\n",
        "## 1.2 Edit menu\n",
        "\n",
        "We talked about **File** menu and listed functions in the previous article, so let´s move on and explore **Edit** menu. \n",
        "\n",
        "Here, you have various options about what can you do with the cells, such as:\n",
        "- reverting deleted cells (sometimes very useful feature :) at least for me)\n",
        "- selecting or copying cells (you can copy and paste selected cells into a different notebook)\n",
        "- finding and replacing numbers, strings in the cells\n",
        "\n",
        "- notebook settings: here you can change hardware accelerator  \n",
        "the options are as following:   \n",
        "None - when you choose this option, CPU is used for all computations  \n",
        "GPU and TPU - use one of these in the case you really need to\n",
        "\n",
        "## 1.3 View menu\n",
        "\n",
        "Under this tab, you can access or control:\n",
        "- Table of contents \n",
        "- basic information about a notebook\n",
        "- visibility of the code cell \n",
        "- visiblity of the outputs\n",
        "- collapsing of individual section\n",
        "\n",
        "## 1.4 Insert menu\n",
        "\n",
        "Dropping down we are able to insert:\n",
        "- text and code cell, headings\n",
        "- useful code snippets, explore them by yourself \n",
        "\n",
        "## 1.5 Runtime\n",
        "\n",
        "There are listed all options related to execution of cell under this menu:\n",
        "- you are able to execute the selection of cells or the whole notebook\n",
        "- change the runtime type (hardware accelerator)\n",
        "- or view runtime logs\n",
        "\n",
        "## 1.6 Tools menu\n",
        "\n",
        "Here you can find setting options, palette with listed commands or specific keyboard shortcuts that we discuss later. \n",
        "\n",
        "Functionalities such as Table of content, \"Find and replace\" and Code snipets can be found also on the left side of this notebook. \n",
        "If you click on the lowest icon that looks like a folder, you will see options such as:\n",
        "- upload to a session storage:   \n",
        "you can upload files from your local system\n",
        "these files will be deleted after the termination of a session\n",
        "- refreshing   \n",
        "\n",
        "- Mount Drive:  \n",
        "Giving permission to the notebook to access files on your Google Drive. By clicking on **Mount Drive**, a small window pop-up asking for permission. \n",
        "If you click on **Connect to Drive**, mounting of Drive in virtual machine´s runtime will begin and you will have access to the files.\n",
        "\n",
        "Another way how to mount drive is using code snippet that you can see below. When you execute the code, you will be asked to go to URL address in a browser and paste an authorization code. Before you will get to the code, you need to sign-in to your Google account and allow Google Drive for Desktop to access Drive. After pasting a authorization code, you can close the URL address. \n",
        "\n",
        "\n",
        "\n",
        "\n",
        "\n",
        "\n",
        "\n"
      ]
    },
    {
      "cell_type": "code",
      "metadata": {
        "colab": {
          "base_uri": "https://localhost:8080/"
        },
        "id": "pg5otuIczVix",
        "outputId": "44350fb8-5754-4c89-d47d-d16f5571265c"
      },
      "source": [
        "# Mounting Google Drive\n",
        "from google.colab import drive\n",
        "drive.mount('/content/drive')"
      ],
      "execution_count": null,
      "outputs": [
        {
          "output_type": "stream",
          "text": [
            "Mounted at /content/drive\n"
          ],
          "name": "stdout"
        }
      ]
    },
    {
      "cell_type": "markdown",
      "metadata": {
        "id": "gPoh7cjy0EbT"
      },
      "source": [
        "If everything went well, you should see the above output."
      ]
    },
    {
      "cell_type": "markdown",
      "metadata": {
        "id": "JwTLHa_zQWRE"
      },
      "source": [
        "# 2. Working with cells\n",
        "\n"
      ]
    },
    {
      "cell_type": "markdown",
      "metadata": {
        "id": "BaJg5x29RBbD"
      },
      "source": [
        "## 2.1 Markdown cells\n",
        "\n",
        "Markdown cells allow us to write texts, equations, formatting a particular style of text, insert links, images, etc. They are formatted using markup language called Markdown. Based on your Markdown formatting, the respective preview will be generated. Let´s look at some examples that could be useful for you later on. \n",
        "\n",
        "You can add a Markdown cell by clicking on `Text` cell under the `Menu` or clicking on `b` key on the keyboard. After you are done with writing, hit `Shift + ENTER` to render the output. After this action another new cell will be added below your previous cell.  \n",
        "\n",
        "Below you can see a new text cell where is a hint how you can start editting: just `double-click` on the cell or hit `ENTER`"
      ]
    },
    {
      "cell_type": "markdown",
      "metadata": {
        "id": "cqBP9kXdUh1E"
      },
      "source": [
        ""
      ]
    },
    {
      "cell_type": "markdown",
      "metadata": {
        "id": "O_5QJidNcXf1"
      },
      "source": [
        "Alternatively, if you want to add a new cell above, clik on `a` key on the keyword. Cells can be relocated upp and down by clicking on an arrow at the end of the cell you want to move: `Move cell up` or `Move cell down`. \n",
        "\n",
        "There are also another options available such as deleting the cell, adding a comment or a link or copying the cell with its content.\n",
        "\n",
        "Formatting options include several things you do with texts. Let´s introduce some of them as they are important in the term of notebook´s appearance. The formatting can be write manually or by clicking on the respective button on the top of a Markdown cell. \n",
        "\n",
        "### 2.1.1 Formatting\n",
        "If you think about some project (or this notebook), it´s nice to have the structure of your work. This can be acocmplished using **headings** that separate content of different sections. The main heading specify using hashtag. If you have another subsection (levels) of hierarchy, extent it by adding another hashtags.\n",
        "# This is the main heading\n",
        "## The second level\n",
        "### The third level\n",
        "\n",
        "All creating headings will appear in **Table of contents** and you can click through them to get to the particular section. \n",
        "\n",
        "To create ordered list you can type numbers, which creates numbered list:\n",
        "1. \n",
        "2.\n",
        "\n",
        "To create bulletted list use asterisk or dash:\n",
        "* \n",
        "* \n",
        "\n",
        "### 2.1.2 Adding a link  \n",
        "If you want to include a link in the text cell, the syntax is as following:\n",
        "- define the title or a webpage´s name inside square brackets\n",
        "- after that paste a link inside round brackets\n",
        "\n",
        "Click [here](https://en.wikipedia.org/wiki/Python_(programming_language) to see the webpage. \n",
        "\n",
        "### 2.1.3 Adding an image\n",
        "The syntax is similar as previous one when we added a link, but you must include exclamation mark right before squared brackets.\n",
        "\n",
        "Images stored as PNG, JPG or GIF can also be uploaded with coding approach using module `display` from IPython.\n",
        "```\n",
        "from google.colab import files\n",
        "from IPython import Image\n",
        "up = files.upload()\n",
        "Image('image.png', width = 600)\n",
        "```\n",
        "### 2.1.4 Adding an equation\n",
        "\n",
        "**dopisat**\n",
        "___\n",
        "*The keyboard shortcuts*   \n",
        ">There are also useful keyboard shortcuts for many features, that can ease working in the notebook. Of course, it takes some time to get used to it, but after working with notebok for a while these actions will become automatic for you. \n",
        ">The keyboard shortcuts can be displayed by clicking:\n",
        ">`CTRL/⌘ + M + H` on Mac or Windows respectively. Here you can see default  \n",
        ">settings of shortcuts or bind your own keys. \n",
        "____"
      ]
    },
    {
      "cell_type": "markdown",
      "metadata": {
        "id": "TY6FHUp5Uk-E"
      },
      "source": [
        "## 2.2 Code cells\n",
        "\n",
        "The ways how you can add a code cell:\n",
        "- drop down **Insert** menu and click on **Code cell**\n",
        "- click on **+Code** under the menu tabs\n",
        "- click on 'b' key on the keyboard"
      ]
    },
    {
      "cell_type": "code",
      "metadata": {
        "colab": {
          "base_uri": "https://localhost:8080/"
        },
        "id": "12DxqgUCctgy",
        "outputId": "f7dc5dc2-4e37-41d1-e676-3ffd88b33b27"
      },
      "source": [
        "print('Have a great day!')"
      ],
      "execution_count": null,
      "outputs": [
        {
          "output_type": "stream",
          "text": [
            "Have a great day!\n"
          ],
          "name": "stdout"
        }
      ]
    },
    {
      "cell_type": "markdown",
      "metadata": {
        "id": "32GK-ubEaLA4"
      },
      "source": [
        "Executing code snippet in a code cell can be acomplished by clicking on **run** button on the left side of code cell or you can select a particular option in **Runtime** menu. However, the fastest and most convenient way is to use keyboard shortcut **Shift + ENTER** to run the current cell. After that, the output will be generated directly below the cell.\n",
        "\n",
        "It is also possible to clear the generated output of the current cell. To clear all outputs in the notebook drop down **Edit** menu and click on **Clear all outputs**.\n"
      ]
    },
    {
      "cell_type": "markdown",
      "metadata": {
        "id": "5N4G2qGReK9S"
      },
      "source": [
        "# 3. Variables\n",
        "\n",
        "You can think of variable as a name you give to a value in order to store it. Each variable is stored in a particular memory location based on its data type. This value is 'transformed' to an object which you can later access and manipulate. \n",
        "\n",
        "## 3.1 Declaring a variable\n",
        "\n",
        "Declaring a variable is done by simply assigning a value to a variable name you choose by using assignment operator: **=**. \n",
        "\n",
        "Let´s store string value 'Have a great day!' to text variable. "
      ]
    },
    {
      "cell_type": "code",
      "metadata": {
        "id": "hkplj79nqzX8"
      },
      "source": [
        "# Declaring a variable\n",
        "text = 'Have a great day!'    # String value is assigned to text variable"
      ],
      "execution_count": null,
      "outputs": []
    },
    {
      "cell_type": "markdown",
      "metadata": {
        "id": "v_786utIsNP6"
      },
      "source": [
        "When you execute the above line of code, the output won´t be returned. In order to see what is stored in text variable we call `print()`."
      ]
    },
    {
      "cell_type": "code",
      "metadata": {
        "colab": {
          "base_uri": "https://localhost:8080/"
        },
        "id": "xcLzkgx0q15s",
        "outputId": "e633ac7a-a7a5-48a0-ed41-672244571437"
      },
      "source": [
        "# Printing the output\n",
        "print(text)"
      ],
      "execution_count": null,
      "outputs": [
        {
          "output_type": "stream",
          "text": [
            "Have a great day!\n"
          ],
          "name": "stdout"
        }
      ]
    },
    {
      "cell_type": "markdown",
      "metadata": {
        "id": "Ux3syFkks_pC"
      },
      "source": [
        "When declaring variable you don´t need to explicitly declare its data type. Python do so automatically during assignment process. Let´s return the data type of text variable using `type()` function. "
      ]
    },
    {
      "cell_type": "code",
      "metadata": {
        "colab": {
          "base_uri": "https://localhost:8080/"
        },
        "id": "DYNShkNys9S4",
        "outputId": "53bce105-f112-4528-e06b-c97925e9cdbe"
      },
      "source": [
        "# Returning the data type\n",
        "print(type(text))"
      ],
      "execution_count": null,
      "outputs": [
        {
          "output_type": "stream",
          "text": [
            "<class 'str'>\n"
          ],
          "name": "stdout"
        }
      ]
    },
    {
      "cell_type": "markdown",
      "metadata": {
        "id": "NcB9R1gmslyz"
      },
      "source": [
        "The returned output states `<class 'str'>`. Class is simply a code template which is used to create an object = such as values of variable. What is actually happening behind the scene: when we assign the value to the variable, Python gives the reference of value (object) to the variable. The name of variable we chose is technically called Python `identifier`.\n",
        "\n",
        "We see that Python assign text variable to  `string` data type, which is correct. In some cases such a declaring can be wrong, but we have control over it and can change it. We´ll demostrate data type conversion later on.    \n",
        "___    \n",
        "Let´s create result_1 variable that holds number, more specifically integer (`int` data type) and print the output. You will learn more about integers in the Basic Data types notebook.\n"
      ]
    },
    {
      "cell_type": "code",
      "metadata": {
        "id": "GpZ9P-NMskmK"
      },
      "source": [
        "# Declaring a variabe\n",
        "result_1 = 123"
      ],
      "execution_count": null,
      "outputs": []
    },
    {
      "cell_type": "code",
      "metadata": {
        "colab": {
          "base_uri": "https://localhost:8080/"
        },
        "id": "ZqySDB_d2Q2q",
        "outputId": "4489e31f-4f03-4457-b9c3-7863b2a689f9"
      },
      "source": [
        "# Printing the output\n",
        "print(result_1)\n",
        "# Returning the data type\n",
        "print(type(result_1))"
      ],
      "execution_count": null,
      "outputs": [
        {
          "output_type": "stream",
          "text": [
            "123\n",
            "<class 'int'>\n"
          ],
          "name": "stdout"
        }
      ]
    },
    {
      "cell_type": "markdown",
      "metadata": {
        "id": "65SM83H-2mgj"
      },
      "source": [
        "> Note: \n",
        "> Remember that assignment syntax must be as following. Firstly, you define a variable name that is to the left of the assignment operator. Then write a value to the right of operator.\n",
        "\n",
        "\n",
        "```\n",
        "my_variable = 224\n",
        "```\n",
        "NOT oppositely:\n",
        "\n",
        "\n",
        "```\n",
        "224 = my_variable\n",
        "```\n",
        "\n",
        "\n",
        "\n",
        "\n",
        "Once we declare a variable we can substitute its value by reassigning. The original result_1 variable holds number 123. Below we are assigning the new value 1500."
      ]
    },
    {
      "cell_type": "code",
      "metadata": {
        "colab": {
          "base_uri": "https://localhost:8080/"
        },
        "id": "PeJ1zIXc2UDi",
        "outputId": "6389a7c5-a453-450b-d487-df8314a509eb"
      },
      "source": [
        "result_1 = 1500\n",
        "print(result_1)"
      ],
      "execution_count": null,
      "outputs": [
        {
          "output_type": "stream",
          "text": [
            "1500\n"
          ],
          "name": "stdout"
        }
      ]
    },
    {
      "cell_type": "markdown",
      "metadata": {
        "id": "JxCLQM1ERyJm"
      },
      "source": [
        "We can also assign some mathematical operation to a variable as you can see in the below example. When we call `print()` and pass result_2 as argument, the result of this operation will be returned."
      ]
    },
    {
      "cell_type": "code",
      "metadata": {
        "colab": {
          "base_uri": "https://localhost:8080/"
        },
        "id": "lkZ0ZVfC2zfV",
        "outputId": "efe67945-85f5-4147-e493-9ad53bf3a1fb"
      },
      "source": [
        "# Declaring a variabe with mathematical operation\n",
        "result_2 = (15**2) - (28//2)\n",
        "# Printing the output\n",
        "print(result_2)"
      ],
      "execution_count": null,
      "outputs": [
        {
          "output_type": "stream",
          "text": [
            "211\n"
          ],
          "name": "stdout"
        }
      ]
    },
    {
      "cell_type": "markdown",
      "metadata": {
        "id": "S6tzz4HyTHmc"
      },
      "source": [
        "Since result_2 variable is stored in the specific storage location we can access it and use to create a new variable. Let´s say that we want to substract number 11 from result_2 and store the output in a new variable. We can do following:"
      ]
    },
    {
      "cell_type": "code",
      "metadata": {
        "colab": {
          "base_uri": "https://localhost:8080/"
        },
        "id": "UF7LLhFKRxIt",
        "outputId": "84f57fb1-6c2e-439b-d6c5-deca5ac03107"
      },
      "source": [
        "# Creating a new variable using the output of result_2\n",
        "result_2_updated = result_2 - 11\n",
        "# Printing the output\n",
        "print(result_2_updated)"
      ],
      "execution_count": null,
      "outputs": [
        {
          "output_type": "stream",
          "text": [
            "200\n"
          ],
          "name": "stdout"
        }
      ]
    },
    {
      "cell_type": "markdown",
      "metadata": {
        "id": "r4a43CUnXsO1"
      },
      "source": [
        ">For curiosity: As we already mentioned, each variable is actually an identifier in Python. When declaring, this identifier is given a unique number which is simply said, the exact place in memory, where variable \"lives\". You can create as many variables as you want and still no 2 variables will have the same unique number. You can return variable´s unique number using `id()` function."
      ]
    },
    {
      "cell_type": "code",
      "metadata": {
        "colab": {
          "base_uri": "https://localhost:8080/"
        },
        "id": "bZJ0LEFBTGcG",
        "outputId": "8e32db82-2b0d-4e93-fa75-b545dc28b0a6"
      },
      "source": [
        "print('Variable result_2: ',id(result_2),'\\n','Variable result_2_updated: ',id(result_2_updated))"
      ],
      "execution_count": null,
      "outputs": [
        {
          "output_type": "stream",
          "text": [
            "Variable result_2:  94336333333568 \n",
            " Variable result_2_updated:  94336333333216\n"
          ],
          "name": "stdout"
        }
      ]
    },
    {
      "cell_type": "markdown",
      "metadata": {
        "id": "dYopkEEsakzK"
      },
      "source": [
        "Let´s store another numeric type float - floating point number which is characteristic with a decimal point."
      ]
    },
    {
      "cell_type": "code",
      "metadata": {
        "colab": {
          "base_uri": "https://localhost:8080/"
        },
        "id": "CQZYrio8WVh7",
        "outputId": "187a3716-eb7b-4257-9a60-d690b1887934"
      },
      "source": [
        "# Declaring a variable\n",
        "my_float = 148.84\n",
        "# Printing the output\n",
        "print(my_float)\n",
        "# Returning the data type\n",
        "print(type(my_float))"
      ],
      "execution_count": null,
      "outputs": [
        {
          "output_type": "stream",
          "text": [
            "148.84\n",
            "<class 'float'>\n"
          ],
          "name": "stdout"
        }
      ]
    },
    {
      "cell_type": "markdown",
      "metadata": {
        "id": "WDS61kILxiRx"
      },
      "source": [
        "## 3.3 Naming conventions and some rules \n",
        "\n",
        "> Let´s take an example (although maybe it is not so realistic). Suppose you are taking aside bills from your shopping in the supermarket for the period of almost 6 months. You are recording purchase date, information about the price, category and the quantity of each item you bought, the name of item, etc. Now, you would like to summarize how much money you spend on the specific category. There could be groceries, cosmetics, games, restaurants, food articles used to make a nice dinner for your friends, etc.\n",
        "\n",
        "> You want to focus on a specific category - games category - because you are talking to yourself when looking at your collection: \"Hm this is great, I received all possible achievements in the most games I owned! Really, practice makes perfect! I also purchased many items I always wanted in my favorite games that are so cool. Wait...how much money did I actually spend? \n",
        "\n",
        "You decided to filter your data only for games category and make some visualization or summary statistic. The first step is create a variable to store data you want to analyze. \n",
        "\n",
        "At this point we come to **the rules and naming coventions**. Some of the examples might look **dopisat**\n",
        "\n",
        "**1. variable name must starts with a letter / underscore**\n",
        "\n",
        "Appropriate examples could look like:\n",
        "\n",
        "a) `games`     \n",
        "b) `_games` - in this case I think the underscore is not necessary, but if you want to name your variables in this way you surely can\n",
        "\n",
        "> variable names can contain letters \n",
        "\n",
        "> if the variable name starts with a number, it will throw a SyntaxError\n",
        "\n",
        "**variable names are **case sensitive**\n",
        "\n",
        "** give meaningful variable names**\n",
        "\n",
        "Possible name that could come to mind could be: \n",
        "\n",
        "`gs` - the first and the last letter of games \n",
        "\n",
        "Yes, looks fine, but after dozens of code snippets, integrating this variable into something else and coming after few weeks to your code back, it might not be so obvious what were you refering to. \n",
        "\n",
        "**2. \n",
        "\n",
        "\n",
        "\n",
        "\n",
        "- Syntax rules\n",
        "\n",
        "- pythonic way\n",
        "\n",
        "- case sensitivity\n",
        "\n",
        "- Python keyword and identifiers - Awareness of reserved words\n",
        "\n",
        "\n"
      ]
    },
    {
      "cell_type": "code",
      "metadata": {
        "id": "BJloCsHbIfk6"
      },
      "source": [
        ""
      ],
      "execution_count": null,
      "outputs": []
    }
  ]
}